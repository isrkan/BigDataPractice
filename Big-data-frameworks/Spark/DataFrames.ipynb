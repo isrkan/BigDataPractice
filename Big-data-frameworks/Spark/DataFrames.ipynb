{
 "cells": [
  {
   "cell_type": "markdown",
   "id": "9eacdbc0-926b-4419-91f2-5b2db7512d98",
   "metadata": {},
   "source": [
    "# Exploring movie ratings dataset with PySpark DataFrames\n",
    "\n",
    "This project focuses on exploring the MovieLens dataset using PySpark DataFrame operations. Unlike Spark SQL, which relies on SQL queries, PySpark DataFrames offer a more Pythonic approach to data manipulation and analysis."
   ]
  },
  {
   "cell_type": "code",
   "execution_count": 1,
   "id": "b1b8d5b8-38c0-4ded-bace-dae110214415",
   "metadata": {
    "tags": []
   },
   "outputs": [],
   "source": [
    "from pyspark.sql import SparkSession\n",
    "from pyspark.sql import functions as F\n",
    "from pyspark.sql.types import StructType, StructField, StringType, IntegerType"
   ]
  },
  {
   "cell_type": "code",
   "execution_count": 2,
   "id": "e41079b2-202e-4aa2-a53f-3cb9b49a2c06",
   "metadata": {
    "tags": []
   },
   "outputs": [],
   "source": [
    "# Create a SparkSession as the entry point to Spark SQL functionality\n",
    "spark = SparkSession.builder.appName(\"DataFramesExploration\").getOrCreate()"
   ]
  },
  {
   "cell_type": "code",
   "execution_count": 3,
   "id": "95446b4d-692d-40d5-9cef-71746721d7ed",
   "metadata": {
    "tags": []
   },
   "outputs": [
    {
     "name": "stdout",
     "output_type": "stream",
     "text": [
      "Dataframe Schema:\n",
      "root\n",
      " |-- user_id: integer (nullable = true)\n",
      " |-- movie_id: integer (nullable = true)\n",
      " |-- rating: integer (nullable = true)\n",
      " |-- timestamp: integer (nullable = true)\n",
      "\n",
      "\n",
      "First few rows of the Dataframe:\n"
     ]
    },
    {
     "data": {
      "text/plain": [
       "[Row(user_id=196, movie_id=242, rating=3, timestamp=881250949),\n",
       " Row(user_id=186, movie_id=302, rating=3, timestamp=891717742),\n",
       " Row(user_id=22, movie_id=377, rating=1, timestamp=878887116),\n",
       " Row(user_id=244, movie_id=51, rating=2, timestamp=880606923),\n",
       " Row(user_id=166, movie_id=346, rating=1, timestamp=886397596)]"
      ]
     },
     "execution_count": 3,
     "metadata": {},
     "output_type": "execute_result"
    }
   ],
   "source": [
    "# Load the MovieLens dataset and rename the columns\n",
    "data_df = spark.read.csv(\"ml-100k/ml-100k/u.data\", inferSchema=True, sep=\"\\t\", header=False)\n",
    "data_df = data_df.withColumnRenamed(\"_c0\", \"user_id\").withColumnRenamed(\"_c1\", \"movie_id\").withColumnRenamed(\"_c2\", \"rating\").withColumnRenamed(\"_c3\", \"timestamp\")\n",
    "\n",
    "# Show the schema of the dataframe, which helps in understanding the structure of the data\n",
    "print(\"Dataframe Schema:\")\n",
    "data_df.printSchema()\n",
    "print(\"\\nFirst few rows of the Dataframe:\")\n",
    "# The take method retrieves the first few rows of the dataframe as a list of row objects, which can be accessed programmatically\n",
    "data_df.take(5)"
   ]
  },
  {
   "cell_type": "markdown",
   "id": "9f7cfa37-0652-40b4-a41a-d847f4e937f6",
   "metadata": {},
   "source": [
    "#### DataFrame operations"
   ]
  },
  {
   "cell_type": "code",
   "execution_count": 4,
   "id": "55b99371-a2c4-4406-adc7-d51190d60393",
   "metadata": {
    "tags": []
   },
   "outputs": [
    {
     "name": "stdout",
     "output_type": "stream",
     "text": [
      "Number of ratings: 100000\n"
     ]
    }
   ],
   "source": [
    "# Count the number of ratings\n",
    "num_ratings = data_df.count()\n",
    "print(f\"Number of ratings: {num_ratings}\")"
   ]
  },
  {
   "cell_type": "code",
   "execution_count": 5,
   "id": "e7533785-7fc6-435f-9200-e333ae8927da",
   "metadata": {
    "tags": []
   },
   "outputs": [
    {
     "name": "stdout",
     "output_type": "stream",
     "text": [
      "Average rating per movie:\n",
      "+--------+------------+------------+------------------+\n",
      "|movie_id|total_rating|rating_count|        avg_rating|\n",
      "+--------+------------+------------+------------------+\n",
      "|     496|         952|         231| 4.121212121212121|\n",
      "|     471|         798|         221|3.6108597285067874|\n",
      "|     463|         274|          71| 3.859154929577465|\n",
      "|     148|         410|         128|          3.203125|\n",
      "|    1342|           5|           2|               2.5|\n",
      "+--------+------------+------------+------------------+\n",
      "only showing top 5 rows\n",
      "\n"
     ]
    }
   ],
   "source": [
    "# Calculate the total rating and count per movie\n",
    "movie_rating_counts = data_df.groupBy(\"movie_id\").agg(F.sum(\"rating\").alias(\"total_rating\"), F.count(\"rating\").alias(\"rating_count\"))\n",
    "# Cache the movie_rating_counts\n",
    "# Caching this dataframe improves performance by storing it in memory (or disk) after its first computation\n",
    "# Subsequent computations that depend on this dataframe will retrieve it from the cache instead of recomputing it\n",
    "movie_rating_counts.cache()\n",
    "\n",
    "# Calculate the average rating per movie. withColumn method adds a new column to the dataframe\n",
    "average_rating_per_movie = movie_rating_counts.withColumn(\"avg_rating\", F.col(\"total_rating\") / F.col(\"rating_count\"))\n",
    "# persist is similar to cache in that it stores the dataframe in memory or disk for future use to avoid recomputation\n",
    "# It provides more control over the storage level and allows specifying whether the data should be stored only in memory, on disk, or a combination of both\n",
    "# MEMORY_AND_DISK ensures that if the dataframe does not fit in memory, it will spill over to disk\n",
    "average_rating_per_movie.persist(storageLevel=StorageLevel.MEMORY_AND_DISK)\n",
    "print(\"Average rating per movie:\")\n",
    "average_rating_per_movie.show(5)"
   ]
  },
  {
   "cell_type": "code",
   "execution_count": 6,
   "id": "f581740f-3936-4a5e-ba49-97b07a4df059",
   "metadata": {
    "tags": []
   },
   "outputs": [
    {
     "name": "stdout",
     "output_type": "stream",
     "text": [
      "Average rating: 3.53\n",
      "\n",
      "Number of unique users: 943\n",
      "Number of unique movies: 1682\n"
     ]
    }
   ],
   "source": [
    "# Calculate the average rating. The collect method retrieves the result as a list of row objects\n",
    "average_rating = data_df.agg({\"rating\": \"avg\"}).collect()[0][0]\n",
    "print(f\"Average rating: {average_rating:.2f}\")\n",
    "\n",
    "#Find unique users and movies\n",
    "unique_users = data_df.select(\"user_id\").distinct().count()\n",
    "unique_movies = data_df.select(\"movie_id\").distinct().count()\n",
    "print(\"\\nNumber of unique users:\", unique_users)\n",
    "print(\"Number of unique movies:\", unique_movies)"
   ]
  },
  {
   "cell_type": "code",
   "execution_count": 7,
   "id": "1f5b82bf-9826-4e20-b914-7d773758a145",
   "metadata": {
    "tags": []
   },
   "outputs": [
    {
     "name": "stdout",
     "output_type": "stream",
     "text": [
      "Total ratings per movie:\n",
      "+--------+------------+\n",
      "|movie_id|rating_count|\n",
      "+--------+------------+\n",
      "|     496|         231|\n",
      "|     471|         221|\n",
      "|     463|          71|\n",
      "|     148|         128|\n",
      "|    1342|           2|\n",
      "+--------+------------+\n",
      "only showing top 5 rows\n",
      "\n",
      "\n",
      "Popular movies:\n",
      "+--------+------------+------------+\n",
      "|movie_id|total_rating|rating_count|\n",
      "+--------+------------+------------+\n",
      "|     496|         952|         231|\n",
      "|     471|         798|         221|\n",
      "|     148|         410|         128|\n",
      "|     243|         322|         132|\n",
      "|      31|         559|         154|\n",
      "+--------+------------+------------+\n",
      "only showing top 5 rows\n",
      "\n"
     ]
    }
   ],
   "source": [
    "# Calculate the total number of ratings per movie\n",
    "total_ratings_per_movie = movie_rating_counts.select(\"movie_id\", \"rating_count\")\n",
    "print(\"Total ratings per movie:\")\n",
    "total_ratings_per_movie.show(5)\n",
    "\n",
    "# Filter movies with a minimum number of ratings\n",
    "popular_movies = movie_rating_counts.filter(\"rating_count >= 100\")\n",
    "print(\"\\nPopular movies:\")\n",
    "popular_movies.show(5)"
   ]
  },
  {
   "cell_type": "code",
   "execution_count": 8,
   "id": "e86d7a63-33e4-4d56-9633-1dc67f76fd0f",
   "metadata": {
    "tags": []
   },
   "outputs": [
    {
     "name": "stdout",
     "output_type": "stream",
     "text": [
      "Most rated movies:\n",
      "+--------+------------+------------+\n",
      "|movie_id|total_rating|rating_count|\n",
      "+--------+------------+------------+\n",
      "|      50|        2541|         583|\n",
      "|     258|        1936|         509|\n",
      "|     100|        2111|         508|\n",
      "|     181|        2032|         507|\n",
      "|     294|        1531|         485|\n",
      "+--------+------------+------------+\n",
      "only showing top 5 rows\n",
      "\n",
      "\n",
      "Least rated movies:\n",
      "+--------+------------+------------+\n",
      "|movie_id|total_rating|rating_count|\n",
      "+--------+------------+------------+\n",
      "|    1645|           4|           1|\n",
      "|    1507|           3|           1|\n",
      "|    1653|           5|           1|\n",
      "|    1675|           3|           1|\n",
      "|    1460|           3|           1|\n",
      "+--------+------------+------------+\n",
      "only showing top 5 rows\n",
      "\n"
     ]
    }
   ],
   "source": [
    "# Find the most and least rated movies\n",
    "most_rated_movies = movie_rating_counts.orderBy(F.desc(\"rating_count\"))\n",
    "print(\"Most rated movies:\")\n",
    "most_rated_movies.show(5)\n",
    "\n",
    "least_rated_movies = movie_rating_counts.orderBy(\"rating_count\")\n",
    "print(\"\\nLeast rated movies:\")\n",
    "least_rated_movies.show(5)"
   ]
  },
  {
   "cell_type": "code",
   "execution_count": 9,
   "id": "9507fb49-26b0-4b0c-83b3-9c223f2c6a5d",
   "metadata": {
    "tags": []
   },
   "outputs": [
    {
     "name": "stdout",
     "output_type": "stream",
     "text": [
      "Users who rated the most movies:\n",
      "+-------+-----------+\n",
      "|user_id|num_ratings|\n",
      "+-------+-----------+\n",
      "|    405|        737|\n",
      "|    655|        685|\n",
      "|     13|        636|\n",
      "|    450|        540|\n",
      "|    276|        518|\n",
      "+-------+-----------+\n",
      "only showing top 5 rows\n",
      "\n"
     ]
    }
   ],
   "source": [
    "# Find users who rated the most movies\n",
    "most_active_users = data_df.groupBy(\"user_id\").agg(F.count(\"*\").alias(\"num_ratings\")).orderBy(F.desc(\"num_ratings\"))\n",
    "print(\"Users who rated the most movies:\")\n",
    "most_active_users.show(5)"
   ]
  },
  {
   "cell_type": "code",
   "execution_count": 10,
   "id": "074dafee-e9b3-4988-b356-502ac11b374c",
   "metadata": {
    "tags": []
   },
   "outputs": [
    {
     "name": "stdout",
     "output_type": "stream",
     "text": [
      "Rating distribution:\n",
      "+------+-----+\n",
      "|rating|count|\n",
      "+------+-----+\n",
      "|     1| 6110|\n",
      "|     2|11370|\n",
      "|     3|27145|\n",
      "|     4|34174|\n",
      "|     5|21201|\n",
      "+------+-----+\n",
      "\n"
     ]
    }
   ],
   "source": [
    "# Find the distribution of ratings and sort by key\n",
    "rating_distribution = data_df.groupBy(\"rating\").agg(F.count(\"*\").alias(\"count\")).orderBy(\"rating\")\n",
    "print(\"Rating distribution:\")\n",
    "rating_distribution.show()"
   ]
  },
  {
   "cell_type": "code",
   "execution_count": 11,
   "id": "9c0e39a1-cdfe-43e1-849b-486a9035208f",
   "metadata": {
    "tags": []
   },
   "outputs": [
    {
     "name": "stdout",
     "output_type": "stream",
     "text": [
      "Average rating per movie:\n",
      "+--------+------------+------------+------------------+\n",
      "|movie_id|total_rating|rating_count|avg_rating        |\n",
      "+--------+------------+------------+------------------+\n",
      "|496     |952         |231         |4.121212121212121 |\n",
      "|471     |798         |221         |3.6108597285067874|\n",
      "|463     |274         |71          |3.859154929577465 |\n",
      "|148     |410         |128         |3.203125          |\n",
      "|1342    |5           |2           |2.5               |\n",
      "+--------+------------+------------+------------------+\n",
      "only showing top 5 rows\n",
      "\n"
     ]
    }
   ],
   "source": [
    "# Group ratings by movie id and calculate sum and count of ratings for each movie\n",
    "movie_rating_sum_count = data_df.groupBy(\"movie_id\").agg(F.sum(\"rating\").alias(\"total_rating\"), F.count(\"rating\").alias(\"rating_count\"))\n",
    "\n",
    "# Calculate average rating for each movie\n",
    "average_rating_per_movie = movie_rating_sum_count.withColumn(\"avg_rating\", F.col(\"total_rating\") / F.col(\"rating_count\"))\n",
    "print(\"Average rating per movie:\")\n",
    "average_rating_per_movie.show(5, truncate=False)"
   ]
  },
  {
   "cell_type": "code",
   "execution_count": 12,
   "id": "72370d6e-e901-4cde-9407-ff1bdda99847",
   "metadata": {
    "tags": []
   },
   "outputs": [
    {
     "name": "stdout",
     "output_type": "stream",
     "text": [
      "Values of movies:\n",
      "+--------+-----------------+------+\n",
      "|movie_id|            title|genres|\n",
      "+--------+-----------------+------+\n",
      "|       1| Toy Story (1995)|     0|\n",
      "|       2| GoldenEye (1995)|     0|\n",
      "|       3|Four Rooms (1995)|     0|\n",
      "|       4|Get Shorty (1995)|     0|\n",
      "|       5|   Copycat (1995)|     0|\n",
      "+--------+-----------------+------+\n",
      "only showing top 5 rows\n",
      "\n",
      "\n",
      "Movies with averaged rating:\n",
      "+--------+-----------------+------+------------+------------+------------------+\n",
      "|movie_id|            title|genres|total_rating|rating_count|        avg_rating|\n",
      "+--------+-----------------+------+------------+------------+------------------+\n",
      "|       1| Toy Story (1995)|     0|        1753|         452|3.8783185840707963|\n",
      "|       2| GoldenEye (1995)|     0|         420|         131|3.2061068702290076|\n",
      "|       3|Four Rooms (1995)|     0|         273|          90| 3.033333333333333|\n",
      "|       4|Get Shorty (1995)|     0|         742|         209| 3.550239234449761|\n",
      "|       5|   Copycat (1995)|     0|         284|          86| 3.302325581395349|\n",
      "+--------+-----------------+------+------------+------------+------------------+\n",
      "only showing top 5 rows\n",
      "\n"
     ]
    }
   ],
   "source": [
    "# Read the csv file of movies and select relevant columns\n",
    "movie_titles_genres_df = spark.read.option(\"delimiter\", \"|\").csv(\"ml-100k/ml-100k/u.item\").selectExpr(\"_c0 as movie_id\", \"_c1 as title\", \"_c5 as genres\")\n",
    "\n",
    "# Define schema for movie titles and genres dataframe\n",
    "schema = StructType([\n",
    "    StructField(\"movie_id\", StringType(), True),\n",
    "    StructField(\"title\", StringType(), True),\n",
    "    StructField(\"genres\", StringType(), True)\n",
    "])\n",
    "# Apply schema to dataframe\n",
    "movie_titles_genres_df = spark.createDataFrame(movie_titles_genres_df.rdd, schema)\n",
    "\n",
    "print(\"Values of movies:\")\n",
    "movie_titles_genres_df.show(5)\n",
    "\n",
    "# Join movie_titles_genres with average_rating_per_movie by movie_id\n",
    "movies_with_ratings = movie_titles_genres_df.join(average_rating_per_movie, on=\"movie_id\", how=\"inner\")\n",
    "\n",
    "print(\"\\nMovies with averaged rating:\")\n",
    "movies_with_ratings.show(5)"
   ]
  },
  {
   "cell_type": "code",
   "execution_count": 13,
   "id": "76d1e979-cae9-4c0a-92af-cd13fd4226a4",
   "metadata": {
    "tags": []
   },
   "outputs": [
    {
     "name": "stdout",
     "output_type": "stream",
     "text": [
      "Number of genres: 2\n",
      "\n",
      "Average rating per genre:\n",
      "+-----+------------------+\n",
      "|genre|        avg_rating|\n",
      "+-----+------------------+\n",
      "|    0|3.0770609634276855|\n",
      "|    1|2.2222222222222223|\n",
      "+-----+------------------+\n",
      "\n"
     ]
    }
   ],
   "source": [
    "# Extract genres and count distinct values\n",
    "distinct_genres_count = movie_titles_genres_df.select(F.explode(F.split(\"genres\", \",\")).alias(\"genre\")).distinct().count()\n",
    "print(f\"Number of genres: {distinct_genres_count}\")\n",
    "\n",
    "# Calculate average rating per genre\n",
    "average_rating_per_genre_df = movie_titles_genres_df.join(average_rating_per_movie, on=\"movie_id\", how=\"inner\").select(F.explode(F.split(\"genres\", \",\")).alias(\"genre\"), \"avg_rating\").groupBy(\"genre\").agg(F.avg(\"avg_rating\").alias(\"avg_rating\"))\n",
    "\n",
    "print(\"\\nAverage rating per genre:\")\n",
    "average_rating_per_genre_df.show(5)"
   ]
  },
  {
   "cell_type": "code",
   "execution_count": 14,
   "id": "17e2dd48-9735-4b0c-b500-635d84cf76a3",
   "metadata": {
    "tags": []
   },
   "outputs": [
    {
     "name": "stdout",
     "output_type": "stream",
     "text": [
      "Sentiment distribution of ratings:\n",
      "+---------+-----+\n",
      "|sentiment|count|\n",
      "+---------+-----+\n",
      "|  Neutral|27145|\n",
      "| Positive|55375|\n",
      "| Negative|17480|\n",
      "+---------+-----+\n",
      "\n"
     ]
    }
   ],
   "source": [
    "# Define user defined function (udf) to convert rating to sentiment\n",
    "def rating_sentiment(rating):\n",
    "    rating = int(rating)\n",
    "    if rating >= 4:\n",
    "        return \"Positive\"\n",
    "    elif rating <= 2:\n",
    "        return \"Negative\"\n",
    "    else:\n",
    "        return \"Neutral\"\n",
    "\n",
    "# Register udf with Spark sql\n",
    "spark.udf.register(\"rating_sentiment\", rating_sentiment, StringType())\n",
    "\n",
    "# Calculate sentiment distribution of ratings\n",
    "# The F.expr is used to apply the udf to the rating column and generate sentiment labels\n",
    "rating_sentiment_distribution = data_df.groupBy(F.expr(\"rating_sentiment(rating)\").alias(\"sentiment\")).agg(F.count(\"*\").alias(\"count\"))\n",
    "\n",
    "print(\"Sentiment distribution of ratings:\")\n",
    "rating_sentiment_distribution.show()"
   ]
  },
  {
   "cell_type": "code",
   "execution_count": 15,
   "id": "c7994cb2-9bef-43bf-982c-eb512f12f085",
   "metadata": {
    "tags": []
   },
   "outputs": [
    {
     "name": "stdout",
     "output_type": "stream",
     "text": [
      "Users data:\n",
      "+-------+---+------+----------+\n",
      "|user_id|age|gender|occupation|\n",
      "+-------+---+------+----------+\n",
      "|      1| 24|     M|technician|\n",
      "|      2| 53|     F|     other|\n",
      "|      3| 23|     M|    writer|\n",
      "|      4| 24|     M|technician|\n",
      "|      5| 33|     F|     other|\n",
      "+-------+---+------+----------+\n",
      "only showing top 5 rows\n",
      "\n",
      "\n",
      "Average age of users: 34.05\n",
      "\n",
      "Maximum age among users: 73\n",
      "\n",
      "Total number of users: 943\n",
      "\n",
      "Number of users aged 30: 448\n",
      "\n",
      "Most common occupation among users: student\n"
     ]
    }
   ],
   "source": [
    "# Define the schema for the users dataframe\n",
    "schema_user_data = StructType([\n",
    "    StructField(\"user_id\", IntegerType(), True),\n",
    "    StructField(\"age\", IntegerType(), True),\n",
    "    StructField(\"gender\", StringType(), True),\n",
    "    StructField(\"occupation\", StringType(), True)\n",
    "])\n",
    "\n",
    "# Load the users dataset and apply the defined schema\n",
    "user_df = spark.read.option(\"delimiter\", \"|\").csv(\"ml-100k/ml-100k/u.user\", schema=schema_user_data)\n",
    "print(\"Users data:\")\n",
    "user_df.show(5)\n",
    "\n",
    "# Broadcast the collected data to all nodes in the Spark cluster\n",
    "# We use broadcasting mechanism to efficiently distribute large read-only datasets to all nodes in a Spark cluster\n",
    "# Each executor will have a copy of the broadcasted data in memory, avoiding the need to transfer the data multiple times over the network\n",
    "# Broadcasting requires that the data being broadcasted is available (collected) on the driver node\n",
    "broadcast_user_data = spark.sparkContext.broadcast(user_df.collect())\n",
    "\n",
    "# Perform analysis using the broadcasted data\n",
    "# Calculate the average age of users\n",
    "average_age = sum(row[\"age\"] for row in broadcast_user_data.value) / len(broadcast_user_data.value)\n",
    "print(f\"\\nAverage age of users: {average_age:.2f}\")\n",
    "\n",
    "# Find the maximum age among users\n",
    "max_age = max(row[\"age\"] for row in broadcast_user_data.value)\n",
    "print(f\"\\nMaximum age among users: {max_age}\")\n",
    "\n",
    "# Calculate the total number of users\n",
    "total_users = len(broadcast_user_data.value)\n",
    "print(f\"\\nTotal number of users: {total_users}\")\n",
    "\n",
    "# Calculate the number of users aged 30 or below\n",
    "users_aged_30 = sum(1 for row in broadcast_user_data.value if row[\"age\"] <= 30)\n",
    "print(f\"\\nNumber of users aged 30: {users_aged_30}\")\n",
    "\n",
    "# Most common occupation among users\n",
    "most_common_occupation = max(set(row[\"occupation\"] for row in broadcast_user_data.value), key=lambda x: sum(1 for row in broadcast_user_data.value if row[\"occupation\"] == x))\n",
    "print(f\"\\nMost common occupation among users: {most_common_occupation}\")"
   ]
  },
  {
   "cell_type": "code",
   "execution_count": 16,
   "id": "6694337b-58a0-41e7-a02a-a793be8844dc",
   "metadata": {
    "tags": []
   },
   "outputs": [],
   "source": [
    "spark.stop()"
   ]
  }
 ],
 "metadata": {
  "kernelspec": {
   "display_name": "Python 3 (ipykernel)",
   "language": "python",
   "name": "python3"
  },
  "language_info": {
   "codemirror_mode": {
    "name": "ipython",
    "version": 3
   },
   "file_extension": ".py",
   "mimetype": "text/x-python",
   "name": "python",
   "nbconvert_exporter": "python",
   "pygments_lexer": "ipython3",
   "version": "3.9.13"
  }
 },
 "nbformat": 4,
 "nbformat_minor": 5
}
