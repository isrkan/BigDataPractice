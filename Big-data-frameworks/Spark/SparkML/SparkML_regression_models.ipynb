{
 "cells": [
  {
   "cell_type": "markdown",
   "id": "78737004-c969-4fb3-a118-1e7a7f39168c",
   "metadata": {},
   "source": [
    "# Exploring Spark ML regression models for movie ratings prediction\n",
    "\n",
    "In this project, we explore Spark ML to predict movie ratings using various ML and regression models."
   ]
  },
  {
   "cell_type": "code",
   "execution_count": 1,
   "id": "4dd53aad-2064-4b5a-8639-1a791ffe9a9e",
   "metadata": {
    "tags": []
   },
   "outputs": [],
   "source": [
    "from pyspark.sql import SparkSession\n",
    "from pyspark.ml.feature import VectorAssembler, StringIndexer\n",
    "from pyspark.ml.regression import LinearRegression, GeneralizedLinearRegression, DecisionTreeRegressor\n",
    "from pyspark.ml.evaluation import RegressionEvaluator"
   ]
  },
  {
   "cell_type": "code",
   "execution_count": 2,
   "id": "70fed97e-6a40-46c7-87cf-e50abe7e4b77",
   "metadata": {
    "tags": []
   },
   "outputs": [],
   "source": [
    "# Create a SparkSession as the entry point to Spark SQL functionality\n",
    "spark = SparkSession.builder.appName(\"MovieLens Regression Model\").getOrCreate()"
   ]
  },
  {
   "cell_type": "markdown",
   "id": "3f272af6-1167-40e1-82c6-14969f4fdd5c",
   "metadata": {},
   "source": [
    "### Data import and preparation"
   ]
  },
  {
   "cell_type": "code",
   "execution_count": 3,
   "id": "cc6c2407-b1a9-4996-b3a3-45e1b4bb69d1",
   "metadata": {
    "tags": []
   },
   "outputs": [
    {
     "name": "stdout",
     "output_type": "stream",
     "text": [
      "+------+---+------+----------+--------------------+\n",
      "|rating|age|gender|occupation|               title|\n",
      "+------+---+------+----------+--------------------+\n",
      "|     3| 49|     M|    writer|        Kolya (1996)|\n",
      "|     3| 39|     F| executive|L.A. Confidential...|\n",
      "|     1| 25|     M|    writer| Heavyweights (1994)|\n",
      "|     2| 28|     M|technician|Legends of the Fa...|\n",
      "|     1| 47|     M|  educator| Jackie Brown (1997)|\n",
      "+------+---+------+----------+--------------------+\n",
      "only showing top 5 rows\n",
      "\n"
     ]
    }
   ],
   "source": [
    "# Load the movie ratings dataset\n",
    "ratings_df = spark.read.csv(\"ml-100k/ml-100k/u.data\", sep=\"\\t\", header=False, inferSchema=True)\n",
    "ratings_df = ratings_df.withColumnRenamed(\"_c0\", \"user_id\").withColumnRenamed(\"_c1\", \"movie_id\").withColumnRenamed(\"_c2\", \"rating\").withColumnRenamed(\"_c3\", \"timestamp\")\n",
    "\n",
    "# Load the users dataset\n",
    "users_df = spark.read.csv(\"ml-100k/ml-100k/u.user\", sep=\"|\", header=False, inferSchema=True)\n",
    "users_df = users_df.withColumnRenamed(\"_c0\", \"user_id\").withColumnRenamed(\"_c1\", \"age\").withColumnRenamed(\"_c2\", \"gender\").withColumnRenamed(\"_c3\", \"occupation\")\n",
    "\n",
    "# Load the movies dataset\n",
    "movies_df = spark.read.csv(\"ml-100k/ml-100k/u.item\", sep=\"|\", header=False, inferSchema=True)\n",
    "movies_df = movies_df.withColumnRenamed(\"_c0\", \"movie_id\").withColumnRenamed(\"_c1\", \"title\").withColumnRenamed(\"_c2\", \"release_date\")\n",
    "\n",
    "# Merge datasets\n",
    "ratings_with_features_df = ratings_df.join(users_df, on=\"user_id\", how=\"left\").join(movies_df, on=\"movie_id\", how=\"left\")\n",
    "\n",
    "# Select relevant features for modeling\n",
    "# The * is used to unpack the list so that each element becomes a separate argument to the select function\n",
    "feature_columns = [\"age\", \"gender\", \"occupation\", \"title\"]\n",
    "ratings_with_features_df = ratings_with_features_df.select(\"rating\", *feature_columns)\n",
    "ratings_with_features_df.show(5)"
   ]
  },
  {
   "cell_type": "code",
   "execution_count": 4,
   "id": "ab18d20c-2c89-4a0a-a25d-1456b2935758",
   "metadata": {
    "tags": []
   },
   "outputs": [
    {
     "name": "stdout",
     "output_type": "stream",
     "text": [
      "+------+---+------+----------+--------------------+------------+----------------+-----------+\n",
      "|rating|age|gender|occupation|               title|gender_index|occupation_index|title_index|\n",
      "+------+---+------+----------+--------------------+------------+----------------+-----------+\n",
      "|     3| 49|     M|    writer|        Kolya (1996)|         0.0|             6.0|      287.0|\n",
      "|     3| 39|     F| executive|L.A. Confidential...|         1.0|             9.0|       38.0|\n",
      "|     1| 25|     M|    writer| Heavyweights (1994)|         0.0|             6.0|     1045.0|\n",
      "|     2| 28|     M|technician|Legends of the Fa...|         0.0|             8.0|      413.0|\n",
      "|     1| 47|     M|  educator| Jackie Brown (1997)|         0.0|             2.0|      259.0|\n",
      "+------+---+------+----------+--------------------+------------+----------------+-----------+\n",
      "only showing top 5 rows\n",
      "\n"
     ]
    }
   ],
   "source": [
    "# Convert categorical features to numerical using StringIndexer\n",
    "# We create a list of StringIndexer objects, one for each categorical column: gender and occupation\n",
    "# Each StringIndexer converts the categorical values in its input column to numerical indices and creates a new column suffixed with _index\n",
    "indexers = [StringIndexer(inputCol=column, outputCol=column+\"_index\").fit(ratings_with_features_df) for column in [\"gender\", \"occupation\", \"title\"]]\n",
    "# Apply the StringIndexer transformations to the dataset\n",
    "# We iterate over the list of indexers and transforms the dataframe by adding new columns with the indexed values for each categorical column\n",
    "for indexer in indexers:\n",
    "    ratings_with_features_df = indexer.transform(ratings_with_features_df)\n",
    "ratings_with_features_df.show(5)"
   ]
  },
  {
   "cell_type": "code",
   "execution_count": 5,
   "id": "5cccdcb5-3fe7-471f-a9a3-17c9ae3ba05b",
   "metadata": {
    "tags": []
   },
   "outputs": [
    {
     "name": "stdout",
     "output_type": "stream",
     "text": [
      "+------+---+------+----------+--------------------+------------+----------------+-----------+--------------------+\n",
      "|rating|age|gender|occupation|               title|gender_index|occupation_index|title_index|            features|\n",
      "+------+---+------+----------+--------------------+------------+----------------+-----------+--------------------+\n",
      "|     3| 49|     M|    writer|        Kolya (1996)|         0.0|             6.0|      287.0|[0.0,6.0,287.0,49.0]|\n",
      "|     3| 39|     F| executive|L.A. Confidential...|         1.0|             9.0|       38.0| [1.0,9.0,38.0,39.0]|\n",
      "|     1| 25|     M|    writer| Heavyweights (1994)|         0.0|             6.0|     1045.0|[0.0,6.0,1045.0,2...|\n",
      "|     2| 28|     M|technician|Legends of the Fa...|         0.0|             8.0|      413.0|[0.0,8.0,413.0,28.0]|\n",
      "|     1| 47|     M|  educator| Jackie Brown (1997)|         0.0|             2.0|      259.0|[0.0,2.0,259.0,47.0]|\n",
      "+------+---+------+----------+--------------------+------------+----------------+-----------+--------------------+\n",
      "only showing top 5 rows\n",
      "\n"
     ]
    }
   ],
   "source": [
    "# Assemble features into a single vector\n",
    "# We create a VectorAssembler object that combines multiple input columns into a single output vector column\n",
    "assembler = VectorAssembler(inputCols=[column+\"_index\" for column in [\"gender\", \"occupation\", \"title\"]] + [\"age\"], outputCol=\"features\")\n",
    "# This step creates the features column, which contains the assembled feature vector for each row\n",
    "ratings_with_features_df = assembler.transform(ratings_with_features_df)\n",
    "ratings_with_features_df.show(5)\n",
    "\n",
    "# Split the dataset into train and test sets\n",
    "train_data, test_data = ratings_with_features_df.randomSplit([0.8, 0.2], seed=123)"
   ]
  },
  {
   "cell_type": "markdown",
   "id": "488af149-0e1c-40bb-87d8-dc86691406fe",
   "metadata": {
    "tags": []
   },
   "source": [
    "### Model training and evaluation"
   ]
  },
  {
   "cell_type": "code",
   "execution_count": 6,
   "id": "e8a0e0e5-324d-4148-ae1a-b459b7817ba0",
   "metadata": {
    "tags": []
   },
   "outputs": [
    {
     "name": "stdout",
     "output_type": "stream",
     "text": [
      "\n",
      "Linear Regression (OLS) predictions:\n",
      "+------+---+------+----------+--------------------+------------+----------------+-----------+--------------------+------------------+\n",
      "|rating|age|gender|occupation|               title|gender_index|occupation_index|title_index|            features|        prediction|\n",
      "+------+---+------+----------+--------------------+------------+----------------+-----------+--------------------+------------------+\n",
      "|     1| 10|     M|   student|Beauty and the Be...|         0.0|             0.0|      114.0|[0.0,0.0,114.0,10.0]|3.6023699284437596|\n",
      "|     1| 11|     M|      none|Batman & Robin (1...|         0.0|            17.0|      528.0|[0.0,17.0,528.0,1...|3.0967906559021756|\n",
      "|     1| 13|     F|   student|Everyone Says I L...|         1.0|             0.0|      172.0|[1.0,0.0,172.0,13.0]|3.5933585804634505|\n",
      "|     1| 13|     F|   student|George of the Jun...|         1.0|             0.0|      181.0|[1.0,0.0,181.0,13.0]|3.5849668421605605|\n",
      "|     1| 13|     F|   student|Mortal Kombat: An...|         1.0|             0.0|      669.0|[1.0,0.0,669.0,13.0]| 3.129948143070542|\n",
      "+------+---+------+----------+--------------------+------------+----------------+-----------+--------------------+------------------+\n",
      "only showing top 5 rows\n",
      "\n",
      "Metrics:\n",
      "Linear Regression (OLS) RMSE: 1.0958182627879915\n",
      "Linear Regression (OLS) MAE: 0.8976266863986364\n",
      "Linear Regression (OLS) R-squared: 0.05987336439086044\n",
      "\n",
      "Lasso predictions:\n",
      "+------+---+------+----------+--------------------+------------+----------------+-----------+--------------------+------------------+\n",
      "|rating|age|gender|occupation|               title|gender_index|occupation_index|title_index|            features|        prediction|\n",
      "+------+---+------+----------+--------------------+------------+----------------+-----------+--------------------+------------------+\n",
      "|     1| 10|     M|   student|Beauty and the Be...|         0.0|             0.0|      114.0|[0.0,0.0,114.0,10.0]|3.6023699284437596|\n",
      "|     1| 11|     M|      none|Batman & Robin (1...|         0.0|            17.0|      528.0|[0.0,17.0,528.0,1...|3.0967906559021756|\n",
      "|     1| 13|     F|   student|Everyone Says I L...|         1.0|             0.0|      172.0|[1.0,0.0,172.0,13.0]|3.5933585804634505|\n",
      "|     1| 13|     F|   student|George of the Jun...|         1.0|             0.0|      181.0|[1.0,0.0,181.0,13.0]|3.5849668421605605|\n",
      "|     1| 13|     F|   student|Mortal Kombat: An...|         1.0|             0.0|      669.0|[1.0,0.0,669.0,13.0]| 3.129948143070542|\n",
      "+------+---+------+----------+--------------------+------------+----------------+-----------+--------------------+------------------+\n",
      "only showing top 5 rows\n",
      "\n",
      "Metrics:\n",
      "Lasso RMSE: 1.0958182627879915\n",
      "Lasso MAE: 0.8976266863986364\n",
      "Lasso R-squared: 0.05987336439086044\n",
      "\n",
      "Ridge predictions:\n",
      "+------+---+------+----------+--------------------+------------+----------------+-----------+--------------------+-----------------+\n",
      "|rating|age|gender|occupation|               title|gender_index|occupation_index|title_index|            features|       prediction|\n",
      "+------+---+------+----------+--------------------+------------+----------------+-----------+--------------------+-----------------+\n",
      "|     1| 10|     M|   student|Beauty and the Be...|         0.0|             0.0|      114.0|[0.0,0.0,114.0,10.0]|3.597655357964568|\n",
      "|     1| 11|     M|      none|Batman & Robin (1...|         0.0|            17.0|      528.0|[0.0,17.0,528.0,1...|3.137757479653333|\n",
      "|     1| 13|     F|   student|Everyone Says I L...|         1.0|             0.0|      172.0|[1.0,0.0,172.0,13.0]|3.586962728869256|\n",
      "|     1| 13|     F|   student|George of the Jun...|         1.0|             0.0|      181.0|[1.0,0.0,181.0,13.0]|3.579253922486089|\n",
      "|     1| 13|     F|   student|Mortal Kombat: An...|         1.0|             0.0|      669.0|[1.0,0.0,669.0,13.0]|3.161265309709926|\n",
      "+------+---+------+----------+--------------------+------------+----------------+-----------+--------------------+-----------------+\n",
      "only showing top 5 rows\n",
      "\n",
      "Metrics:\n",
      "Ridge RMSE: 1.0958067037076664\n",
      "Ridge MAE: 0.9003809211261466\n",
      "Ridge R-squared: 0.059893197865718784\n",
      "\n",
      "Elastic Net predictions:\n",
      "+------+---+------+----------+--------------------+------------+----------------+-----------+--------------------+------------------+\n",
      "|rating|age|gender|occupation|               title|gender_index|occupation_index|title_index|            features|        prediction|\n",
      "+------+---+------+----------+--------------------+------------+----------------+-----------+--------------------+------------------+\n",
      "|     1| 10|     M|   student|Beauty and the Be...|         0.0|             0.0|      114.0|[0.0,0.0,114.0,10.0]|3.6023699284437596|\n",
      "|     1| 11|     M|      none|Batman & Robin (1...|         0.0|            17.0|      528.0|[0.0,17.0,528.0,1...|3.0967906559021756|\n",
      "|     1| 13|     F|   student|Everyone Says I L...|         1.0|             0.0|      172.0|[1.0,0.0,172.0,13.0]|3.5933585804634505|\n",
      "|     1| 13|     F|   student|George of the Jun...|         1.0|             0.0|      181.0|[1.0,0.0,181.0,13.0]|3.5849668421605605|\n",
      "|     1| 13|     F|   student|Mortal Kombat: An...|         1.0|             0.0|      669.0|[1.0,0.0,669.0,13.0]| 3.129948143070542|\n",
      "+------+---+------+----------+--------------------+------------+----------------+-----------+--------------------+------------------+\n",
      "only showing top 5 rows\n",
      "\n",
      "Metrics:\n",
      "Elastic Net RMSE: 1.0958182627879915\n",
      "Elastic Net MAE: 0.8976266863986364\n",
      "Elastic Net R-squared: 0.05987336439086044\n",
      "\n",
      "GLS predictions:\n",
      "+------+---+------+----------+--------------------+------------+----------------+-----------+--------------------+------------------+\n",
      "|rating|age|gender|occupation|               title|gender_index|occupation_index|title_index|            features|        prediction|\n",
      "+------+---+------+----------+--------------------+------------+----------------+-----------+--------------------+------------------+\n",
      "|     1| 10|     M|   student|Beauty and the Be...|         0.0|             0.0|      114.0|[0.0,0.0,114.0,10.0]|3.6023699284437596|\n",
      "|     1| 11|     M|      none|Batman & Robin (1...|         0.0|            17.0|      528.0|[0.0,17.0,528.0,1...|3.0967906559021756|\n",
      "|     1| 13|     F|   student|Everyone Says I L...|         1.0|             0.0|      172.0|[1.0,0.0,172.0,13.0]|3.5933585804634505|\n",
      "|     1| 13|     F|   student|George of the Jun...|         1.0|             0.0|      181.0|[1.0,0.0,181.0,13.0]|3.5849668421605605|\n",
      "|     1| 13|     F|   student|Mortal Kombat: An...|         1.0|             0.0|      669.0|[1.0,0.0,669.0,13.0]| 3.129948143070542|\n",
      "+------+---+------+----------+--------------------+------------+----------------+-----------+--------------------+------------------+\n",
      "only showing top 5 rows\n",
      "\n",
      "Metrics:\n",
      "GLS RMSE: 1.0958182627879915\n",
      "GLS MAE: 0.8976266863986364\n",
      "GLS R-squared: 0.05987336439086044\n",
      "\n",
      "Decision Tree predictions:\n",
      "+------+---+------+----------+--------------------+------------+----------------+-----------+--------------------+------------------+\n",
      "|rating|age|gender|occupation|               title|gender_index|occupation_index|title_index|            features|        prediction|\n",
      "+------+---+------+----------+--------------------+------------+----------------+-----------+--------------------+------------------+\n",
      "|     1| 10|     M|   student|Beauty and the Be...|         0.0|             0.0|      114.0|[0.0,0.0,114.0,10.0]| 3.913379635696501|\n",
      "|     1| 11|     M|      none|Batman & Robin (1...|         0.0|            17.0|      528.0|[0.0,17.0,528.0,1...|2.4888059701492535|\n",
      "|     1| 13|     F|   student|Everyone Says I L...|         1.0|             0.0|      172.0|[1.0,0.0,172.0,13.0]| 3.407871198568873|\n",
      "|     1| 13|     F|   student|George of the Jun...|         1.0|             0.0|      181.0|[1.0,0.0,181.0,13.0]|2.7755707085680403|\n",
      "|     1| 13|     F|   student|Mortal Kombat: An...|         1.0|             0.0|      669.0|[1.0,0.0,669.0,13.0]| 2.141732283464567|\n",
      "+------+---+------+----------+--------------------+------------+----------------+-----------+--------------------+------------------+\n",
      "only showing top 5 rows\n",
      "\n",
      "Metrics:\n",
      "Decision Tree RMSE: 1.0330639885760513\n",
      "Decision Tree MAE: 0.823357560544668\n",
      "Decision Tree R-squared: 0.1644667549252421\n"
     ]
    }
   ],
   "source": [
    "# Define the models\n",
    "lr = LinearRegression(featuresCol=\"features\", labelCol=\"rating\")\n",
    "lasso = LinearRegression(featuresCol=\"features\", labelCol=\"rating\", elasticNetParam=1.0)\n",
    "ridge = LinearRegression(featuresCol=\"features\", labelCol=\"rating\", regParam=0.1)\n",
    "elastic_net = LinearRegression(featuresCol=\"features\", labelCol=\"rating\", elasticNetParam=0.5)\n",
    "gls = GeneralizedLinearRegression(featuresCol=\"features\", labelCol=\"rating\")\n",
    "decision_tree = DecisionTreeRegressor(featuresCol=\"features\", labelCol=\"rating\", maxBins=2000)\n",
    "\n",
    "# Create a list of models\n",
    "models = [lr, lasso, ridge, elastic_net, gls, decision_tree]\n",
    "model_names = [\"Linear Regression (OLS)\", \"Lasso\", \"Ridge\", \"Elastic Net\", \"GLS\", \"Decision Tree\"]\n",
    "\n",
    "# Perform model training and evaluation\n",
    "for model, name in zip(models, model_names):\n",
    "    # Train the model\n",
    "    model_fit = model.fit(train_data)\n",
    "\n",
    "    # Make predictions on the test data\n",
    "    predictions = model_fit.transform(test_data)\n",
    "    print(f\"\\n{name} predictions:\")\n",
    "    predictions.show(5)\n",
    "\n",
    "    # Evaluate the model using RMSE\n",
    "    evaluator_rmse = RegressionEvaluator(labelCol=\"rating\", predictionCol=\"prediction\", metricName=\"rmse\")\n",
    "    rmse = evaluator_rmse.evaluate(predictions)\n",
    "    evaluator_mae = RegressionEvaluator(labelCol=\"rating\", predictionCol=\"prediction\", metricName=\"mae\")\n",
    "    mae = evaluator_mae.evaluate(predictions)\n",
    "    evaluator_r2 = RegressionEvaluator(labelCol=\"rating\", predictionCol=\"prediction\", metricName=\"r2\")\n",
    "    r2 = evaluator_r2.evaluate(predictions)\n",
    "\n",
    "    print(\"Metrics:\")\n",
    "    print(f\"{name} RMSE:\", rmse)\n",
    "    print(f\"{name} MAE:\", mae)\n",
    "    print(f\"{name} R-squared:\", r2)"
   ]
  },
  {
   "cell_type": "code",
   "execution_count": 7,
   "id": "47b1ff95-9665-43ec-ac18-fa465e1c380e",
   "metadata": {
    "tags": []
   },
   "outputs": [],
   "source": [
    "# Stop SparkSession\n",
    "spark.stop()"
   ]
  }
 ],
 "metadata": {
  "kernelspec": {
   "display_name": "Python 3 (ipykernel)",
   "language": "python",
   "name": "python3"
  },
  "language_info": {
   "codemirror_mode": {
    "name": "ipython",
    "version": 3
   },
   "file_extension": ".py",
   "mimetype": "text/x-python",
   "name": "python",
   "nbconvert_exporter": "python",
   "pygments_lexer": "ipython3",
   "version": "3.9.13"
  }
 },
 "nbformat": 4,
 "nbformat_minor": 5
}
