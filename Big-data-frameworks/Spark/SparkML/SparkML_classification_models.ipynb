{
 "cells": [
  {
   "cell_type": "markdown",
   "id": "8c004ee8-748f-411f-94cd-b7013db9d0b1",
   "metadata": {},
   "source": [
    "# Exploring Spark ML classification models for movie ratings prediction\n",
    "\n",
    "In this project, we explore Spark ML to classify movie ratings using various classification models."
   ]
  },
  {
   "cell_type": "code",
   "execution_count": 1,
   "id": "ee1d896c-d639-41f4-9ddd-044f3889b21f",
   "metadata": {
    "tags": []
   },
   "outputs": [],
   "source": [
    "from pyspark.sql import SparkSession\n",
    "from pyspark.ml.feature import VectorAssembler, StringIndexer, StandardScaler\n",
    "from pyspark.ml.classification import LogisticRegression, RandomForestClassifier, DecisionTreeClassifier, LinearSVC\n",
    "from pyspark.ml.tuning import CrossValidator, ParamGridBuilder\n",
    "from pyspark.ml.evaluation import BinaryClassificationEvaluator, MulticlassClassificationEvaluator\n",
    "from pyspark.ml import Pipeline"
   ]
  },
  {
   "cell_type": "code",
   "execution_count": 2,
   "id": "4d377203-a0eb-428f-8a84-fba7084f1274",
   "metadata": {
    "tags": []
   },
   "outputs": [],
   "source": [
    "# Create a SparkSession\n",
    "spark = SparkSession.builder.appName(\"Movie Rating Classification\").getOrCreate()"
   ]
  },
  {
   "cell_type": "markdown",
   "id": "4b033e08-ec01-44f7-af5e-f50a79c58bf7",
   "metadata": {},
   "source": [
    "### Data import and preparation"
   ]
  },
  {
   "cell_type": "code",
   "execution_count": 3,
   "id": "0c6bb64e-8dfd-4906-9773-3df5f3778374",
   "metadata": {
    "tags": []
   },
   "outputs": [
    {
     "name": "stdout",
     "output_type": "stream",
     "text": [
      "+------+---+------+----------+\n",
      "|rating|age|gender|occupation|\n",
      "+------+---+------+----------+\n",
      "|     3| 49|     M|    writer|\n",
      "|     3| 39|     F| executive|\n",
      "|     1| 25|     M|    writer|\n",
      "|     2| 28|     M|technician|\n",
      "|     1| 47|     M|  educator|\n",
      "+------+---+------+----------+\n",
      "only showing top 5 rows\n",
      "\n"
     ]
    }
   ],
   "source": [
    "# Load the ratings dataset\n",
    "ratings_df = spark.read.csv(\"ml-100k/ml-100k/u.data\", sep=\"\\t\", header=False, inferSchema=True)\n",
    "ratings_df = ratings_df.withColumnRenamed(\"_c0\", \"user_id\").withColumnRenamed(\"_c1\", \"movie_id\").withColumnRenamed(\"_c2\", \"rating\").withColumnRenamed(\"_c3\", \"timestamp\")\n",
    "\n",
    "# Load the users dataset\n",
    "users_df = spark.read.csv(\"ml-100k/ml-100k/u.user\", sep=\"|\", header=False, inferSchema=True)\n",
    "users_df = users_df.withColumnRenamed(\"_c0\", \"user_id\").withColumnRenamed(\"_c1\", \"age\").withColumnRenamed(\"_c2\", \"gender\").withColumnRenamed(\"_c3\", \"occupation\")\n",
    "\n",
    "# Load the movies dataset\n",
    "movies_df = spark.read.csv(\"ml-100k/ml-100k/u.item\", sep=\"|\", header=False, inferSchema=True)\n",
    "movies_df = movies_df.withColumnRenamed(\"_c0\", \"movie_id\").withColumnRenamed(\"_c1\", \"title\").withColumnRenamed(\"_c2\", \"release_date\")\n",
    "\n",
    "# Merge datasets\n",
    "ratings_df = ratings_df.join(users_df, on=\"user_id\", how=\"left\").join(movies_df, on=\"movie_id\", how=\"left\")\n",
    "\n",
    "# Select the relevant features\n",
    "feature_columns = [\"age\", \"gender\", \"occupation\"]\n",
    "ratings_df = ratings_df.select(\"rating\", *feature_columns)\n",
    "ratings_df.show(5)"
   ]
  },
  {
   "cell_type": "code",
   "execution_count": 4,
   "id": "a8e7edb9-be8b-4994-a73d-f818021f225c",
   "metadata": {
    "tags": []
   },
   "outputs": [
    {
     "name": "stdout",
     "output_type": "stream",
     "text": [
      "+------+---+------+----------+-----+\n",
      "|rating|age|gender|occupation|liked|\n",
      "+------+---+------+----------+-----+\n",
      "|     3| 49|     M|    writer|    0|\n",
      "|     3| 39|     F| executive|    0|\n",
      "|     1| 25|     M|    writer|    0|\n",
      "|     2| 28|     M|technician|    0|\n",
      "|     1| 47|     M|  educator|    0|\n",
      "+------+---+------+----------+-----+\n",
      "only showing top 5 rows\n",
      "\n"
     ]
    }
   ],
   "source": [
    "# Define a threshold for binary classification\n",
    "threshold = 4\n",
    "# Add a new column indicating whether the user liked the movie (1) or not (0)\n",
    "ratings_df = ratings_df.withColumn(\"liked\", (ratings_df[\"rating\"] >= threshold).cast(\"int\"))\n",
    "ratings_df.show(5)"
   ]
  },
  {
   "cell_type": "code",
   "execution_count": 5,
   "id": "662b40d9-697b-4d8a-8064-c3af15ad741b",
   "metadata": {
    "tags": []
   },
   "outputs": [],
   "source": [
    "# Convert categorical features to numerical\n",
    "indexers = [StringIndexer(inputCol=column, outputCol=column+\"_index\").fit(ratings_df) for column in [\"gender\", \"occupation\"]]\n",
    "for indexer in indexers:\n",
    "    ratings_df = indexer.transform(ratings_df)\n",
    "\n",
    "# Convert features into a single vector\n",
    "assembler = VectorAssembler(inputCols=[\"age\", \"gender_index\", \"occupation_index\"], outputCol=\"features\")\n",
    "ratings_df = assembler.transform(ratings_df)\n",
    "\n",
    "# Split into train and test sets\n",
    "train_data, test_data = ratings_df.randomSplit([0.8, 0.2], seed=123)"
   ]
  },
  {
   "cell_type": "markdown",
   "id": "1d0bff7c-c482-4917-97d0-002323ec29cf",
   "metadata": {
    "tags": []
   },
   "source": [
    "### Model training and evaluation"
   ]
  },
  {
   "cell_type": "code",
   "execution_count": 6,
   "id": "45861434-55ba-4297-9822-42214b2a854f",
   "metadata": {
    "tags": []
   },
   "outputs": [
    {
     "name": "stdout",
     "output_type": "stream",
     "text": [
      "\n",
      "Logistic Regression predictions:\n",
      "+------+---+------+----------+-----+------------+----------------+---------------+--------------------+--------------------+----------+\n",
      "|rating|age|gender|occupation|liked|gender_index|occupation_index|       features|       rawPrediction|         probability|prediction|\n",
      "+------+---+------+----------+-----+------------+----------------+---------------+--------------------+--------------------+----------+\n",
      "|     1| 10|     M|   student|    0|         0.0|             0.0| [10.0,0.0,0.0]|[-0.1088798148012...|[0.47280690508373...|       1.0|\n",
      "|     1| 11|     M|      none|    0|         0.0|            17.0|[11.0,0.0,17.0]|[-0.0478344688206...|[0.48804366251882...|       1.0|\n",
      "|     1| 13|     F|   student|    0|         1.0|             0.0| [13.0,1.0,0.0]|[-0.1258737330627...|[0.46857305034524...|       1.0|\n",
      "|     1| 13|     F|   student|    0|         1.0|             0.0| [13.0,1.0,0.0]|[-0.1258737330627...|[0.46857305034524...|       1.0|\n",
      "|     1| 13|     F|   student|    0|         1.0|             0.0| [13.0,1.0,0.0]|[-0.1258737330627...|[0.46857305034524...|       1.0|\n",
      "+------+---+------+----------+-----+------------+----------------+---------------+--------------------+--------------------+----------+\n",
      "only showing top 5 rows\n",
      "\n",
      "\n",
      "Logistic Regression evaluation metrics:\n",
      "Accuracy: 0.5494\n",
      "Precision: 0.3018\n",
      "Recall: 0.5494\n",
      "F1-score: 0.3896\n",
      "AUC: 0.5206\n",
      "\n",
      "Random Forest predictions:\n",
      "+------+---+------+----------+-----+------------+----------------+---------------+--------------------+--------------------+----------+\n",
      "|rating|age|gender|occupation|liked|gender_index|occupation_index|       features|       rawPrediction|         probability|prediction|\n",
      "+------+---+------+----------+-----+------------+----------------+---------------+--------------------+--------------------+----------+\n",
      "|     1| 10|     M|   student|    0|         0.0|             0.0| [10.0,0.0,0.0]|[31.3927028013287...|[0.44846718287612...|       1.0|\n",
      "|     1| 11|     M|      none|    0|         0.0|            17.0|[11.0,0.0,17.0]|[27.3971783892604...|[0.39138826270372...|       1.0|\n",
      "|     1| 13|     F|   student|    0|         1.0|             0.0| [13.0,1.0,0.0]|[31.1578460950337...|[0.44511208707191...|       1.0|\n",
      "|     1| 13|     F|   student|    0|         1.0|             0.0| [13.0,1.0,0.0]|[31.1578460950337...|[0.44511208707191...|       1.0|\n",
      "|     1| 13|     F|   student|    0|         1.0|             0.0| [13.0,1.0,0.0]|[31.1578460950337...|[0.44511208707191...|       1.0|\n",
      "+------+---+------+----------+-----+------------+----------------+---------------+--------------------+--------------------+----------+\n",
      "only showing top 5 rows\n",
      "\n",
      "\n",
      "Random Forest evaluation metrics:\n",
      "Accuracy: 0.5719\n",
      "Precision: 0.5937\n",
      "Recall: 0.5719\n",
      "F1-score: 0.4813\n",
      "AUC: 0.5661\n",
      "\n",
      "Decision Tree predictions:\n",
      "+------+---+------+----------+-----+------------+----------------+---------------+---------------+--------------------+----------+\n",
      "|rating|age|gender|occupation|liked|gender_index|occupation_index|       features|  rawPrediction|         probability|prediction|\n",
      "+------+---+------+----------+-----+------------+----------------+---------------+---------------+--------------------+----------+\n",
      "|     1| 10|     M|   student|    0|         0.0|             0.0| [10.0,0.0,0.0]|[1392.0,1788.0]|[0.43773584905660...|       1.0|\n",
      "|     1| 11|     M|      none|    0|         0.0|            17.0|[11.0,0.0,17.0]|  [174.0,379.0]|[0.31464737793851...|       1.0|\n",
      "|     1| 13|     F|   student|    0|         1.0|             0.0| [13.0,1.0,0.0]|[1392.0,1788.0]|[0.43773584905660...|       1.0|\n",
      "|     1| 13|     F|   student|    0|         1.0|             0.0| [13.0,1.0,0.0]|[1392.0,1788.0]|[0.43773584905660...|       1.0|\n",
      "|     1| 13|     F|   student|    0|         1.0|             0.0| [13.0,1.0,0.0]|[1392.0,1788.0]|[0.43773584905660...|       1.0|\n",
      "+------+---+------+----------+-----+------------+----------------+---------------+---------------+--------------------+----------+\n",
      "only showing top 5 rows\n",
      "\n",
      "\n",
      "Decision Tree evaluation metrics:\n",
      "Accuracy: 0.6077\n",
      "Precision: 0.6048\n",
      "Recall: 0.6077\n",
      "F1-score: 0.5940\n",
      "AUC: 0.5557\n",
      "\n",
      "Support Vector Machine predictions:\n",
      "+------+---+------+----------+-----+------------+----------------+---------------+--------------------+----------+\n",
      "|rating|age|gender|occupation|liked|gender_index|occupation_index|       features|       rawPrediction|prediction|\n",
      "+------+---+------+----------+-----+------------+----------------+---------------+--------------------+----------+\n",
      "|     1| 10|     M|   student|    0|         0.0|             0.0| [10.0,0.0,0.0]|[-1.0046510226791...|       1.0|\n",
      "|     1| 11|     M|      none|    0|         0.0|            17.0|[11.0,0.0,17.0]|[-1.0036377592800...|       1.0|\n",
      "|     1| 13|     F|   student|    0|         1.0|             0.0| [13.0,1.0,0.0]|[-1.0043776916628...|       1.0|\n",
      "|     1| 13|     F|   student|    0|         1.0|             0.0| [13.0,1.0,0.0]|[-1.0043776916628...|       1.0|\n",
      "|     1| 13|     F|   student|    0|         1.0|             0.0| [13.0,1.0,0.0]|[-1.0043776916628...|       1.0|\n",
      "+------+---+------+----------+-----+------------+----------------+---------------+--------------------+----------+\n",
      "only showing top 5 rows\n",
      "\n",
      "\n",
      "Support Vector Machine evaluation metrics:\n",
      "Accuracy: 0.5494\n",
      "Precision: 0.3018\n",
      "Recall: 0.5494\n",
      "F1-score: 0.3896\n",
      "AUC: 0.5007\n"
     ]
    }
   ],
   "source": [
    "# Define the classification models\n",
    "lr = LogisticRegression(featuresCol=\"features\", labelCol=\"liked\")\n",
    "rf = RandomForestClassifier(featuresCol=\"features\", labelCol=\"liked\")\n",
    "dt = DecisionTreeClassifier(featuresCol=\"features\", labelCol=\"liked\")\n",
    "svm = LinearSVC(featuresCol=\"features\", labelCol=\"liked\")\n",
    "\n",
    "models = [lr, rf, dt, svm]\n",
    "model_names = [\"Logistic Regression\", \"Random Forest\", \"Decision Tree\", \"Support Vector Machine\"]\n",
    "\n",
    "# Define the parameter grid for hyperparameter tuning\n",
    "paramGrid = ParamGridBuilder() \\\n",
    "    .addGrid(lr.regParam, [0.1, 0.01]) \\\n",
    "    .addGrid(lr.elasticNetParam, [0.5, 1.0]) \\\n",
    "    .addGrid(rf.numTrees, [50, 70]) \\\n",
    "    .addGrid(dt.maxDepth, [5, 10, 15]) \\\n",
    "    .addGrid(svm.regParam, [0.1, 0.01]) \\\n",
    "    .build()\n",
    "\n",
    "# Perform model training and evaluation with cross validation\n",
    "for model, name in zip(models, model_names):\n",
    "    # Set up the pipeline with feature scaling\n",
    "    scaler = StandardScaler(inputCol=\"features\", outputCol=\"scaled_features\")\n",
    "    pipeline = Pipeline(stages=[scaler, model])\n",
    "    # Set up cross validation\n",
    "    crossval = CrossValidator(estimator=model,\n",
    "                              estimatorParamMaps=paramGrid,\n",
    "                              evaluator=BinaryClassificationEvaluator(labelCol=\"liked\", rawPredictionCol=\"rawPrediction\", metricName=\"areaUnderROC\"),\n",
    "                              numFolds=3)\n",
    "\n",
    "    # Train the model\n",
    "    model_fit = crossval.fit(train_data)\n",
    "\n",
    "    # Make predictions on the test data\n",
    "    predictions = model_fit.transform(test_data)\n",
    "    print(f\"\\n{name} predictions:\")\n",
    "    predictions.show(5)\n",
    "\n",
    "    # Evaluate the model using area under ROC curve\n",
    "    evaluator_acc = MulticlassClassificationEvaluator(labelCol=\"liked\", predictionCol=\"prediction\", metricName=\"accuracy\")\n",
    "    accuracy = evaluator_acc.evaluate(predictions)\n",
    "    evaluator_precision = MulticlassClassificationEvaluator(labelCol=\"liked\", predictionCol=\"prediction\", metricName=\"weightedPrecision\")\n",
    "    precision = evaluator_precision.evaluate(predictions)\n",
    "    evaluator_recall = MulticlassClassificationEvaluator(labelCol=\"liked\", predictionCol=\"prediction\", metricName=\"weightedRecall\")\n",
    "    recall = evaluator_recall.evaluate(predictions)\n",
    "    evaluator_f1 = MulticlassClassificationEvaluator(labelCol=\"liked\", predictionCol=\"prediction\", metricName=\"f1\")\n",
    "    f1 = evaluator_f1.evaluate(predictions)\n",
    "    evaluator_auc = BinaryClassificationEvaluator(labelCol=\"liked\", rawPredictionCol=\"rawPrediction\", metricName=\"areaUnderROC\")\n",
    "    auc = evaluator_auc.evaluate(predictions)\n",
    "\n",
    "    print(f\"\\n{name} evaluation metrics:\")\n",
    "    print(f\"Accuracy: {accuracy:.4f}\")\n",
    "    print(f\"Precision: {precision:.4f}\")\n",
    "    print(f\"Recall: {recall:.4f}\")\n",
    "    print(f\"F1-score: {f1:.4f}\")\n",
    "    print(f\"AUC: {auc:.4f}\")"
   ]
  },
  {
   "cell_type": "code",
   "execution_count": 7,
   "id": "6724a93d-f1bb-4627-9edf-1dfec902adbb",
   "metadata": {
    "tags": []
   },
   "outputs": [],
   "source": [
    "# Stop the SparkSession\n",
    "spark.stop()"
   ]
  }
 ],
 "metadata": {
  "kernelspec": {
   "display_name": "Python 3 (ipykernel)",
   "language": "python",
   "name": "python3"
  },
  "language_info": {
   "codemirror_mode": {
    "name": "ipython",
    "version": 3
   },
   "file_extension": ".py",
   "mimetype": "text/x-python",
   "name": "python",
   "nbconvert_exporter": "python",
   "pygments_lexer": "ipython3",
   "version": "3.9.13"
  }
 },
 "nbformat": 4,
 "nbformat_minor": 5
}
