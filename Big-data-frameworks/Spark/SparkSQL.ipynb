{
 "cells": [
  {
   "cell_type": "markdown",
   "id": "b65cdf88-d084-40e7-95ab-bcf3f8423367",
   "metadata": {},
   "source": [
    "# Exploring movie ratings dataset with Spark SQL\n",
    "\n",
    "This project focuses on exploring the MovieLens dataset using Spark SQL, which allows us to execute SQL queries on distributed datasets."
   ]
  },
  {
   "cell_type": "code",
   "execution_count": 1,
   "id": "1558b5ad-bdc7-42ba-b57f-4cda83585886",
   "metadata": {
    "tags": []
   },
   "outputs": [],
   "source": [
    "from pyspark.sql import SparkSession\n",
    "from pyspark.sql.functions import udf\n",
    "from pyspark.sql.types import StringType"
   ]
  },
  {
   "cell_type": "code",
   "execution_count": 2,
   "id": "163dea31-1401-4c18-b0ac-36370d31ff0b",
   "metadata": {
    "tags": []
   },
   "outputs": [],
   "source": [
    "# Create a SparkSession as entry point to Spark SQL functionality and is required to work with dataframes and perform SQL queries\n",
    "spark = SparkSession.builder.appName(\"SparkSQLExploration\").getOrCreate()"
   ]
  },
  {
   "cell_type": "code",
   "execution_count": 3,
   "id": "9b2f4046-f5c9-4e56-908e-bb5fe872f88b",
   "metadata": {
    "tags": []
   },
   "outputs": [],
   "source": [
    "# Load the MovieLens dataset into a dataframe and define column names\n",
    "data_df = spark.read.option(\"delimiter\", \"\\t\").csv(\"ml-100k/ml-100k/u.data\").toDF(\"user_id\", \"movie_id\", \"rating\", \"timestamp\")\n",
    "# Register dataframe as a temporary view. This allows us to query the dataframe using SQL syntax by creating a temporary view called \"ratings\"\n",
    "data_df.createOrReplaceTempView(\"ratings\")"
   ]
  },
  {
   "cell_type": "code",
   "execution_count": 4,
   "id": "315db9e3-f58c-4a71-94d9-830d8ed5ad1c",
   "metadata": {
    "tags": []
   },
   "outputs": [
    {
     "name": "stdout",
     "output_type": "stream",
     "text": [
      "Number of ratings: 100000\n"
     ]
    }
   ],
   "source": [
    "# Count the number of ratings by executing a SQL query on the \"ratings\" temporary view\n",
    "# The collect method retrieves the result as a list of row objects. We access the first element of the list and then the value of the \"num_ratings\" column\n",
    "num_ratings = spark.sql(\"SELECT COUNT(*) AS num_ratings FROM ratings\").collect()[0][\"num_ratings\"]\n",
    "print(f\"Number of ratings: {num_ratings}\")"
   ]
  },
  {
   "cell_type": "code",
   "execution_count": 5,
   "id": "79e699ec-5ce7-40b5-aa15-c9ed3236b8d1",
   "metadata": {
    "tags": []
   },
   "outputs": [
    {
     "name": "stdout",
     "output_type": "stream",
     "text": [
      "Average rating per movie:\n",
      "+--------+------------------+\n",
      "|movie_id|        avg_rating|\n",
      "+--------+------------------+\n",
      "|     829|2.6470588235294117|\n",
      "|    1436|               2.5|\n",
      "|     467|3.7916666666666665|\n",
      "|     691|               3.5|\n",
      "|    1090|2.4054054054054053|\n",
      "+--------+------------------+\n",
      "only showing top 5 rows\n",
      "\n"
     ]
    }
   ],
   "source": [
    "# Calculate the total rating and count per movie using SQL\n",
    "movie_rating_counts = spark.sql(\"\"\"\n",
    "    SELECT movie_id, SUM(rating) AS total_rating, COUNT(*) AS rating_count\n",
    "    FROM ratings\n",
    "    GROUP BY movie_id\n",
    "\"\"\")\n",
    "# The result is stored in a new dataframe called movie_rating_counts to allow subsequent SQL queries to reference this view\n",
    "movie_rating_counts.createOrReplaceTempView(\"movie_rating_counts\")\n",
    "\n",
    "# Calculate the average rating per movie\n",
    "average_rating_per_movie = spark.sql(\"\"\"\n",
    "    SELECT movie_id, total_rating / rating_count AS avg_rating\n",
    "    FROM movie_rating_counts\n",
    "\"\"\")\n",
    "print(\"Average rating per movie:\")\n",
    "average_rating_per_movie.show(5)"
   ]
  },
  {
   "cell_type": "code",
   "execution_count": 6,
   "id": "03d8fa93-1410-4fc4-a730-ec05de9262b1",
   "metadata": {
    "tags": []
   },
   "outputs": [
    {
     "name": "stdout",
     "output_type": "stream",
     "text": [
      "Total ratings per movie:\n",
      "+--------+------------+\n",
      "|movie_id|rating_count|\n",
      "+--------+------------+\n",
      "|     829|          34|\n",
      "|    1436|           2|\n",
      "|     467|          48|\n",
      "|     691|          16|\n",
      "|    1090|          37|\n",
      "+--------+------------+\n",
      "only showing top 5 rows\n",
      "\n",
      "\n",
      "Popular movies:\n",
      "+--------+------------+------------+\n",
      "|movie_id|total_rating|rating_count|\n",
      "+--------+------------+------------+\n",
      "|     451|       569.0|         170|\n",
      "|     125|       868.0|         244|\n",
      "|     926|       273.0|         101|\n",
      "|     591|       641.0|         178|\n",
      "|       7|      1489.0|         392|\n",
      "+--------+------------+------------+\n",
      "only showing top 5 rows\n",
      "\n"
     ]
    }
   ],
   "source": [
    "# Calculate the total number of ratings per movie\n",
    "total_ratings_per_movie = spark.sql(\"\"\"\n",
    "    SELECT movie_id, rating_count\n",
    "    FROM movie_rating_counts\n",
    "\"\"\")\n",
    "print(\"Total ratings per movie:\")\n",
    "total_ratings_per_movie.show(5)\n",
    "\n",
    "# Filter movies with a minimum number of ratings\n",
    "popular_movies = spark.sql(\"\"\"\n",
    "    SELECT *\n",
    "    FROM movie_rating_counts\n",
    "    WHERE rating_count >= 100\n",
    "\"\"\")\n",
    "print(\"\\nPopular movies:\")\n",
    "popular_movies.show(5)"
   ]
  },
  {
   "cell_type": "code",
   "execution_count": 7,
   "id": "04cabd19-d708-475e-bcf7-583599f7502c",
   "metadata": {
    "tags": []
   },
   "outputs": [
    {
     "name": "stdout",
     "output_type": "stream",
     "text": [
      "Most rated movies:\n",
      "+--------+------------+\n",
      "|movie_id|rating_count|\n",
      "+--------+------------+\n",
      "|      50|         583|\n",
      "|     258|         509|\n",
      "|     100|         508|\n",
      "|     181|         507|\n",
      "|     294|         485|\n",
      "+--------+------------+\n",
      "only showing top 5 rows\n",
      "\n",
      "\n",
      "Least rated movies:\n",
      "+--------+------------+\n",
      "|movie_id|rating_count|\n",
      "+--------+------------+\n",
      "|    1349|           1|\n",
      "|    1601|           1|\n",
      "|    1572|           1|\n",
      "|    1492|           1|\n",
      "|    1669|           1|\n",
      "+--------+------------+\n",
      "only showing top 5 rows\n",
      "\n"
     ]
    }
   ],
   "source": [
    "# Find the most and least rated movies\n",
    "most_rated_movies = spark.sql(\"\"\"\n",
    "    SELECT movie_id, rating_count\n",
    "    FROM movie_rating_counts\n",
    "    ORDER BY rating_count DESC\n",
    "\"\"\")\n",
    "print(\"Most rated movies:\")\n",
    "most_rated_movies.show(5)\n",
    "\n",
    "least_rated_movies = spark.sql(\"\"\"\n",
    "    SELECT movie_id, rating_count\n",
    "    FROM movie_rating_counts\n",
    "    ORDER BY rating_count\n",
    "\"\"\")\n",
    "print(\"\\nLeast rated movies:\")\n",
    "least_rated_movies.show(5)"
   ]
  },
  {
   "cell_type": "code",
   "execution_count": 8,
   "id": "d909e611-e334-483e-afe8-ada8a00f6d39",
   "metadata": {
    "tags": []
   },
   "outputs": [
    {
     "name": "stdout",
     "output_type": "stream",
     "text": [
      "Users who rated the most movies:\n",
      "+-------+-----------+\n",
      "|user_id|num_ratings|\n",
      "+-------+-----------+\n",
      "|    405|        737|\n",
      "|    655|        685|\n",
      "|     13|        636|\n",
      "|    450|        540|\n",
      "|    276|        518|\n",
      "+-------+-----------+\n",
      "only showing top 5 rows\n",
      "\n"
     ]
    }
   ],
   "source": [
    "# Find users who rated the most movies\n",
    "most_active_users = spark.sql(\"\"\"\n",
    "    SELECT user_id, COUNT(*) AS num_ratings\n",
    "    FROM ratings\n",
    "    GROUP BY user_id\n",
    "    ORDER BY num_ratings DESC\n",
    "\"\"\")\n",
    "print(\"Users who rated the most movies:\")\n",
    "most_active_users.show(5)"
   ]
  },
  {
   "cell_type": "code",
   "execution_count": 9,
   "id": "77b3caaf-0fae-49eb-bb33-044d3c2d69b1",
   "metadata": {
    "tags": []
   },
   "outputs": [
    {
     "name": "stdout",
     "output_type": "stream",
     "text": [
      "Rating distribution:\n",
      "+------+-----+\n",
      "|rating|count|\n",
      "+------+-----+\n",
      "|     1| 6110|\n",
      "|     2|11370|\n",
      "|     3|27145|\n",
      "|     4|34174|\n",
      "|     5|21201|\n",
      "+------+-----+\n",
      "\n"
     ]
    }
   ],
   "source": [
    "# Find the distribution of ratings and sort by key\n",
    "rating_distribution = spark.sql(\"\"\"\n",
    "    SELECT rating, COUNT(*) AS count\n",
    "    FROM ratings\n",
    "    GROUP BY rating\n",
    "    ORDER BY rating\n",
    "\"\"\")\n",
    "print(\"Rating distribution:\")\n",
    "rating_distribution.show()"
   ]
  },
  {
   "cell_type": "code",
   "execution_count": 10,
   "id": "5ed037db-b386-4cc2-8343-d985813ae0b6",
   "metadata": {
    "tags": []
   },
   "outputs": [
    {
     "name": "stdout",
     "output_type": "stream",
     "text": [
      "\\Sum and count of rating per movie:\n",
      "+--------+------------+------------+\n",
      "|movie_id|total_rating|rating_count|\n",
      "+--------+------------+------------+\n",
      "|829     |90.0        |34          |\n",
      "|1436    |5.0         |2           |\n",
      "|467     |182.0       |48          |\n",
      "|691     |56.0        |16          |\n",
      "|1090    |89.0        |37          |\n",
      "+--------+------------+------------+\n",
      "only showing top 5 rows\n",
      "\n",
      "\n",
      "Average rating per movie:\n",
      "+--------+------------------+\n",
      "|movie_id|avg_rating        |\n",
      "+--------+------------------+\n",
      "|829     |2.6470588235294117|\n",
      "|1436    |2.5               |\n",
      "|467     |3.7916666666666665|\n",
      "|691     |3.5               |\n",
      "|1090    |2.4054054054054053|\n",
      "+--------+------------------+\n",
      "only showing top 5 rows\n",
      "\n"
     ]
    }
   ],
   "source": [
    "# Group ratings by movie id and calculate sum and count of ratings for each movie\n",
    "movie_rating_sum_count = spark.sql(\"\"\"\n",
    "    SELECT movie_id, SUM(rating) AS total_rating, COUNT(*) AS rating_count\n",
    "    FROM ratings\n",
    "    GROUP BY movie_id\n",
    "\"\"\")\n",
    "\n",
    "print(\"\\Sum and count of rating per movie:\")\n",
    "# Setting truncate to false ensures that the full content of each column is displayed without truncation\n",
    "movie_rating_sum_count.show(5, truncate=False)\n",
    "\n",
    "# Calculate average rating for each movie\n",
    "average_rating_per_movie = spark.sql(\"\"\"\n",
    "    SELECT movie_id, total_rating / rating_count AS avg_rating\n",
    "    FROM (\n",
    "        SELECT movie_id, SUM(rating) AS total_rating, COUNT(*) AS rating_count\n",
    "        FROM ratings\n",
    "        GROUP BY movie_id\n",
    "    )\n",
    "\"\"\")\n",
    "# Register DataFrame as a temporary view\n",
    "average_rating_per_movie.createOrReplaceTempView(\"average_rating_per_movie\")\n",
    "\n",
    "print(\"\\nAverage rating per movie:\")\n",
    "average_rating_per_movie.show(5, truncate=False)"
   ]
  },
  {
   "cell_type": "code",
   "execution_count": 11,
   "id": "17792dac-156c-425c-bdca-bde8bf863f5f",
   "metadata": {
    "tags": []
   },
   "outputs": [
    {
     "name": "stdout",
     "output_type": "stream",
     "text": [
      "Values of movies:\n",
      "+--------+-----------------+------+\n",
      "|movie_id|            title|genres|\n",
      "+--------+-----------------+------+\n",
      "|       1| Toy Story (1995)|     0|\n",
      "|       2| GoldenEye (1995)|     0|\n",
      "|       3|Four Rooms (1995)|     0|\n",
      "|       4|Get Shorty (1995)|     0|\n",
      "|       5|   Copycat (1995)|     0|\n",
      "+--------+-----------------+------+\n",
      "only showing top 5 rows\n",
      "\n",
      "\n",
      "Movies with averaged rating:\n",
      "+--------+--------------------+------+------------------+\n",
      "|movie_id|               title|genres|        avg_rating|\n",
      "+--------+--------------------+------+------------------+\n",
      "|     829|         Fled (1996)|     0|2.6470588235294117|\n",
      "|    1436|    Mr. Jones (1993)|     0|               2.5|\n",
      "|     467|Bronx Tale, A (1993)|     0|3.7916666666666665|\n",
      "|     691|    Dark City (1998)|     0|               3.5|\n",
      "|    1090|       Sliver (1993)|     0|2.4054054054054053|\n",
      "+--------+--------------------+------+------------------+\n",
      "only showing top 5 rows\n",
      "\n"
     ]
    }
   ],
   "source": [
    "# Read the CSV file of movies, select relevant columns\n",
    "movie_titles_genres_df = spark.read.option(\"delimiter\", \"|\").csv(\"ml-100k/ml-100k/u.item\").selectExpr(\"_c0 as movie_id\", \"_c1 as title\", \"_c5 as genres\")\n",
    "# Register DataFrame as a temporary view\n",
    "movie_titles_genres_df.createOrReplaceTempView(\"movies\")\n",
    "\n",
    "print(\"Values of movies:\")\n",
    "movie_titles_genres_df.show(5)\n",
    "\n",
    "# Join movie_titles_genres with average_rating_per_movie by movie_id\n",
    "movies_with_ratings = spark.sql(\"\"\"\n",
    "    SELECT m.movie_id, m.title, m.genres, a.avg_rating\n",
    "    FROM movies m\n",
    "    JOIN average_rating_per_movie a\n",
    "    ON m.movie_id = a.movie_id\n",
    "\"\"\")\n",
    "\n",
    "print(\"\\nMovies with averaged rating:\")\n",
    "movies_with_ratings.show(5)"
   ]
  },
  {
   "cell_type": "code",
   "execution_count": 12,
   "id": "c7264e01-8b17-4b40-a5f0-c111f7ca0d60",
   "metadata": {
    "tags": []
   },
   "outputs": [
    {
     "name": "stdout",
     "output_type": "stream",
     "text": [
      "Number of genres: 2\n",
      "\n",
      "Average rating per genre:\n",
      "+-----+------------------+\n",
      "|genre|        avg_rating|\n",
      "+-----+------------------+\n",
      "|    0|3.0770609634276833|\n",
      "|    1|2.2222222222222223|\n",
      "+-----+------------------+\n",
      "\n"
     ]
    }
   ],
   "source": [
    "# Extract genres and count distinct values\n",
    "distinct_genres_count = spark.sql(\"\"\"\n",
    "    SELECT COUNT(DISTINCT genre) AS distinct_genres_count\n",
    "    FROM (\n",
    "        SELECT explode(split(genres, ',')) AS genre\n",
    "        FROM movies\n",
    "    )\n",
    "\"\"\").collect()[0][\"distinct_genres_count\"]\n",
    "print(f\"Number of genres: {distinct_genres_count}\")\n",
    "\n",
    "# Calculate average rating per genre\n",
    "# First, explode genres into separate rows, then join with ratings and calculate average rating per genre\n",
    "average_rating_per_genre_df = spark.sql(\"\"\"\n",
    "    SELECT genre, AVG(avg_rating) AS avg_rating\n",
    "    FROM (\n",
    "        SELECT explode(split(genres, ',')) AS genre, a.avg_rating\n",
    "        FROM movies m\n",
    "        JOIN average_rating_per_movie a ON m.movie_id = a.movie_id\n",
    "    )\n",
    "    GROUP BY genre\n",
    "\"\"\")\n",
    "\n",
    "print(\"\\nAverage rating per genre:\")\n",
    "average_rating_per_genre_df.show(5)"
   ]
  },
  {
   "cell_type": "code",
   "execution_count": 13,
   "id": "8bd7943f-8338-4105-99f8-6624042c9c08",
   "metadata": {
    "tags": []
   },
   "outputs": [
    {
     "name": "stdout",
     "output_type": "stream",
     "text": [
      "Sentiment distribution of ratings:\n",
      "+---------+-----+\n",
      "|sentiment|count|\n",
      "+---------+-----+\n",
      "|  Neutral|27145|\n",
      "| Positive|55375|\n",
      "| Negative|17480|\n",
      "+---------+-----+\n",
      "\n"
     ]
    }
   ],
   "source": [
    "# Define user defined function (udf), for example, convert rating to sentiment\n",
    "def rating_sentiment(rating):\n",
    "    rating = int(rating)\n",
    "    if rating >= 4:\n",
    "        return \"Positive\"\n",
    "    elif rating <= 2:\n",
    "        return \"Negative\"\n",
    "    else:\n",
    "        return \"Neutral\"\n",
    "\n",
    "# Register UDFs with Spark SQL. The udf.register method allows us to register a python function as a UDF that can be used in Spark SQL queries\n",
    "# The first argument is the name of the UDF that we will use in SQL queries. The third argument specifies the return type of the UDF\n",
    "spark.udf.register(\"rating_sentiment\", rating_sentiment, StringType())\n",
    "\n",
    "# Calculate sentiment distribution of ratings\n",
    "rating_sentiment_distribution = spark.sql(\"\"\"\n",
    "    SELECT rating_sentiment(rating) AS sentiment, COUNT(*) AS count\n",
    "    FROM ratings\n",
    "    GROUP BY rating_sentiment(rating)\n",
    "\"\"\")\n",
    "\n",
    "print(\"Sentiment distribution of ratings:\")\n",
    "rating_sentiment_distribution.show()"
   ]
  },
  {
   "cell_type": "code",
   "execution_count": 14,
   "id": "8f9df56b-2a35-44d9-a85b-bde5287b1303",
   "metadata": {
    "tags": []
   },
   "outputs": [],
   "source": [
    "# Stop SparkSession\n",
    "spark.stop()"
   ]
  }
 ],
 "metadata": {
  "kernelspec": {
   "display_name": "Python 3 (ipykernel)",
   "language": "python",
   "name": "python3"
  },
  "language_info": {
   "codemirror_mode": {
    "name": "ipython",
    "version": 3
   },
   "file_extension": ".py",
   "mimetype": "text/x-python",
   "name": "python",
   "nbconvert_exporter": "python",
   "pygments_lexer": "ipython3",
   "version": "3.9.13"
  }
 },
 "nbformat": 4,
 "nbformat_minor": 5
}
