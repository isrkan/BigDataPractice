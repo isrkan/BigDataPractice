{
 "cells": [
  {
   "cell_type": "markdown",
   "id": "9c340cb5-9b19-4016-a7be-15929c6fb3f3",
   "metadata": {},
   "source": [
    "# MongoDB Basics with Python: Post Data Analysis in CMS\n",
    "\n",
    "MongoDB is a popular NoSQL database that allows for flexible, schema-less storage of data. It is widely used in content management systems (CMS) due to its ability to handle diverse data types and scale easily. In this notebook will practice the basics of MongoDB CRUD operations using Python, covering essential concepts and practical examples for managing and analyzing post data within a CMS.\n",
    "\n",
    "#### Setting up the connection to MongoDB from Python\n",
    "First, we need to set up the connection to the MongoDB server."
   ]
  },
  {
   "cell_type": "code",
   "execution_count": 1,
   "id": "4649cd6a-0370-4738-93ff-0fec2edde714",
   "metadata": {
    "tags": []
   },
   "outputs": [
    {
     "data": {
      "text/plain": [
       "['admin', 'config', 'conversations_db', 'local']"
      ]
     },
     "execution_count": 1,
     "metadata": {},
     "output_type": "execute_result"
    }
   ],
   "source": [
    "from pymongo import MongoClient\n",
    "from datetime import datetime\n",
    "\n",
    "# Replace the connection string with your MongoDB instance details\n",
    "client = MongoClient('mongodb://localhost:27017/')\n",
    "\n",
    "# Create a new database called 'cms_database'\n",
    "db = client['cms_database']\n",
    "\n",
    "# List available databases to verify the creation (the database will appear after inserting a document)\n",
    "databases = client.list_database_names()\n",
    "databases"
   ]
  },
  {
   "cell_type": "markdown",
   "id": "4b082ccc-94c1-49a7-b859-593087d521ad",
   "metadata": {
    "tags": []
   },
   "source": [
    "The 'cms_database' will not appear yet because it is empty. The database will not appear in the list until a document is inserted.\n",
    "\n",
    "### Creating a collection and inserting a document\n",
    "\n",
    "* Collection: Similar to a table in relational databases. It is a grouping of documents.\n",
    "* Document: A record in MongoDB. Documents are stored in BSON (Binary JSON) format.\n",
    "\n",
    "Let's create a collection for storing posts and insert a document."
   ]
  },
  {
   "cell_type": "code",
   "execution_count": 2,
   "id": "c28f92dc-777e-442c-b88f-df15719fdf30",
   "metadata": {
    "tags": []
   },
   "outputs": [
    {
     "data": {
      "text/plain": [
       "['admin', 'cms_database', 'config', 'conversations_db', 'local']"
      ]
     },
     "execution_count": 2,
     "metadata": {},
     "output_type": "execute_result"
    }
   ],
   "source": [
    "# Create a collection called 'posts'\n",
    "posts = db['posts']\n",
    "\n",
    "# Insert a sample document\n",
    "post = {\n",
    "    \"_id\": \"post1\",\n",
    "    \"author\": \"Brad Pitt\",\n",
    "    \"content\": \"I love Italian cuisine! Especially pasta.\",\n",
    "    \"tags\": [\"food\", \"Italian cuisine\"],\n",
    "    \"published_date\": datetime(2024, 7, 18),\n",
    "    \"views\": 1500,\n",
    "    \"rating\": 4.5,\n",
    "    \"verified\": True,\n",
    "    \"timestamp\": datetime(2024, 7, 18, 12, 0, 0),\n",
    "    \"comments\": [\n",
    "        {\n",
    "            \"commenter\": \"Angelina Jolie\",\n",
    "            \"comment\": \"Me too! Pasta is the best.\",\n",
    "            \"comment_date\": datetime(2024, 7, 18),\n",
    "            \"likes\": 15,\n",
    "            \"approved\": True\n",
    "        },\n",
    "        {\n",
    "            \"commenter\": \"Leonardo DiCaprio\",\n",
    "            \"comment\": \"Try the carbonara, it's amazing!\",\n",
    "            \"comment_date\": datetime(2024, 7, 19),\n",
    "            \"likes\": 20,\n",
    "            \"approved\": False\n",
    "        }\n",
    "    ]\n",
    "}\n",
    "\n",
    "# Insert the post into the 'posts' collection\n",
    "post_id = posts.insert_one(post).inserted_id\n",
    "\n",
    "# Verify the insertion by listing available databases\n",
    "databases = client.list_database_names()\n",
    "databases"
   ]
  },
  {
   "cell_type": "markdown",
   "id": "c91215ff-f446-405e-ad4e-5f296ab4e816",
   "metadata": {},
   "source": [
    "* Every document in MongoDB must have an `_id` field, which uniquely identifies the document within a collection. If we do not specify an `_id`, MongoDB will automatically generate an ObjectId. In this example, we explicitly set the _id to \"post1\".\n",
    "\n",
    "* The `insert_one()` operation creates both the database `cms_database` and the collection ``posts` if they do not already exist. The database 'cms_database' now exists because it contains a document.\n",
    " \n",
    "* The `inserted_id` attribute is used to retrieve the unique identifier (ObjectId) of the document that was just inserted into the collection, allowing you to reference this document later. This ObjectId is automatically generated by MongoDB if not provided.\n",
    "\n",
    "#### Inserting many document\n",
    "\n",
    "We can also insert multiple documents at once using the insert_many() method."
   ]
  },
  {
   "cell_type": "code",
   "execution_count": 3,
   "id": "e4c5fe68-8ce1-4436-9818-75024ffe3869",
   "metadata": {
    "tags": []
   },
   "outputs": [],
   "source": [
    "# Create multiple documents to insert\n",
    "new_posts = [\n",
    "    {\n",
    "        \"author\": \"Angelina Jolie\",\n",
    "        \"content\": \"Mediterranean food is not only healthy but also delicious!\",\n",
    "        \"tags\": [\"food\", \"Mediterranean\"],\n",
    "        \"published_date\": datetime(2024, 7, 19),\n",
    "        \"views\": 1200,\n",
    "        \"rating\": 4.8,\n",
    "        \"verified\": True,\n",
    "        \"timestamp\": datetime(2024, 7, 19, 14, 30, 0),\n",
    "        \"comments\": [\n",
    "            {\n",
    "                \"commenter\": \"Brad Pitt\",\n",
    "                \"comment\": \"Totally agree!\",\n",
    "                \"comment_date\": datetime(2024, 7, 20),\n",
    "                \"likes\": 10,\n",
    "                \"approved\": True\n",
    "            }\n",
    "        ]\n",
    "    },\n",
    "    {\n",
    "        \"author\": \"Leonardo DiCaprio\",\n",
    "        \"content\": \"Sushi is my favorite comfort food.\",\n",
    "        \"tags\": [\"food\", \"Japanese cuisine\", \"Sushi\"],\n",
    "        \"published_date\": datetime(2024, 7, 20),\n",
    "        \"views\": 800,\n",
    "        \"rating\": 4.3,\n",
    "        \"verified\": False,\n",
    "        \"timestamp\": datetime(2024, 7, 20, 16, 0, 0),\n",
    "        \"comments\": [\n",
    "            {\n",
    "                \"commenter\": \"Brad Pitt\",\n",
    "                \"comment\": \"Sushi is great! Have you tried sashimi?\",\n",
    "                \"comment_date\": datetime(2024, 7, 21),\n",
    "                \"likes\": 5,\n",
    "                \"approved\": True\n",
    "            }\n",
    "        ]\n",
    "    },\n",
    "    {\n",
    "        \"author\": \"Natalie Portman\",\n",
    "        \"content\": \"As a vegan, I love discovering new plant-based recipes.\",\n",
    "        \"tags\": [\"food\", \"vegan\"],\n",
    "        \"published_date\": datetime(2024, 7, 21),\n",
    "        \"views\": 1100,\n",
    "        \"rating\": 4.5,\n",
    "        \"verified\": True,\n",
    "        \"timestamp\": datetime(2024, 7, 21, 10, 0, 0),\n",
    "        \"comments\": [\n",
    "            {\n",
    "                \"commenter\": \"Angelina Jolie\",\n",
    "                \"comment\": \"I should try more vegan dishes!\",\n",
    "                \"comment_date\": datetime(2024, 7, 22),\n",
    "                \"likes\": 8,\n",
    "                \"approved\": False\n",
    "            }\n",
    "        ]\n",
    "    }\n",
    "]\n",
    "\n",
    "# Insert the new posts into the 'posts' collection\n",
    "inserted_ids = posts.insert_many(new_posts).inserted_ids"
   ]
  },
  {
   "cell_type": "markdown",
   "id": "9c1853c1-8821-4bcc-a94f-0990e6faecef",
   "metadata": {},
   "source": [
    "### Querying the collection\n",
    "\n",
    "Now that we have inserted multiple documents, let's perform some queries to retrieve and manipulate data.\n",
    "\n",
    "##### Retrieving a single document\n",
    "\n",
    "To retrieve a single document from a MongoDB collection, we use the `find_one()` method.\n",
    "\n",
    "  - **no criteria**: When called without parameters, `find_one()` retrieves the first document from the collection in the order they were inserted or stored.\n",
    "  - **with criteria**: When provided with a query (e.g., `find_one({\"author\": \"Brad Pitt\"})`), it returns the first document that matches the query."
   ]
  },
  {
   "cell_type": "code",
   "execution_count": 4,
   "id": "f0e6cbdb-dd85-425e-8302-812a7aed8126",
   "metadata": {
    "tags": []
   },
   "outputs": [
    {
     "name": "stdout",
     "output_type": "stream",
     "text": [
      "Retrieving a document without criteria:\n",
      "{'_id': 'post1', 'author': 'Brad Pitt', 'content': 'I love Italian cuisine! Especially pasta.', 'tags': ['food', 'Italian cuisine'], 'published_date': datetime.datetime(2024, 7, 18, 0, 0), 'views': 1500, 'rating': 4.5, 'verified': True, 'timestamp': datetime.datetime(2024, 7, 18, 12, 0), 'comments': [{'commenter': 'Angelina Jolie', 'comment': 'Me too! Pasta is the best.', 'comment_date': datetime.datetime(2024, 7, 18, 0, 0), 'likes': 15, 'approved': True}, {'commenter': 'Leonardo DiCaprio', 'comment': \"Try the carbonara, it's amazing!\", 'comment_date': datetime.datetime(2024, 7, 19, 0, 0), 'likes': 20, 'approved': False}]}\n",
      "\n",
      "Retrieving a document with criteria (author: Angelina Jolie):\n",
      "{'_id': ObjectId('66a3c7c02c7227f672b7667a'), 'author': 'Angelina Jolie', 'content': 'Mediterranean food is not only healthy but also delicious!', 'tags': ['food', 'Mediterranean'], 'published_date': datetime.datetime(2024, 7, 19, 0, 0), 'views': 1200, 'rating': 4.8, 'verified': True, 'timestamp': datetime.datetime(2024, 7, 19, 14, 30), 'comments': [{'commenter': 'Brad Pitt', 'comment': 'Totally agree!', 'comment_date': datetime.datetime(2024, 7, 20, 0, 0), 'likes': 10, 'approved': True}]}\n"
     ]
    }
   ],
   "source": [
    "# Retrieve a document in the 'posts' collection without any criteria\n",
    "print(\"Retrieving a document without criteria:\")\n",
    "post = posts.find_one()\n",
    "print(post)\n",
    "\n",
    "# Retrieve a document with criteria\n",
    "print(\"\\nRetrieving a document with criteria (author: Angelina Jolie):\")\n",
    "post_with_criteria = posts.find_one({\"author\": \"Angelina Jolie\"})\n",
    "print(post_with_criteria)"
   ]
  },
  {
   "cell_type": "markdown",
   "id": "90ef1d12-074c-43f9-b028-0df93bc108ed",
   "metadata": {},
   "source": [
    "* `{ }` in MongoDB querying - In MongoDB, curly braces `{ }` are used to define query conditions. Inside these braces, we specify the fields and the conditions that the documents must meet to be selected by the query.\n",
    "\n",
    "##### Retrieving multiple documents\n",
    "\n",
    "To retrieve multiple documents that match certain criteria, use the `find()` method."
   ]
  },
  {
   "cell_type": "code",
   "execution_count": 5,
   "id": "20b76529-0b96-49b0-afb7-cce6440a52d5",
   "metadata": {
    "tags": []
   },
   "outputs": [
    {
     "name": "stdout",
     "output_type": "stream",
     "text": [
      "All posts:\n",
      "\n",
      " {'_id': 'post1', 'author': 'Brad Pitt', 'content': 'I love Italian cuisine! Especially pasta.', 'tags': ['food', 'Italian cuisine'], 'published_date': datetime.datetime(2024, 7, 18, 0, 0), 'views': 1500, 'rating': 4.5, 'verified': True, 'timestamp': datetime.datetime(2024, 7, 18, 12, 0), 'comments': [{'commenter': 'Angelina Jolie', 'comment': 'Me too! Pasta is the best.', 'comment_date': datetime.datetime(2024, 7, 18, 0, 0), 'likes': 15, 'approved': True}, {'commenter': 'Leonardo DiCaprio', 'comment': \"Try the carbonara, it's amazing!\", 'comment_date': datetime.datetime(2024, 7, 19, 0, 0), 'likes': 20, 'approved': False}]}\n",
      "\n",
      " {'_id': ObjectId('66a3c7c02c7227f672b7667a'), 'author': 'Angelina Jolie', 'content': 'Mediterranean food is not only healthy but also delicious!', 'tags': ['food', 'Mediterranean'], 'published_date': datetime.datetime(2024, 7, 19, 0, 0), 'views': 1200, 'rating': 4.8, 'verified': True, 'timestamp': datetime.datetime(2024, 7, 19, 14, 30), 'comments': [{'commenter': 'Brad Pitt', 'comment': 'Totally agree!', 'comment_date': datetime.datetime(2024, 7, 20, 0, 0), 'likes': 10, 'approved': True}]}\n",
      "\n",
      " {'_id': ObjectId('66a3c7c02c7227f672b7667b'), 'author': 'Leonardo DiCaprio', 'content': 'Sushi is my favorite comfort food.', 'tags': ['food', 'Japanese cuisine', 'Sushi'], 'published_date': datetime.datetime(2024, 7, 20, 0, 0), 'views': 800, 'rating': 4.3, 'verified': False, 'timestamp': datetime.datetime(2024, 7, 20, 16, 0), 'comments': [{'commenter': 'Brad Pitt', 'comment': 'Sushi is great! Have you tried sashimi?', 'comment_date': datetime.datetime(2024, 7, 21, 0, 0), 'likes': 5, 'approved': True}]}\n",
      "\n",
      " {'_id': ObjectId('66a3c7c02c7227f672b7667c'), 'author': 'Natalie Portman', 'content': 'As a vegan, I love discovering new plant-based recipes.', 'tags': ['food', 'vegan'], 'published_date': datetime.datetime(2024, 7, 21, 0, 0), 'views': 1100, 'rating': 4.5, 'verified': True, 'timestamp': datetime.datetime(2024, 7, 21, 10, 0), 'comments': [{'commenter': 'Angelina Jolie', 'comment': 'I should try more vegan dishes!', 'comment_date': datetime.datetime(2024, 7, 22, 0, 0), 'likes': 8, 'approved': False}]}\n"
     ]
    }
   ],
   "source": [
    "# Find all documents\n",
    "all_posts = posts.find()\n",
    "\n",
    "# Print the results\n",
    "print(\"All posts:\")\n",
    "for post in all_posts:\n",
    "    print(\"\\n\",post)"
   ]
  },
  {
   "cell_type": "markdown",
   "id": "62db49a7-c36d-47d9-80f1-6db09c899e49",
   "metadata": {},
   "source": [
    "#### Filtering"
   ]
  },
  {
   "cell_type": "code",
   "execution_count": 6,
   "id": "29494825-54f5-4bfa-a805-3231adae74b7",
   "metadata": {
    "tags": []
   },
   "outputs": [
    {
     "name": "stdout",
     "output_type": "stream",
     "text": [
      "Posts with high views:\n",
      "\n",
      " {'_id': 'post1', 'author': 'Brad Pitt', 'content': 'I love Italian cuisine! Especially pasta.', 'tags': ['food', 'Italian cuisine'], 'published_date': datetime.datetime(2024, 7, 18, 0, 0), 'views': 1500, 'rating': 4.5, 'verified': True, 'timestamp': datetime.datetime(2024, 7, 18, 12, 0), 'comments': [{'commenter': 'Angelina Jolie', 'comment': 'Me too! Pasta is the best.', 'comment_date': datetime.datetime(2024, 7, 18, 0, 0), 'likes': 15, 'approved': True}, {'commenter': 'Leonardo DiCaprio', 'comment': \"Try the carbonara, it's amazing!\", 'comment_date': datetime.datetime(2024, 7, 19, 0, 0), 'likes': 20, 'approved': False}]}\n",
      "\n",
      " {'_id': ObjectId('66a3c7c02c7227f672b7667a'), 'author': 'Angelina Jolie', 'content': 'Mediterranean food is not only healthy but also delicious!', 'tags': ['food', 'Mediterranean'], 'published_date': datetime.datetime(2024, 7, 19, 0, 0), 'views': 1200, 'rating': 4.8, 'verified': True, 'timestamp': datetime.datetime(2024, 7, 19, 14, 30), 'comments': [{'commenter': 'Brad Pitt', 'comment': 'Totally agree!', 'comment_date': datetime.datetime(2024, 7, 20, 0, 0), 'likes': 10, 'approved': True}]}\n"
     ]
    }
   ],
   "source": [
    "# Retrieve multiple documents with a specific criterion\n",
    "posts_with_high_views = posts.find({\"views\": {\"$gt\": 1100}})  # Find posts with more than 1000 views\n",
    "\n",
    "# Print the results\n",
    "print(\"Posts with high views:\")\n",
    "for post in posts_with_high_views:\n",
    "    print(\"\\n\",post)"
   ]
  },
  {
   "cell_type": "markdown",
   "id": "a29bcd57-03d5-4a28-ba53-b31a18c3d087",
   "metadata": {},
   "source": [
    "##### Common MongoDB filtering operators\n",
    "We can use various query operators to filter the results based on specific conditions. These operators are used inside the field curly braces `{ }` to specify conditions, while the external curly braces `{ }` define the overall query structure.\n",
    "\n",
    "1. `$gt` (greater than) - To find documents where a field's value is greater than a specified value. For example, to find documents where the `views` field is greater than 1000.\n",
    "```json\n",
    "{ \"views\": { \"$gt\": 1000 } }\n",
    "```\n",
    "\n",
    "2. `$lt` (less than) - To find documents where a field's value is less than a specified value. For example, to find documents where the `views` field is less than 500.\n",
    "```json\n",
    "{ \"views\": { \"$lt\": 500 } }\n",
    "```\n",
    "\n",
    "3. `$gte` (Greater than or equal to) - To find documents where a field's value is greater than or equal to a specified value. For example, to find documents where the `published_date` is on or after July 1, 2024.\n",
    "```json\n",
    "{ \"published_date\": { \"$gte\": ISODate(\"2024-07-01T00:00:00Z\") } }\n",
    "```\n",
    "\n",
    "4. `$lte` (less than or equal to) - To find documents where a field's value is less than or equal to a specified value. For example, to find documents where the `rating` is less than or equal to 4.5.\n",
    "```json\n",
    "{ \"rating\": { \"$lte\": 4.5 } }\n",
    "```\n",
    "\n",
    "5. `$eq` (equal to) - To find documents where a field's value is equal to a specified value. For example, to find documents where the `author` is \"Brad Pitt\".\n",
    "```json\n",
    "{ \"author\": { \"$eq\": \"Brad Pitt\" } }\n",
    "```\n",
    " - More straightforward and common way to perform equality checks is directly specifying the field’s value:\n",
    "     ```json\n",
    "    { \"author\": \"Brad Pitt\" }\n",
    "    ```\n",
    "\n",
    "6. `$ne` (not equal to) - To find documents where a field's value is not equal to a specified value. For example, to find documents where the `verified` field is not true.\n",
    "```json\n",
    "{ \"verified\": { \"$ne\": true } }\n",
    "```\n",
    "\n",
    "7. `$in` (in) - To find documents where a field's value matches any value in a specified array. For example, to find documents where the `tags` field contains either \"food\" or \"Italian cuisine\".\n",
    "```json\n",
    "{ \"tags\": { \"$in\": [\"food\", \"Italian cuisine\"] } }\n",
    "```\n",
    "\n",
    "8. `$nin` (not in) - To find documents where a field's value does not match any value in a specified array. For example, to find documents where the `tags` field does not contain \"vegan\".\n",
    "```json\n",
    "{ \"tags\": { \"$nin\": [\"vegan\"] } }\n",
    "```\n",
    "\n",
    "9. `$exists` (field existence) - To find documents where a specific field exists or does not exist. For example, to find documents where the `comments` field exists.\n",
    "```json\n",
    "{ \"comments\": { \"$exists\": true } }\n",
    "```\n",
    "\n",
    "10. `$regex` (regular expression) - To find documents where a field's value matches a regular expression pattern. For example, to find documents where the `content` field contains the word \"pasta\". The `$options: \"i\"` makes the search case-insensitive.\n",
    "```json\n",
    "{ \"content\": { \"$regex\": \"pasta\", \"$options\": \"i\" } }\n",
    "```\n",
    "\n",
    "#### Query with array elements"
   ]
  },
  {
   "cell_type": "code",
   "execution_count": 7,
   "id": "e41fc008-6529-4f21-b78b-44f09694a3a5",
   "metadata": {
    "tags": []
   },
   "outputs": [
    {
     "name": "stdout",
     "output_type": "stream",
     "text": [
      "Posts with 'Mediterranean' Tag:\n",
      "\n",
      " {'_id': ObjectId('66a3c7c02c7227f672b7667a'), 'author': 'Angelina Jolie', 'content': 'Mediterranean food is not only healthy but also delicious!', 'tags': ['food', 'Mediterranean'], 'published_date': datetime.datetime(2024, 7, 19, 0, 0), 'views': 1200, 'rating': 4.8, 'verified': True, 'timestamp': datetime.datetime(2024, 7, 19, 14, 30), 'comments': [{'commenter': 'Brad Pitt', 'comment': 'Totally agree!', 'comment_date': datetime.datetime(2024, 7, 20, 0, 0), 'likes': 10, 'approved': True}]}\n",
      "\n",
      "Posts with tags exact order as ['food', 'Mediterranean']:\n",
      "\n",
      " {'_id': ObjectId('66a3c7c02c7227f672b7667a'), 'author': 'Angelina Jolie', 'content': 'Mediterranean food is not only healthy but also delicious!', 'tags': ['food', 'Mediterranean'], 'published_date': datetime.datetime(2024, 7, 19, 0, 0), 'views': 1200, 'rating': 4.8, 'verified': True, 'timestamp': datetime.datetime(2024, 7, 19, 14, 30), 'comments': [{'commenter': 'Brad Pitt', 'comment': 'Totally agree!', 'comment_date': datetime.datetime(2024, 7, 20, 0, 0), 'likes': 10, 'approved': True}]}\n",
      "\n",
      "Posts with tags exact order as ['Mediterranean', 'food']:\n",
      "\n",
      "Posts containing both 'food' and 'Italian cuisine' tags:\n",
      "\n",
      " {'_id': 'post1', 'author': 'Brad Pitt', 'content': 'I love Italian cuisine! Especially pasta.', 'tags': ['food', 'Italian cuisine'], 'published_date': datetime.datetime(2024, 7, 18, 0, 0), 'views': 1500, 'rating': 4.5, 'verified': True, 'timestamp': datetime.datetime(2024, 7, 18, 12, 0), 'comments': [{'commenter': 'Angelina Jolie', 'comment': 'Me too! Pasta is the best.', 'comment_date': datetime.datetime(2024, 7, 18, 0, 0), 'likes': 15, 'approved': True}, {'commenter': 'Leonardo DiCaprio', 'comment': \"Try the carbonara, it's amazing!\", 'comment_date': datetime.datetime(2024, 7, 19, 0, 0), 'likes': 20, 'approved': False}]}\n",
      "\n",
      "Posts containing at least one of 'Mediterranean' or 'Japanese cuisine' tags:\n",
      "\n",
      " {'_id': ObjectId('66a3c7c02c7227f672b7667a'), 'author': 'Angelina Jolie', 'content': 'Mediterranean food is not only healthy but also delicious!', 'tags': ['food', 'Mediterranean'], 'published_date': datetime.datetime(2024, 7, 19, 0, 0), 'views': 1200, 'rating': 4.8, 'verified': True, 'timestamp': datetime.datetime(2024, 7, 19, 14, 30), 'comments': [{'commenter': 'Brad Pitt', 'comment': 'Totally agree!', 'comment_date': datetime.datetime(2024, 7, 20, 0, 0), 'likes': 10, 'approved': True}]}\n",
      "\n",
      " {'_id': ObjectId('66a3c7c02c7227f672b7667b'), 'author': 'Leonardo DiCaprio', 'content': 'Sushi is my favorite comfort food.', 'tags': ['food', 'Japanese cuisine', 'Sushi'], 'published_date': datetime.datetime(2024, 7, 20, 0, 0), 'views': 800, 'rating': 4.3, 'verified': False, 'timestamp': datetime.datetime(2024, 7, 20, 16, 0), 'comments': [{'commenter': 'Brad Pitt', 'comment': 'Sushi is great! Have you tried sashimi?', 'comment_date': datetime.datetime(2024, 7, 21, 0, 0), 'likes': 5, 'approved': True}]}\n",
      "\n",
      "Posts with exactly 3 tags:\n",
      "\n",
      " {'_id': ObjectId('66a3c7c02c7227f672b7667b'), 'author': 'Leonardo DiCaprio', 'content': 'Sushi is my favorite comfort food.', 'tags': ['food', 'Japanese cuisine', 'Sushi'], 'published_date': datetime.datetime(2024, 7, 20, 0, 0), 'views': 800, 'rating': 4.3, 'verified': False, 'timestamp': datetime.datetime(2024, 7, 20, 16, 0), 'comments': [{'commenter': 'Brad Pitt', 'comment': 'Sushi is great! Have you tried sashimi?', 'comment_date': datetime.datetime(2024, 7, 21, 0, 0), 'likes': 5, 'approved': True}]}\n",
      "\n",
      "Posts where the first comment has more than 10 likes:\n",
      "\n",
      " {'_id': 'post1', 'author': 'Brad Pitt', 'content': 'I love Italian cuisine! Especially pasta.', 'tags': ['food', 'Italian cuisine'], 'published_date': datetime.datetime(2024, 7, 18, 0, 0), 'views': 1500, 'rating': 4.5, 'verified': True, 'timestamp': datetime.datetime(2024, 7, 18, 12, 0), 'comments': [{'commenter': 'Angelina Jolie', 'comment': 'Me too! Pasta is the best.', 'comment_date': datetime.datetime(2024, 7, 18, 0, 0), 'likes': 15, 'approved': True}, {'commenter': 'Leonardo DiCaprio', 'comment': \"Try the carbonara, it's amazing!\", 'comment_date': datetime.datetime(2024, 7, 19, 0, 0), 'likes': 20, 'approved': False}]}\n"
     ]
    }
   ],
   "source": [
    "# Retrieve documents with a specific tag\n",
    "posts_with_food_tag = posts.find({\"tags\": \"Mediterranean\"})\n",
    "print(\"Posts with 'Mediterranean' Tag:\")\n",
    "for post in posts_with_food_tag:\n",
    "    print(\"\\n\",post)\n",
    "\n",
    "# Retrieve documents with arrays that match exactly - with correct order\n",
    "posts_with_exact_match_with_food_and_mediterranean = posts.find({\"tags\": [\"food\", \"Mediterranean\"]})\n",
    "print(\"\\nPosts with tags exact order as ['food', 'Mediterranean']:\")\n",
    "for post in posts_with_exact_match_with_food_and_mediterranean:\n",
    "    print(\"\\n\", post)\n",
    "    \n",
    "# Retrieve documents with arrays that match exactly - with incorrect order\n",
    "posts_with_exact_match_with_mediterranean_and_food = posts.find({\"tags\": [\"Mediterranean\", \"food\"]})\n",
    "print(\"\\nPosts with tags exact order as ['Mediterranean', 'food']:\")\n",
    "for post in posts_with_exact_match_with_mediterranean_and_food:\n",
    "    print(\"\\n\", post)\n",
    "\n",
    "# Retrieve documents where the tags field contains both \"food\" and \"Italian cuisine\"\n",
    "posts_with_food_and_italian = posts.find({\"tags\": {\"$all\": [\"food\", \"Italian cuisine\"]}})\n",
    "print(\"\\nPosts containing both 'food' and 'Italian cuisine' tags:\")\n",
    "for post in posts_with_food_and_italian:\n",
    "    print(\"\\n\",post)\n",
    "    \n",
    "\n",
    "# Retrieve documents where the tags field contains at least one of \"Mediterranean\" or \"Japanese cuisine\"\n",
    "posts_with_mediterranean_or_japanese = posts.find({\"tags\": {\"$in\": [\"Mediterranean\", \"Japanese cuisine\"]}})\n",
    "print(\"\\nPosts containing at least one of 'Mediterranean' or 'Japanese cuisine' tags:\")\n",
    "for post in posts_with_mediterranean_or_japanese:\n",
    "    print(\"\\n\",post)\n",
    "    \n",
    "# Retrieve documents where the tags array contains exactly 3 elements\n",
    "posts_with_two_tags = posts.find({\"tags\": {\"$size\": 3}})\n",
    "print(\"\\nPosts with exactly 3 tags:\")\n",
    "for post in posts_with_two_tags:\n",
    "    print(\"\\n\", post)\n",
    "    \n",
    "# Retrieve documents where the first element in the comments array has more than 10 likes\n",
    "posts_with_first_comment_likes = posts.find({\"comments.0.likes\": {\"$gt\": 10}})\n",
    "print(\"\\nPosts where the first comment has more than 10 likes:\")\n",
    "for post in posts_with_first_comment_likes:\n",
    "    print(\"\\n\", post)"
   ]
  },
  {
   "cell_type": "markdown",
   "id": "cdfce100-6bed-48e5-ad34-de3694007cc3",
   "metadata": {},
   "source": [
    "##### MongoDB array query operators\n",
    "\n",
    "1. Equality query (`{ \"field\": value }`) - Matches documents where the specified array field contains the exact value. For example, to find documents where the `tags` field contains the tag \"food\".\n",
    "```json\n",
    "{ \"tags\": \"food\" }\n",
    "```\n",
    "\n",
    "2. Exact array match (`{ \"field\": [value1, value2] }`) - Matches documents where the array field matches the specified array exactly, including the order of elements. For example, to find documents where the `tags` field is exactly \"['food', 'Mediterranean']\".\n",
    "```json\n",
    "{ \"tags\": [\"food\", \"Mediterranean\"] }\n",
    "```\n",
    "\n",
    "3. `$all` operator - Matches documents where the array field contains all of the specified values. This operator does not consider the order of the elements. For example, to find documents where the `tags` field contains both \"food\" and \"Italian cuisine\".\n",
    "```json\n",
    "{ \"tags\": { \"$all\": [\"food\", \"Italian cuisine\"] } }\n",
    "```\n",
    "\n",
    "4. `$in` operator - Matches documents where the array field contains any of the specified values. For example, to find documents where the `tags` field contains at least one of \"food\" or \"Japanese cuisine\".\n",
    "```json\n",
    "{ \"tags\": { \"$in\": [\"food\", \"Japanese cuisine\"] } }\n",
    "```\n",
    "\n",
    "5. `$nin` operator (not in) - Matches documents where the array field does not contain any of the specified values. For example, to find documents where the `tags` field does not contain \"vegan\" or \"gluten-free\".\n",
    "```json\n",
    "{ \"tags\": { \"$nin\": [\"vegan\", \"gluten-free\"] } }\n",
    "```\n",
    "\n",
    "6. `$size` operator - Matches documents where the array field has a specific number of elements. For example, to find documents where the `comments` array contains exactly 2 comments.\n",
    "```json\n",
    "{ \"comments\": { \"$size\": 2 } }\n",
    "```\n",
    "\n",
    "7. `$elemMatch` operator - Matches documents where at least one array element matches all specified criteria. For example, to find documents where the `comments` array contains an element where the `likes` field is greater than 10 and `approved` is true.\n",
    "```json\n",
    "{ \"comments\": { \"$elemMatch\": { \"likes\": { \"$gt\": 10 }, \"approved\": true } } }\n",
    "```\n",
    "\n",
    "8. `$exists` operator - Matches documents where the array field exists or does not exist. For example, to find documents where the `tags` field exists.\n",
    "```json\n",
    "{ \"tags\": { \"$exists\": true } }\n",
    "```\n",
    "\n",
    "9. `$type` operator - Matches documents where the array field is of a specific BSON type. For example, to find documents where the `tags` field is an array.\n",
    "```json\n",
    "{ \"tags\": { \"$type\": \"array\" } }\n",
    "```\n",
    "\n",
    "10. Query by the array index position - Matches documents where a specific element in the array matches the specified condition by its index position. For example, where the first element in the `comments` array (`comments.0`) has `likes` greater than 10. The index `0` refers to the first element in the array.\n",
    "\n",
    "```json\n",
    "{ \"comments.0.likes\": { \"$gt\": 10 } }\n",
    "```\n",
    "\n",
    "### Using `AND` and `OR` conditions"
   ]
  },
  {
   "cell_type": "code",
   "execution_count": 8,
   "id": "9efc7db6-501b-43b1-a45c-76f161af5276",
   "metadata": {
    "tags": []
   },
   "outputs": [
    {
     "name": "stdout",
     "output_type": "stream",
     "text": [
      "Documents where the author is 'Brad Pitt' and views are greater than 1100 (implicit $and):\n",
      "\n",
      " {'_id': 'post1', 'author': 'Brad Pitt', 'content': 'I love Italian cuisine! Especially pasta.', 'tags': ['food', 'Italian cuisine'], 'published_date': datetime.datetime(2024, 7, 18, 0, 0), 'views': 1500, 'rating': 4.5, 'verified': True, 'timestamp': datetime.datetime(2024, 7, 18, 12, 0), 'comments': [{'commenter': 'Angelina Jolie', 'comment': 'Me too! Pasta is the best.', 'comment_date': datetime.datetime(2024, 7, 18, 0, 0), 'likes': 15, 'approved': True}, {'commenter': 'Leonardo DiCaprio', 'comment': \"Try the carbonara, it's amazing!\", 'comment_date': datetime.datetime(2024, 7, 19, 0, 0), 'likes': 20, 'approved': False}]}\n",
      "\n",
      "Documents where the author is 'Brad Pitt' and views are greater than 1100 (explicit $and):\n",
      "\n",
      " {'_id': 'post1', 'author': 'Brad Pitt', 'content': 'I love Italian cuisine! Especially pasta.', 'tags': ['food', 'Italian cuisine'], 'published_date': datetime.datetime(2024, 7, 18, 0, 0), 'views': 1500, 'rating': 4.5, 'verified': True, 'timestamp': datetime.datetime(2024, 7, 18, 12, 0), 'comments': [{'commenter': 'Angelina Jolie', 'comment': 'Me too! Pasta is the best.', 'comment_date': datetime.datetime(2024, 7, 18, 0, 0), 'likes': 15, 'approved': True}, {'commenter': 'Leonardo DiCaprio', 'comment': \"Try the carbonara, it's amazing!\", 'comment_date': datetime.datetime(2024, 7, 19, 0, 0), 'likes': 20, 'approved': False}]}\n",
      "\n",
      "Documents where the author is 'Brad Pitt' or views are greater than 1100:\n",
      "\n",
      " {'_id': 'post1', 'author': 'Brad Pitt', 'content': 'I love Italian cuisine! Especially pasta.', 'tags': ['food', 'Italian cuisine'], 'published_date': datetime.datetime(2024, 7, 18, 0, 0), 'views': 1500, 'rating': 4.5, 'verified': True, 'timestamp': datetime.datetime(2024, 7, 18, 12, 0), 'comments': [{'commenter': 'Angelina Jolie', 'comment': 'Me too! Pasta is the best.', 'comment_date': datetime.datetime(2024, 7, 18, 0, 0), 'likes': 15, 'approved': True}, {'commenter': 'Leonardo DiCaprio', 'comment': \"Try the carbonara, it's amazing!\", 'comment_date': datetime.datetime(2024, 7, 19, 0, 0), 'likes': 20, 'approved': False}]}\n",
      "\n",
      " {'_id': ObjectId('66a3c7c02c7227f672b7667a'), 'author': 'Angelina Jolie', 'content': 'Mediterranean food is not only healthy but also delicious!', 'tags': ['food', 'Mediterranean'], 'published_date': datetime.datetime(2024, 7, 19, 0, 0), 'views': 1200, 'rating': 4.8, 'verified': True, 'timestamp': datetime.datetime(2024, 7, 19, 14, 30), 'comments': [{'commenter': 'Brad Pitt', 'comment': 'Totally agree!', 'comment_date': datetime.datetime(2024, 7, 20, 0, 0), 'likes': 10, 'approved': True}]}\n"
     ]
    }
   ],
   "source": [
    "# Implicit $and using `,` - Find documents where the author is 'Brad Pitt' and views are greater than 1100\n",
    "query = {\"author\": \"Brad Pitt\", \"views\": {\"$gt\": 1100}}\n",
    "results = posts.find(query)\n",
    "print(\"Documents where the author is 'Brad Pitt' and views are greater than 1100 (implicit $and):\")\n",
    "for post in results:\n",
    "    print(\"\\n\",post)\n",
    "    \n",
    "# Explicit $and - Find documents where the author is 'Brad Pitt' and views are greater than 1100\n",
    "query = {\"$and\": [{\"author\": \"Brad Pitt\"}, {\"views\": {\"$gt\": 1100}}]}\n",
    "results = posts.find(query)\n",
    "print(\"\\nDocuments where the author is 'Brad Pitt' and views are greater than 1100 (explicit $and):\")\n",
    "for post in results:\n",
    "    print(\"\\n\",post)\n",
    "    \n",
    "# $or operator - Find documents where the author is 'Brad Pitt' or views are greater than 1100\n",
    "query = {\"$or\": [{\"author\": \"Brad Pitt\"}, {\"views\": {\"$gt\": 1100}}]}\n",
    "results = posts.find(query)\n",
    "print(\"\\nDocuments where the author is 'Brad Pitt' or views are greater than 1100:\")\n",
    "for post in results:\n",
    "    print(\"\\n\",post)"
   ]
  },
  {
   "cell_type": "markdown",
   "id": "0f5bdec5-9c2b-4fbc-a9c7-ca4f5eb1b31b",
   "metadata": {},
   "source": [
    "##### Using the `$and` operator\n",
    "The `$and` operator matches documents that satisfy all the specified conditions. We can specify `$and` in two ways. Both methods achieve the same result, but the explicit `$and` operator is useful when combining complex conditions.\n",
    "\n",
    "1. **Implicit `$and` using `,`**: We simply list the conditions separated by commas within the curly braces `{}`. When we include multiple fields separated by `,` in a single query object, MongoDB implicitly performs an `$and` operation.\n",
    "  ```python\n",
    "  {\"field1\": value1, \"field2\": value2}\n",
    "  ```\n",
    "  \n",
    "2. **Explicit `$and` using the `$and` operator**: We can explicitly use the `$and` operator to combine multiple conditions. We use the `$and` operator followed by an array `[]` that contains the conditions as separate objects.\n",
    "  ```python\n",
    "  {\"$and\": [{\"field1\": value1}, {\"field2\": value2}]}\n",
    "  ```\n",
    "  \n",
    "##### Using the `$or` operator\n",
    "The `$or` operator matches documents that satisfy at least one of the specified conditions. We use the `$or` operator followed by an array `[]` that contains the conditions as separate objects.\n",
    "  ```python\n",
    "  {\"$or\": [{\"field1\": value1}, {\"field2\": value2}]}\n",
    "  ```\n",
    "\n",
    "#### Query with nested/embedded documents"
   ]
  },
  {
   "cell_type": "code",
   "execution_count": 9,
   "id": "3ea21bf5-2907-4068-b918-2ac2b0809ced",
   "metadata": {
    "tags": []
   },
   "outputs": [
    {
     "name": "stdout",
     "output_type": "stream",
     "text": [
      "Posts with comments by Angelina Jolie ($elemMatch operator):\n",
      "\n",
      " {'_id': 'post1', 'author': 'Brad Pitt', 'content': 'I love Italian cuisine! Especially pasta.', 'tags': ['food', 'Italian cuisine'], 'published_date': datetime.datetime(2024, 7, 18, 0, 0), 'views': 1500, 'rating': 4.5, 'verified': True, 'timestamp': datetime.datetime(2024, 7, 18, 12, 0), 'comments': [{'commenter': 'Angelina Jolie', 'comment': 'Me too! Pasta is the best.', 'comment_date': datetime.datetime(2024, 7, 18, 0, 0), 'likes': 15, 'approved': True}, {'commenter': 'Leonardo DiCaprio', 'comment': \"Try the carbonara, it's amazing!\", 'comment_date': datetime.datetime(2024, 7, 19, 0, 0), 'likes': 20, 'approved': False}]}\n",
      "\n",
      " {'_id': ObjectId('66a3c7c02c7227f672b7667c'), 'author': 'Natalie Portman', 'content': 'As a vegan, I love discovering new plant-based recipes.', 'tags': ['food', 'vegan'], 'published_date': datetime.datetime(2024, 7, 21, 0, 0), 'views': 1100, 'rating': 4.5, 'verified': True, 'timestamp': datetime.datetime(2024, 7, 21, 10, 0), 'comments': [{'commenter': 'Angelina Jolie', 'comment': 'I should try more vegan dishes!', 'comment_date': datetime.datetime(2024, 7, 22, 0, 0), 'likes': 8, 'approved': False}]}\n",
      "\n",
      "Posts with comments by Angelina Jolie (dot notation):\n",
      "\n",
      " {'_id': 'post1', 'author': 'Brad Pitt', 'content': 'I love Italian cuisine! Especially pasta.', 'tags': ['food', 'Italian cuisine'], 'published_date': datetime.datetime(2024, 7, 18, 0, 0), 'views': 1500, 'rating': 4.5, 'verified': True, 'timestamp': datetime.datetime(2024, 7, 18, 12, 0), 'comments': [{'commenter': 'Angelina Jolie', 'comment': 'Me too! Pasta is the best.', 'comment_date': datetime.datetime(2024, 7, 18, 0, 0), 'likes': 15, 'approved': True}, {'commenter': 'Leonardo DiCaprio', 'comment': \"Try the carbonara, it's amazing!\", 'comment_date': datetime.datetime(2024, 7, 19, 0, 0), 'likes': 20, 'approved': False}]}\n",
      "\n",
      " {'_id': ObjectId('66a3c7c02c7227f672b7667c'), 'author': 'Natalie Portman', 'content': 'As a vegan, I love discovering new plant-based recipes.', 'tags': ['food', 'vegan'], 'published_date': datetime.datetime(2024, 7, 21, 0, 0), 'views': 1100, 'rating': 4.5, 'verified': True, 'timestamp': datetime.datetime(2024, 7, 21, 10, 0), 'comments': [{'commenter': 'Angelina Jolie', 'comment': 'I should try more vegan dishes!', 'comment_date': datetime.datetime(2024, 7, 22, 0, 0), 'likes': 8, 'approved': False}]}\n",
      "\n",
      "Query by multiple fields:\n",
      "\n",
      "Posts with approved comments with likes > 10 by Angelina Jolie ($elemMatch operator):\n",
      "\n",
      " {'_id': 'post1', 'author': 'Brad Pitt', 'content': 'I love Italian cuisine! Especially pasta.', 'tags': ['food', 'Italian cuisine'], 'published_date': datetime.datetime(2024, 7, 18, 0, 0), 'views': 1500, 'rating': 4.5, 'verified': True, 'timestamp': datetime.datetime(2024, 7, 18, 12, 0), 'comments': [{'commenter': 'Angelina Jolie', 'comment': 'Me too! Pasta is the best.', 'comment_date': datetime.datetime(2024, 7, 18, 0, 0), 'likes': 15, 'approved': True}, {'commenter': 'Leonardo DiCaprio', 'comment': \"Try the carbonara, it's amazing!\", 'comment_date': datetime.datetime(2024, 7, 19, 0, 0), 'likes': 20, 'approved': False}]}\n",
      "\n",
      "Posts with approved comments with likes > 10 by Angelina Jolie (dot notation):\n",
      "\n",
      " {'_id': 'post1', 'author': 'Brad Pitt', 'content': 'I love Italian cuisine! Especially pasta.', 'tags': ['food', 'Italian cuisine'], 'published_date': datetime.datetime(2024, 7, 18, 0, 0), 'views': 1500, 'rating': 4.5, 'verified': True, 'timestamp': datetime.datetime(2024, 7, 18, 12, 0), 'comments': [{'commenter': 'Angelina Jolie', 'comment': 'Me too! Pasta is the best.', 'comment_date': datetime.datetime(2024, 7, 18, 0, 0), 'likes': 15, 'approved': True}, {'commenter': 'Leonardo DiCaprio', 'comment': \"Try the carbonara, it's amazing!\", 'comment_date': datetime.datetime(2024, 7, 19, 0, 0), 'likes': 20, 'approved': False}]}\n"
     ]
    }
   ],
   "source": [
    "# Query by field in a nested document using $elemMatch - Retrieve documents with a specific commenter\n",
    "posts_with_comment = posts.find({\"comments\": {\"$elemMatch\": {\"commenter\": \"Angelina Jolie\"}}})\n",
    "print(\"Posts with comments by Angelina Jolie ($elemMatch operator):\")\n",
    "for post in posts_with_comment:\n",
    "    print(\"\\n\", post)\n",
    "    \n",
    "\n",
    "# Query by field in a nested document using dot notation - Retrieve documents with a specific commenter\n",
    "posts_with_comment = posts.find({\"comments.commenter\": \"Angelina Jolie\"})\n",
    "print(\"\\nPosts with comments by Angelina Jolie (dot notation):\")\n",
    "for post in posts_with_comment:\n",
    "    print(\"\\n\", post)\n",
    "    \n",
    "\n",
    "####### Query by multiple fields ######\n",
    "print(\"\\nQuery by multiple fields:\")\n",
    "# Query by multiple fields in a nested document using $elemMatch - Retrieve documents where a commenter is \"Angelina Jolie\", 'approved' is True, and likes are greater than 10\n",
    "posts_with_approved_angelina_comment_explicit = posts.find({\n",
    "    \"comments\": {\"$elemMatch\": {\"commenter\": \"Angelina Jolie\", \"approved\": True, \"likes\": {\"$gt\": 10}}}\n",
    "})\n",
    "print(\"\\nPosts with approved comments with likes > 10 by Angelina Jolie ($elemMatch operator):\")\n",
    "for post in posts_with_approved_angelina_comment_explicit:\n",
    "    print(\"\\n\", post)\n",
    "    \n",
    "\n",
    "# Query by multiple fields in a nested document using dot notation - Retrieve documents where a commenter is \"Angelina Jolie\", 'approved' is True, and likes are greater than 10\n",
    "posts_with_approved_angelina_comment = posts.find({\n",
    "    \"comments.commenter\": \"Angelina Jolie\",\n",
    "    \"comments.approved\": True,\n",
    "    \"comments.likes\": {\"$gt\": 10}\n",
    "})\n",
    "print(\"\\nPosts with approved comments with likes > 10 by Angelina Jolie (dot notation):\")\n",
    "for post in posts_with_approved_angelina_comment:\n",
    "    print(\"\\n\",post)"
   ]
  },
  {
   "cell_type": "markdown",
   "id": "e0428640-64b8-4209-a7ea-34ed1fa49286",
   "metadata": {},
   "source": [
    "MongoDB provides two main ways to query these nested fields: using dot notation and explicitly specifying conditions within nested documents.\n",
    "\n",
    "##### Querying using `$elemMatch`\n",
    "The `$elemMatch` operator is used to match documents that contain an array with at least one element that matches all the specified conditions.\n",
    "\n",
    "  ```python\n",
    "  {\"field\": {\"$elemMatch\": {\"subfield\": value}}}\n",
    "  ```\n",
    "\n",
    "##### Querying with dot notation\n",
    "Dot notation allows us to access and query fields within nested documents by specifying the path to the field.\n",
    "  ```python\n",
    "  { \"field.subfield\": value }\n",
    "  ```\n",
    "\n",
    "#### Query with date range"
   ]
  },
  {
   "cell_type": "code",
   "execution_count": 10,
   "id": "695891ea-24e7-4d53-9e4b-95382600cc93",
   "metadata": {
    "tags": []
   },
   "outputs": [
    {
     "name": "stdout",
     "output_type": "stream",
     "text": [
      "Posts Published between July 20th to August 1st 2024:\n",
      "\n",
      " {'_id': ObjectId('66a3c7c02c7227f672b7667b'), 'author': 'Leonardo DiCaprio', 'content': 'Sushi is my favorite comfort food.', 'tags': ['food', 'Japanese cuisine', 'Sushi'], 'published_date': datetime.datetime(2024, 7, 20, 0, 0), 'views': 800, 'rating': 4.3, 'verified': False, 'timestamp': datetime.datetime(2024, 7, 20, 16, 0), 'comments': [{'commenter': 'Brad Pitt', 'comment': 'Sushi is great! Have you tried sashimi?', 'comment_date': datetime.datetime(2024, 7, 21, 0, 0), 'likes': 5, 'approved': True}]}\n",
      "\n",
      " {'_id': ObjectId('66a3c7c02c7227f672b7667c'), 'author': 'Natalie Portman', 'content': 'As a vegan, I love discovering new plant-based recipes.', 'tags': ['food', 'vegan'], 'published_date': datetime.datetime(2024, 7, 21, 0, 0), 'views': 1100, 'rating': 4.5, 'verified': True, 'timestamp': datetime.datetime(2024, 7, 21, 10, 0), 'comments': [{'commenter': 'Angelina Jolie', 'comment': 'I should try more vegan dishes!', 'comment_date': datetime.datetime(2024, 7, 22, 0, 0), 'likes': 8, 'approved': False}]}\n"
     ]
    }
   ],
   "source": [
    "# Retrieve documents published in July 2024\n",
    "posts_in_july = posts.find({\"published_date\": {\"$gte\": datetime(2024, 7, 20), \"$lt\": datetime(2024, 8, 1)}})\n",
    "\n",
    "# Print the results\n",
    "print(\"Posts Published between July 20th to August 1st 2024:\")\n",
    "for post in posts_in_july:\n",
    "    print(\"\\n\",post)"
   ]
  },
  {
   "cell_type": "markdown",
   "id": "c2df6659-5fab-4c3c-ba0f-b1c909fb7f6a",
   "metadata": {
    "tags": []
   },
   "source": [
    "### Projection\n",
    "\n",
    "Projection specifies which fields should be included or excluded from the query results.\n",
    "\n",
    "* Include fields: By default, MongoDB returns all fields in the documents that match the query. Using projection, we can choose to include only specific fields.\n",
    "\n",
    "* Exclude fields: we can also exclude specific fields from the query results, which means the fields not specified in the projection will be excluded.\n",
    "\n",
    "* Limit fields: Projection allows us to limit the amount of data retrieved by including only the necessary fields, which can improve query performance."
   ]
  },
  {
   "cell_type": "code",
   "execution_count": 11,
   "id": "b6267b69-aba7-4470-925b-3a0fb2f0d875",
   "metadata": {
    "tags": []
   },
   "outputs": [
    {
     "name": "stdout",
     "output_type": "stream",
     "text": [
      "Posts with only 'author' and 'content' fields:\n",
      "{'_id': 'post1', 'author': 'Brad Pitt', 'content': 'I love Italian cuisine! Especially pasta.'}\n",
      "{'_id': ObjectId('66a3c7c02c7227f672b7667a'), 'author': 'Angelina Jolie', 'content': 'Mediterranean food is not only healthy but also delicious!'}\n",
      "{'_id': ObjectId('66a3c7c02c7227f672b7667b'), 'author': 'Leonardo DiCaprio', 'content': 'Sushi is my favorite comfort food.'}\n",
      "{'_id': ObjectId('66a3c7c02c7227f672b7667c'), 'author': 'Natalie Portman', 'content': 'As a vegan, I love discovering new plant-based recipes.'}\n",
      "\n",
      "Posts without comments and _id field:\n",
      "{'author': 'Brad Pitt', 'content': 'I love Italian cuisine! Especially pasta.', 'tags': ['food', 'Italian cuisine'], 'published_date': datetime.datetime(2024, 7, 18, 0, 0), 'views': 1500, 'rating': 4.5, 'verified': True, 'timestamp': datetime.datetime(2024, 7, 18, 12, 0)}\n",
      "{'author': 'Angelina Jolie', 'content': 'Mediterranean food is not only healthy but also delicious!', 'tags': ['food', 'Mediterranean'], 'published_date': datetime.datetime(2024, 7, 19, 0, 0), 'views': 1200, 'rating': 4.8, 'verified': True, 'timestamp': datetime.datetime(2024, 7, 19, 14, 30)}\n",
      "{'author': 'Leonardo DiCaprio', 'content': 'Sushi is my favorite comfort food.', 'tags': ['food', 'Japanese cuisine', 'Sushi'], 'published_date': datetime.datetime(2024, 7, 20, 0, 0), 'views': 800, 'rating': 4.3, 'verified': False, 'timestamp': datetime.datetime(2024, 7, 20, 16, 0)}\n",
      "{'author': 'Natalie Portman', 'content': 'As a vegan, I love discovering new plant-based recipes.', 'tags': ['food', 'vegan'], 'published_date': datetime.datetime(2024, 7, 21, 0, 0), 'views': 1100, 'rating': 4.5, 'verified': True, 'timestamp': datetime.datetime(2024, 7, 21, 10, 0)}\n",
      "\n",
      "Authors and views of all posts (without _id):\n",
      "{'author': 'Brad Pitt', 'views': 1500}\n",
      "{'author': 'Angelina Jolie', 'views': 1200}\n",
      "{'author': 'Leonardo DiCaprio', 'views': 800}\n",
      "{'author': 'Natalie Portman', 'views': 1100}\n",
      "\n",
      "Posts with 'Mediterranean' tag showing only 'author' and 'views':\n",
      "{'author': 'Angelina Jolie', 'views': 1200}\n",
      "\n",
      "Posts with only 'comments.commenter':\n",
      "{'comments': [{'commenter': 'Angelina Jolie'}, {'commenter': 'Leonardo DiCaprio'}]}\n",
      "{'comments': [{'commenter': 'Brad Pitt'}]}\n",
      "{'comments': [{'commenter': 'Brad Pitt'}]}\n",
      "{'comments': [{'commenter': 'Angelina Jolie'}]}\n"
     ]
    }
   ],
   "source": [
    "# Including specific fields - Retrieve only the author and content fields\n",
    "projected_posts = posts.find({}, {\"author\": 1, \"content\": 1})\n",
    "print(\"Posts with only 'author' and 'content' fields:\")\n",
    "for post in projected_posts:\n",
    "    print(post)\n",
    "    \n",
    "# Excluding specific fields - Retrieve all fields except comments and _id\n",
    "no_comments = posts.find({}, {\"comments\": 0, \"_id\": 0})\n",
    "print(\"\\nPosts without comments and _id field:\")\n",
    "for post in no_comments:\n",
    "    print(post)\n",
    "    \n",
    "# Retrieve documents where only author and views fields are included, and exclude _id\n",
    "author_views = posts.find({}, {\"author\": 1, \"views\": 1, \"_id\": 0})\n",
    "print(\"\\nAuthors and views of all posts (without _id):\")\n",
    "for post in author_views:\n",
    "    print(post)\n",
    "    \n",
    "# Projection with filtering - Retrieve documents with 'Mediterranean' tag and include only 'author' and 'content'\n",
    "filtered_projection = posts.find({\"tags\": \"Mediterranean\"}, {\"author\": 1, \"views\": 1, \"_id\": 0})\n",
    "print(\"\\nPosts with 'Mediterranean' tag showing only 'author' and 'views':\")\n",
    "for post in filtered_projection:\n",
    "    print(post)\n",
    "    \n",
    "# Projection with nested fields - Retrieve only 'comments.commenter' from documents\n",
    "nested_projection = posts.find({}, {\"comments.commenter\": 1, \"_id\": 0})\n",
    "print(\"\\nPosts with only 'comments.commenter':\")\n",
    "for post in nested_projection:\n",
    "    print(post)"
   ]
  },
  {
   "cell_type": "markdown",
   "id": "6240c644-77d8-40ef-8625-11a20e823679",
   "metadata": {},
   "source": [
    "##### Projection concepts\n",
    "\n",
    "1. **Default Behavior**: By default, if no projection is specified, MongoDB returns all fields in the documents.\n",
    "\n",
    "2. **Inclusion projection** `{ \"field1\": 1, \"field2\": 1 }`: Specifies which fields should be included in the query results. For example: To retrieve only the `author` field from all documents:\n",
    " ```json\n",
    " { \"author\": 1 }\n",
    " ```\n",
    "   - **Note**: If we include one field, MongoDB will include the `_id` field by default unless explicitly excluded.\n",
    "\n",
    "3. **Exclusion projection** `{ \"field1\": 0, \"field2\": 0 }`: Specifies which fields should be excluded from the query results. For example: To exclude the `comments` field from all documents:\n",
    " ```json\n",
    " { \"comments\": 0 }\n",
    " ```\n",
    "    - **Note**: Excluding `_id` field: The `_id` field is included by default unless explicitly excluded.\n",
    "\n",
    "4. **Mixed projection** `{ \"field1\": 1, \"field2\": 0 }`: Combines inclusion and exclusion. Only one field can be excluded at a time if we are using inclusion. For example**: To include `author` and `views`, and exclude `_id`:\n",
    " ```json\n",
    " { \"author\": 1, \"views\": 1, \"_id\": 0 }\n",
    " ```\n",
    "\n",
    "5. **Projection with nested fields** `{ \"nestedField.subField\": 1 }`: To project fields within nested documents, use dot notation. For example: To include only `comments.commenter` in each document:\n",
    " ```json\n",
    " { \"comments.commenter\": 1 }\n",
    " ```\n",
    " \n",
    "6. **Projection with filtering**: We can use projection in combination with filtering to return specific fields for documents that match certain criteria. For example: To filter posts with the `Mediterranean` tag and project only `author` and `content` fields:\n",
    " ```json\n",
    " posts.find({\"tags\": \"Mediterranean\"}, {\"author\": 1, \"content\": 1, \"_id\": 0})\n",
    " ```\n",
    " \n",
    "#### Limiting and skipping"
   ]
  },
  {
   "cell_type": "code",
   "execution_count": 12,
   "id": "fe89aa9e-faea-4f41-b62b-d320651f3a84",
   "metadata": {
    "tags": []
   },
   "outputs": [
    {
     "name": "stdout",
     "output_type": "stream",
     "text": [
      "First 2 posts:\n",
      "{'author': 'Brad Pitt', 'comments': [{'commenter': 'Angelina Jolie'}, {'commenter': 'Leonardo DiCaprio'}]}\n",
      "{'author': 'Angelina Jolie', 'comments': [{'commenter': 'Brad Pitt'}]}\n",
      "\n",
      "Posts after skipping the first 2, showing next 2:\n",
      "{'author': 'Leonardo DiCaprio', 'comments': [{'commenter': 'Brad Pitt'}]}\n",
      "{'author': 'Natalie Portman', 'comments': [{'commenter': 'Angelina Jolie'}]}\n",
      "\n",
      "Combined: Skipping the first 2 and limiting to 1 more post:\n",
      "{'author': 'Leonardo DiCaprio', 'comments': [{'commenter': 'Brad Pitt'}]}\n"
     ]
    }
   ],
   "source": [
    "# Limit: Retrieve only the first 2 documents\n",
    "limited_posts = posts.find({}, {\"author\": 1, \"comments.commenter\": 1, \"_id\": 0}).limit(2)\n",
    "print(\"First 2 posts:\")\n",
    "for post in limited_posts:\n",
    "    print(post)\n",
    "\n",
    "# Skip: Skip the first 2 documents and retrieve the next 2\n",
    "skipped_posts = posts.find({}, {\"author\": 1, \"comments.commenter\": 1, \"_id\": 0}).skip(2)\n",
    "print(\"\\nPosts after skipping the first 2, showing next 2:\")\n",
    "for post in skipped_posts:\n",
    "    print(post)\n",
    "\n",
    "# Limit and Skip Together: Skip the first 2 documents and limit the result to 1 document\n",
    "combined_posts = posts.find({}, {\"author\": 1, \"comments.commenter\": 1, \"_id\": 0}).skip(2).limit(1)\n",
    "print(\"\\nCombined: Skipping the first 2 and limiting to 1 more post:\")\n",
    "for post in combined_posts:\n",
    "    print(post)"
   ]
  },
  {
   "cell_type": "markdown",
   "id": "6ad15fcd-7007-42b1-8b5b-ca30254a277e",
   "metadata": {},
   "source": [
    "1. **Limiting results (`limit(n)`)**: The `limit()` method restricts the number of documents returned by a query to a specified number. This is useful for controlling the size of the result set and for implementing pagination.\n",
    "\n",
    "2. **Skipping results (`skip(n)`)**: The `skip()` method skips a specified number of documents in the result set before returning the remaining documents. This is often used in conjunction with `limit` to implement pagination, where we want to skip a number of documents based on the current page.\n",
    "\n",
    "3. **Combining limit and skip**: we can combine `skip()` and `limit()` to paginate through a dataset. For example, to get the next set of results after skipping a certain number of documents.\n",
    "\n",
    "#### Sorting"
   ]
  },
  {
   "cell_type": "code",
   "execution_count": 13,
   "id": "191e3612-a1d5-4cbb-8a6f-4102fc6e4042",
   "metadata": {
    "tags": []
   },
   "outputs": [
    {
     "name": "stdout",
     "output_type": "stream",
     "text": [
      "Posts sorted by 'published_date' (ascending):\n",
      "{'author': 'Brad Pitt', 'views': 1500, 'comments': [{'likes': 15}, {'likes': 20}]}\n",
      "{'author': 'Angelina Jolie', 'views': 1200, 'comments': [{'likes': 10}]}\n",
      "{'author': 'Leonardo DiCaprio', 'views': 800, 'comments': [{'likes': 5}]}\n",
      "{'author': 'Natalie Portman', 'views': 1100, 'comments': [{'likes': 8}]}\n",
      "\n",
      "Posts sorted by 'published_date' (descending):\n",
      "{'author': 'Natalie Portman', 'views': 1100, 'comments': [{'likes': 8}]}\n",
      "{'author': 'Leonardo DiCaprio', 'views': 800, 'comments': [{'likes': 5}]}\n",
      "{'author': 'Angelina Jolie', 'views': 1200, 'comments': [{'likes': 10}]}\n",
      "{'author': 'Brad Pitt', 'views': 1500, 'comments': [{'likes': 15}, {'likes': 20}]}\n",
      "\n",
      "Posts sorted by 'rating' (ascending) and then by 'views' (descending):\n",
      "{'author': 'Leonardo DiCaprio', 'published_date': datetime.datetime(2024, 7, 20, 0, 0), 'comments': [{'likes': 5}]}\n",
      "{'author': 'Brad Pitt', 'published_date': datetime.datetime(2024, 7, 18, 0, 0), 'comments': [{'likes': 15}, {'likes': 20}]}\n",
      "{'author': 'Natalie Portman', 'published_date': datetime.datetime(2024, 7, 21, 0, 0), 'comments': [{'likes': 8}]}\n",
      "{'author': 'Angelina Jolie', 'published_date': datetime.datetime(2024, 7, 19, 0, 0), 'comments': [{'likes': 10}]}\n",
      "\n",
      "Posts sorted by 'comments.comment_date' (ascending):\n",
      "{'author': 'Brad Pitt', 'views': 1500, 'comments': [{'likes': 15}, {'likes': 20}]}\n",
      "{'author': 'Angelina Jolie', 'views': 1200, 'comments': [{'likes': 10}]}\n",
      "{'author': 'Leonardo DiCaprio', 'views': 800, 'comments': [{'likes': 5}]}\n",
      "{'author': 'Natalie Portman', 'views': 1100, 'comments': [{'likes': 8}]}\n"
     ]
    }
   ],
   "source": [
    "# Sort by 'published_date' in ascending order\n",
    "sorted_by_date = posts.find({}, {\"author\": 1, \"views\": 1, \"comments.likes\": 1, \"_id\": 0}).sort(\"published_date\", 1)\n",
    "print(\"Posts sorted by 'published_date' (ascending):\")\n",
    "for post in sorted_by_date:\n",
    "    print(post)\n",
    "    \n",
    "# Sort by 'published_date' in descending order\n",
    "sorted_by_date_desc = posts.find({}, {\"author\": 1, \"views\": 1, \"comments.likes\": 1, \"_id\": 0}).sort(\"published_date\", -1)\n",
    "print(\"\\nPosts sorted by 'published_date' (descending):\")\n",
    "for post in sorted_by_date_desc:\n",
    "    print(post)\n",
    "    \n",
    "# Sort by 'rating' (ascending) and then by 'views' (descending)\n",
    "sorted_by_rating_and_views = posts.find({}, {\"author\": 1, \"published_date\": 1, \"comments.likes\": 1, \"_id\": 0}).sort([(\"rating\", 1), (\"views\", -1)])\n",
    "print(\"\\nPosts sorted by 'rating' (ascending) and then by 'views' (descending):\")\n",
    "for post in sorted_by_rating_and_views:\n",
    "    print(post)\n",
    "    \n",
    "# Sort by 'comments.comment_date' (ascending) - Sorting by a nested field's date\n",
    "sorted_by_comment_date = posts.find({}, {\"author\": 1, \"views\": 1, \"comments.likes\": 1, \"_id\": 0}).sort(\"comments.comment_date\", 1)\n",
    "print(\"\\nPosts sorted by 'comments.comment_date' (ascending):\")\n",
    "for post in sorted_by_comment_date:\n",
    "    print(post)"
   ]
  },
  {
   "cell_type": "markdown",
   "id": "5ad0f99f-d832-4e1b-8922-5b41587350dc",
   "metadata": {},
   "source": [
    "1. **Sorting order**:\n",
    "   - **Ascending order `sort(\"field_name\", 1)`**: Sorts documents in ascending order based on the specified field. For example, sorting by `published_date` in ascending order will show the earliest dates first.\n",
    "     ```python\n",
    "     posts.find().sort(\"published_date\", 1)\n",
    "     ```\n",
    "   - **Descending order `sort(\"field_name\", -1)`**: Sorts documents in descending order based on the specified field. For example, sorting by `published_date` in descending order will show the latest dates first.\n",
    "     ```python\n",
    "     posts.find().sort(\"published_date\", -1)\n",
    "     ```\n",
    "\n",
    "2. **Multiple fields sorting `sort([(\"field_name1\", sort_order1), (\"field_name2\", sort_order2)])`**: When sorting by multiple fields, MongoDB first sorts by the first field. If there are documents with the same value for the first field, it then sorts by the second field, and so on. For example, sort posts by `rating` (ascending) and then by `views` (descending):\n",
    "     ```python\n",
    "     posts.find().sort([(\"rating\", 1), (\"views\", -1)])\n",
    "     ```\n",
    "     \n",
    "### Updating documents\n",
    "\n",
    "We can update documents using the `update_one`, `update_many`, `replace_one` methods.\n",
    "\n",
    "#### Update one document"
   ]
  },
  {
   "cell_type": "code",
   "execution_count": 14,
   "id": "f84f4277-358a-4792-ba90-b73bf7e815d8",
   "metadata": {
    "tags": []
   },
   "outputs": [
    {
     "name": "stdout",
     "output_type": "stream",
     "text": [
      "Document to update (author 'Brad Pitt'):\n",
      "{'_id': 'post1', 'author': 'Brad Pitt', 'content': 'I love Italian cuisine! Especially pasta.'}\n",
      "Matched 1 document(s) and modified 1 document(s).\n",
      "\n",
      "Verification of deletion (should be None):\n",
      "{'_id': 'post1', 'author': 'Brad Pitt', 'content': 'I love all kinds of cuisine! Especially pasta.'}\n",
      "Document to update (author 'Brad Pitt'):\n",
      "{'author': 'Brad Pitt', 'content': 'I love all kinds of cuisine! Especially pasta.', 'views': 1500}\n",
      "Matched 1 document(s) and modified 1 document(s).\n",
      "\n",
      "Verification of update (content and views should be updated):\n",
      "{'author': 'Brad Pitt', 'content': 'I love all kinds of cuisine! Especially Pizza.', 'views': 2000}\n",
      "Document to update (commenter 'Angelina Jolie'):\n",
      "{'author': 'Brad Pitt', 'comments': [{'commenter': 'Angelina Jolie', 'comment': 'Me too! Pasta is the best.', 'comment_date': datetime.datetime(2024, 7, 18, 0, 0), 'likes': 15, 'approved': True}]}\n",
      "Matched 1 document(s) and modified 1 document(s).\n",
      "\n",
      "Verification of update (likes should be 25):\n",
      "{'author': 'Brad Pitt', 'comments': [{'commenter': 'Angelina Jolie', 'comment': 'Me too! Pasta is the best.', 'comment_date': datetime.datetime(2024, 7, 18, 0, 0), 'likes': 25, 'approved': True}]}\n"
     ]
    }
   ],
   "source": [
    "################################# Update a single document and a single field ##################################\n",
    "# Find and display the document to be updated\n",
    "document_to_update = posts.find_one({\"author\": \"Brad Pitt\"},{\"author\": 1, \"content\": 1})\n",
    "print(\"Document to update (author 'Brad Pitt'):\")\n",
    "print(document_to_update)\n",
    "# Update a single document - update the content of a post by Brad Pitt\n",
    "update_result = posts.update_one(\n",
    "    {\"author\": \"Brad Pitt\"},\n",
    "    {\"$set\": {\"content\": \"I love all kinds of cuisine! Especially pasta.\"}}\n",
    ")\n",
    "print(f\"Matched {update_result.matched_count} document(s) and modified {update_result.modified_count} document(s).\")\n",
    "# Verify the update\n",
    "verification = posts.find_one({\"author\": \"Brad Pitt\"},{\"author\": 1, \"content\": 1})\n",
    "print(\"\\nVerification of deletion (should be None):\")\n",
    "print(verification)\n",
    "\n",
    "############################## Update a single document and multiple fields ##################################\n",
    "# Find and display the document to be updated\n",
    "document_to_update = posts.find_one({\"author\": \"Brad Pitt\"}, {\"author\": 1, \"content\": 1, \"views\": 1, \"_id\": 0})\n",
    "print(\"Document to update (author 'Brad Pitt'):\")\n",
    "print(document_to_update)\n",
    "# Update a single document - modify multiple fields\n",
    "update_result = posts.update_one(\n",
    "    {\"author\": \"Brad Pitt\"},\n",
    "    {\"$set\": {\"content\": \"I love all kinds of cuisine! Especially Pizza.\", \"views\": 2000}}\n",
    ")\n",
    "print(f\"Matched {update_result.matched_count} document(s) and modified {update_result.modified_count} document(s).\")\n",
    "# Verify the update\n",
    "verification = posts.find_one({\"author\": \"Brad Pitt\"}, {\"author\": 1, \"content\": 1, \"views\": 1, \"_id\": 0})\n",
    "print(\"\\nVerification of update (content and views should be updated):\")\n",
    "print(verification)\n",
    "\n",
    "######################################## Update a nested field ########################################\n",
    "# Find and display the document to be updated (showing the nested field)\n",
    "document_to_update = posts.find_one({\"comments.commenter\": \"Angelina Jolie\"}, {\"author\": 1, \"comments.$\": 1, \"_id\": 0})\n",
    "print(\"Document to update (commenter 'Angelina Jolie'):\")\n",
    "print(document_to_update)\n",
    "# Update a nested field - change the likes of a specific comment\n",
    "update_result = posts.update_one(\n",
    "    {\"comments.commenter\": \"Angelina Jolie\"},\n",
    "    {\"$set\": {\"comments.$.likes\": 25}}\n",
    ")\n",
    "print(f\"Matched {update_result.matched_count} document(s) and modified {update_result.modified_count} document(s).\")\n",
    "# Verify the update\n",
    "verification = posts.find_one({\"comments.commenter\": \"Angelina Jolie\"}, {\"author\": 1, \"comments.$\": 1, \"_id\": 0})\n",
    "print(\"\\nVerification of update (likes should be 25):\")\n",
    "print(verification)"
   ]
  },
  {
   "cell_type": "markdown",
   "id": "9c191ec4-e2ae-4344-81b8-9fb5569d13b0",
   "metadata": {},
   "source": [
    "##### Explanation\n",
    "The `update_one` method is used to update a single document that matches a specified filter. The syntax of the `update_one` method:\n",
    "```python\n",
    "update_one(filter, update, upsert=False)\n",
    "```\n",
    "\n",
    "- **`filter`**: The query criteria to select the document(s) to update. This is a dictionary specifying the conditions that the document must meet to be updated. It uses query operators (e.g., `$eq`, `$gt`, `$lt`) to specify the conditions. For example, find the document where the `author` is \"Brad Pitt\":\n",
    "```python\n",
    "{\"author\": \"Brad Pitt\"}\n",
    "```\n",
    "- **`update`**: The update operations to be applied to the matched document(s). This is a dictionary specifying the respective update operators and the modifications. For example, update the `content` field of a post by Brad Pitt using the `$set` operation:\n",
    "    ```python\n",
    "     {\"$set\": {\"content\": \"I love all kinds of cuisine! Especially pasta.\"}}\n",
    "    ```\n",
    "\n",
    "     - **Updating multiple fields**: Multiple fields can be updated in a single update_one operation. For example, update both the `content` and `views` fields of a post by Brad Pitt:\n",
    "        ```python\n",
    "        {\"$set\": {\"content\": \"I love all kinds of cuisine! Especially Pizza.\", \"views\": 2000}}\n",
    "        ```\n",
    "    \n",
    "    - **Update of a nested field**: Nested fields can be updated in an update_one operation. The positional operator (`$`) is used to update a specific element in an array that matches the query criteria. The `$` operator represents the index of the array element that matches the filter condition. For example, update the `likes` field of a comment made by \"Angelina Jolie\" within the `comments` array:\n",
    "        ```python\n",
    "        {\"$set\": {\"comments.$.likes\": 25}}\n",
    "        ```\n",
    "        The `$` operator in `{\"comments.$.likes\": 25}` represents the index of the matched comment element in the `comments` array. MongoDB updates the likes field for this specific comment to 25. The `$` operator only updates the first element that matches the query. If there are multiple elements that match, only the first one is updated. For deeply nested arrays, we may need multiple positional operators.\n",
    "\n",
    "- **`upsert`** (optional): A boolean value that, if set to `True`, will insert a new document if no matching document is found. The default is `False`. For example, if there is no document with `author` as \"Leonardo DiCaprio\", the following operation will insert a new document with the specified content:\n",
    "```python\n",
    " posts.update_one({\"author\": \"Leonardo DiCaprio\"},\n",
    "                  {\"$set\": {\"content\": \"I love all kinds of cuisine! Especially seafood.\"}}, \n",
    "                  upsert=True)\n",
    "```\n",
    "\n",
    "\n",
    "##### **Update operators**:\n",
    "- **`$set`**: Updates the value of a field in the document. If the field does not exist, it will be created.\n",
    "```python\n",
    "{\"$set\": {\"field_name\": \"new_value\"}}\n",
    "```\n",
    "- **`$inc`**: Increments the value of a field by a specified amount. This operator is used for numeric fields.\n",
    "```python\n",
    "{\"$inc\": {\"field_name\": 1}}\n",
    "```\n",
    "- **`$unset`**: Removes a field from the document.\n",
    "```python\n",
    "{\"$unset\": {\"field_name\": \"\"}}\n",
    "```\n",
    "- **`$push`**: Adds an element to an array field. If the field does not exist, it will be created.\n",
    "```python\n",
    "{\"$push\": {\"array_field\": \"new_element\"}}\n",
    "```\n",
    "- **`$pull`**: Removes an element from an array field.\n",
    "```python\n",
    "{\"$pull\": {\"array_field\": \"element_to_remove\"}}\n",
    "```\n",
    "\n",
    "#### Update multiple documents"
   ]
  },
  {
   "cell_type": "code",
   "execution_count": 15,
   "id": "77cfecb6-e9d4-47d0-b23c-05c4016199a2",
   "metadata": {
    "tags": []
   },
   "outputs": [
    {
     "name": "stdout",
     "output_type": "stream",
     "text": [
      "Matched 1 document(s) and modified 1 document(s).\n",
      "Matched 3 document(s) and modified 3 document(s).\n",
      "Matched 2 document(s) and modified 2 document(s).\n"
     ]
    }
   ],
   "source": [
    "# Update multiple documents and a single field - set the 'status' field to 'archived' for documents with views less than 1000\n",
    "update_result = posts.update_many(\n",
    "    {\"views\": {\"$lt\": 1000}}, \n",
    "    {\"$set\": {\"status\": \"archived\"}}\n",
    ")\n",
    "print(f\"Matched {update_result.matched_count} document(s) and modified {update_result.modified_count} document(s).\")\n",
    "\n",
    "\n",
    "# Update multiple documents and multiple fields - update the rating to 4 and increment the views by 500 for all documents where the views are more than 1000\n",
    "update_result = posts.update_many(\n",
    "    {\"views\": {\"$gt\": 1000}},\n",
    "    {\"$set\": {\"rating\": 4}, \"$inc\": {\"views\": 500}}\n",
    ")\n",
    "print(f\"Matched {update_result.matched_count} document(s) and modified {update_result.modified_count} document(s).\")\n",
    "\n",
    "\n",
    "# Update multiple documents - update nested fields\n",
    "update_result = posts.update_many(\n",
    "    {\"comments.commenter\": \"Brad Pitt\"},\n",
    "    {\n",
    "        \"$set\": {\"comments.$.likes\": 25, \"status\": \"updated\"},  # Update likes and status\n",
    "        \"$unset\": {\"comments.$.approved\": \"\"},  # Remove unwanted field\n",
    "        \"$inc\": {\"views\": 100}  # Increment views by 100\n",
    "    }\n",
    ")\n",
    "print(f\"Matched {update_result.matched_count} document(s) and modified {update_result.modified_count} document(s).\")"
   ]
  },
  {
   "cell_type": "markdown",
   "id": "c27b55df-8b2a-4c2f-91a0-01eaa731368d",
   "metadata": {},
   "source": [
    "#### Replace one document"
   ]
  },
  {
   "cell_type": "code",
   "execution_count": 16,
   "id": "6d64368d-4885-49bc-9cbd-8af04edc5b0b",
   "metadata": {
    "tags": []
   },
   "outputs": [
    {
     "name": "stdout",
     "output_type": "stream",
     "text": [
      "Matched 1 document(s) and replaced 1 document(s).\n",
      "Matched 0 document(s) and replaced 0 document(s).\n"
     ]
    }
   ],
   "source": [
    "# Replace a single document - replace the document where author is 'Brad Pitt' with a new document\n",
    "replacement_doc = {\n",
    "    \"author\": \"Brad Pitt\",\n",
    "    \"content\": \"I also love Indian food\",\n",
    "    \"views\": 5000,\n",
    "    \"status\": \"replaced\"\n",
    "}\n",
    "\n",
    "replace_result = posts.replace_one(\n",
    "    {\"author\": \"Brad Pitt\"},\n",
    "    replacement_doc\n",
    ")\n",
    "print(f\"Matched {replace_result.matched_count} document(s) and replaced {replace_result.modified_count} document(s).\")\n",
    "\n",
    "\n",
    "# Replace a single document or insert a new one if no document matches (with upsert)\n",
    "replacement_doc = {\n",
    "    \"author\": \"Leonardo DiCaprio\",\n",
    "    \"content\": \"I also love Shakshuka\",\n",
    "    \"views\": 3000,\n",
    "    \"status\": \"new\"\n",
    "}\n",
    "\n",
    "replace_result = posts.replace_one(\n",
    "    {\"author\": \"Leonardo DiCaprio\", \"views\": 20},\n",
    "    replacement_doc,\n",
    "    upsert=True\n",
    ")\n",
    "print(f\"Matched {replace_result.matched_count} document(s) and replaced {replace_result.modified_count} document(s).\")"
   ]
  },
  {
   "cell_type": "markdown",
   "id": "32f3ad03-2471-482c-928b-1172df1aab24",
   "metadata": {},
   "source": [
    "##### Explanation\n",
    "The `replace_one` method is used to replace a single document that matches a specified filter with a new document. This method is different from `update_one` in that it replaces the entire document rather than just modifying specific fields. The syntax of the `replace_one` method:\n",
    "```python\n",
    "replace_one(filter, replacement, upsert=False)\n",
    "```\n",
    "\n",
    "- **`replacement`**: The new document that will replace the matched document. This document completely replaces the existing document.\n",
    "- **`upsert`** (optional): If `True`, it inserts a new document if no matching document is found. The default is `False`."
   ]
  },
  {
   "cell_type": "markdown",
   "id": "861174f6-b0ef-4353-a62a-f7cea98fb7b6",
   "metadata": {},
   "source": [
    "### Deleting documents\n",
    "\n",
    "We can delete documents using the `delete_one` or `delete_many` methods.\n",
    "\n",
    "##### Delete documents"
   ]
  },
  {
   "cell_type": "code",
   "execution_count": 17,
   "id": "5130955b-f662-4660-abf0-3beb769bbf72",
   "metadata": {
    "tags": []
   },
   "outputs": [
    {
     "name": "stdout",
     "output_type": "stream",
     "text": [
      "Document to delete (author 'Brad Pitt'):\n",
      "{'_id': 'post1', 'author': 'Brad Pitt', 'content': 'I also love Indian food', 'views': 5000, 'status': 'replaced'}\n",
      "\n",
      "Deleted 1 document(s) with author 'Brad Pitt'.\n",
      "\n",
      "Verification of deletion (should be None):\n",
      "None\n",
      "\n",
      "Documents to delete (views > 1000):\n",
      "{'_id': ObjectId('66a3c7c02c7227f672b7667a'), 'author': 'Angelina Jolie', 'content': 'Mediterranean food is not only healthy but also delicious!', 'tags': ['food', 'Mediterranean'], 'published_date': datetime.datetime(2024, 7, 19, 0, 0), 'views': 1800, 'rating': 4, 'verified': True, 'timestamp': datetime.datetime(2024, 7, 19, 14, 30), 'comments': [{'commenter': 'Brad Pitt', 'comment': 'Totally agree!', 'comment_date': datetime.datetime(2024, 7, 20, 0, 0), 'likes': 25}], 'status': 'updated'}\n",
      "{'_id': ObjectId('66a3c7c02c7227f672b7667c'), 'author': 'Natalie Portman', 'content': 'As a vegan, I love discovering new plant-based recipes.', 'tags': ['food', 'vegan'], 'published_date': datetime.datetime(2024, 7, 21, 0, 0), 'views': 1600, 'rating': 4, 'verified': True, 'timestamp': datetime.datetime(2024, 7, 21, 10, 0), 'comments': [{'commenter': 'Angelina Jolie', 'comment': 'I should try more vegan dishes!', 'comment_date': datetime.datetime(2024, 7, 22, 0, 0), 'likes': 8, 'approved': False}]}\n",
      "{'_id': ObjectId('66a3c7ff11f3b80accc05225'), 'author': 'Leonardo DiCaprio', 'content': 'I also love Shakshuka', 'views': 3000, 'status': 'new'}\n",
      "\n",
      "Deleted 3 document(s) with views great than 1000.\n",
      "\n",
      "Verification of deletion (should be empty):\n",
      "\n",
      "All documents before deleting the collection:\n",
      "{'_id': ObjectId('66a3c7c02c7227f672b7667b'), 'author': 'Leonardo DiCaprio', 'content': 'Sushi is my favorite comfort food.', 'tags': ['food', 'Japanese cuisine', 'Sushi'], 'published_date': datetime.datetime(2024, 7, 20, 0, 0), 'views': 900, 'rating': 4.3, 'verified': False, 'timestamp': datetime.datetime(2024, 7, 20, 16, 0), 'comments': [{'commenter': 'Brad Pitt', 'comment': 'Sushi is great! Have you tried sashimi?', 'comment_date': datetime.datetime(2024, 7, 21, 0, 0), 'likes': 25}], 'status': 'updated'}\n",
      "\n",
      "Deleted 1 document(s) from the collection.\n",
      "\n",
      "Verification of deletion (should be zero):\n",
      "0\n"
     ]
    }
   ],
   "source": [
    "################### Delete one documnt ###################\n",
    "# Find and display the document to be deleted\n",
    "document_to_delete = posts.find_one({\"author\": \"Brad Pitt\"})\n",
    "print(\"Document to delete (author 'Brad Pitt'):\")\n",
    "print(document_to_delete)\n",
    "# Delete a single document by a specific criterion\n",
    "delete_result = posts.delete_one({\"author\": \"Brad Pitt\"})\n",
    "print(f\"\\nDeleted {delete_result.deleted_count} document(s) with author 'Brad Pitt'.\")\n",
    "# Verify deletion\n",
    "verification = posts.find_one({\"author\": \"Brad Pitt\"})\n",
    "print(\"\\nVerification of deletion (should be None):\")\n",
    "print(verification)\n",
    "\n",
    "\n",
    "########### Delete multiple documnt matching a criterion ###########\n",
    "# Find and display documents to be deleted\n",
    "documents_to_delete = posts.find({\"views\": {\"$gt\": 1000}})\n",
    "print(\"\\nDocuments to delete (views > 1000):\")\n",
    "for doc in documents_to_delete:\n",
    "    print(doc)\n",
    "# Delete multiple documents matching a criterion\n",
    "delete_result = posts.delete_many({\"views\": {\"$gt\": 1000}})\n",
    "print(f\"\\nDeleted {delete_result.deleted_count} document(s) with views great than 1000.\")\n",
    "# Verify deletion\n",
    "verification = posts.find({\"views\": {\"$gt\": 1000}})\n",
    "print(\"\\nVerification of deletion (should be empty):\")\n",
    "for doc in verification:\n",
    "    print(doc)\n",
    "    \n",
    "\n",
    "################### Delete all documnts ###################\n",
    "# Find and display all documents\n",
    "all_documents = posts.find()\n",
    "print(\"\\nAll documents before deleting the collection:\")\n",
    "for doc in all_documents:\n",
    "    print(doc)\n",
    "# Delete all documents in the collection\n",
    "delete_result = posts.delete_many({})\n",
    "print(f\"\\nDeleted {delete_result.deleted_count} document(s) from the collection.\")\n",
    "# Verify deletion\n",
    "verification = posts.count_documents({})\n",
    "print(\"\\nVerification of deletion (should be zero):\")\n",
    "print(verification)"
   ]
  },
  {
   "cell_type": "markdown",
   "id": "8d0eb82e-a1c8-4fd9-9add-6de2ca38b825",
   "metadata": {
    "tags": []
   },
   "source": [
    "##### Notes\n",
    "* `delete_one(filter)` - Deletes the first document that matches the given filter.\n",
    "* Use of filters: The filter criteria for deletion use the same query language as for finding documents, allowing for complex and flexible conditions.\n",
    "* Impact on indexes: Deleting documents can affect indexes. It's important to consider the performance implications, especially when deleting large numbers of documents.\n",
    "\n",
    "#### Drop database\n",
    "\n",
    "All collections and documents within the database will be permanently deleted."
   ]
  },
  {
   "cell_type": "code",
   "execution_count": 18,
   "id": "9be161b5-c242-493b-a8b3-74247262edf3",
   "metadata": {
    "tags": []
   },
   "outputs": [
    {
     "name": "stdout",
     "output_type": "stream",
     "text": [
      "Databases before deletion: ['admin', 'cms_database', 'config', 'conversations_db', 'local']\n",
      "Deleted database 'cms_database'.\n",
      "Databases after deletion: ['admin', 'config', 'conversations_db', 'local']\n"
     ]
    }
   ],
   "source": [
    "# Confirm the existence of the database before deletion\n",
    "print(f\"Databases before deletion: {client.list_database_names()}\")\n",
    "# Drop the database\n",
    "client.drop_database('cms_database')\n",
    "print(f\"Deleted database 'cms_database'.\")\n",
    "# Verify deletion by listing all databases\n",
    "print(f\"Databases after deletion: {client.list_database_names()}\")"
   ]
  }
 ],
 "metadata": {
  "kernelspec": {
   "display_name": "Python 3 (ipykernel)",
   "language": "python",
   "name": "python3"
  },
  "language_info": {
   "codemirror_mode": {
    "name": "ipython",
    "version": 3
   },
   "file_extension": ".py",
   "mimetype": "text/x-python",
   "name": "python",
   "nbconvert_exporter": "python",
   "pygments_lexer": "ipython3",
   "version": "3.9.13"
  }
 },
 "nbformat": 4,
 "nbformat_minor": 5
}
