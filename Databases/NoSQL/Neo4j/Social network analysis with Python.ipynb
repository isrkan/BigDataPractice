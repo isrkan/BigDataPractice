{
 "cells": [
  {
   "cell_type": "markdown",
   "id": "8297939c-526b-4c00-9cd3-45a2dc5b8b7a",
   "metadata": {},
   "source": [
    "# Neo4j and Cypher Basics with Python: Social Network Analysis\n",
    "\n",
    "In this notebook, we will practice Neo4j, a graph database, to model a simple social network. We will cover the concepts of:\n",
    "- Connecting to a Neo4j database from Python\n",
    "- Creating nodes and relationships\n",
    "- Running Cypher queries\n",
    "\n",
    "**Create a new project**:\n",
    "A project in Neo4j is a container for one or more databases. It helps to organize multiple databases that are related to a specific task, theme, or application. For example, we might have a project called \"Social Network\" that contains databases for development, testing, and production environments.\n",
    "   - Open Neo4j Desktop.\n",
    "   - Click on \"New\" under the \"Projects\" section.\n",
    "   - Name the project (e.g., \"Social Network\").\n",
    "   \n",
    "**Create a new database**:\n",
    "A database within a project is an actual instance where the graph data is stored. Each database has its own data and schema. For example, within the \"Social Network\" project, we might have a database named \"SocialNetworkDB\" where we store all user nodes and their relationships.\n",
    "   - Click on \"Add\" and choose \"Local DBMS\".\n",
    "   - Name your database (e.g., \"Social Network DBMS\"), set a password (e.g., \"SocialNetworkDBMS\"), and click \"Create\".\n",
    "   - Click \"Start\" to start your new database.\n",
    "\n",
    "\n",
    "#### Setting up the connection to Neo4j from Python\n",
    "First, we need to set up the connection to the Neo4j database. Make sure the Neo4j database is running."
   ]
  },
  {
   "cell_type": "code",
   "execution_count": 1,
   "id": "00bbd021-1bc0-4790-bd15-c54f305a3e34",
   "metadata": {},
   "outputs": [
    {
     "name": "stdout",
     "output_type": "stream",
     "text": [
      "Connection successful\n"
     ]
    }
   ],
   "source": [
    "from neo4j import GraphDatabase\n",
    "\n",
    "# Define the connection details\n",
    "uri = \"bolt://localhost:7687\"  # default URI for Neo4j\n",
    "user = \"neo4j\"  # default user\n",
    "password = \"SocialNetworkDBMS\"\n",
    "\n",
    "# Create a driver instance\n",
    "driver = GraphDatabase.driver(uri, auth=(user, password))\n",
    "\n",
    "# Verify the connection\n",
    "def test_connection(driver):\n",
    "    try:\n",
    "        with driver.session() as session:\n",
    "            result = session.run(\"RETURN 'Connection successful' AS message\")\n",
    "            for record in result:\n",
    "                print(record[\"message\"])\n",
    "    except Exception as e:\n",
    "        print(f\"Connection failed: {e}\")\n",
    "\n",
    "test_connection(driver)"
   ]
  },
  {
   "cell_type": "markdown",
   "id": "89f72eef-3373-4e88-8cfe-4291f969c9d3",
   "metadata": {},
   "source": [
    "### Creating nodes\n",
    "Nodes are the entities in a graph. In our social network, users will be nodes."
   ]
  },
  {
   "cell_type": "code",
   "execution_count": 2,
   "id": "f6c5b7f9-55c0-4eb2-9260-719b5ae00082",
   "metadata": {},
   "outputs": [
    {
     "name": "stdout",
     "output_type": "stream",
     "text": [
      "Users created successfully.\n"
     ]
    }
   ],
   "source": [
    "# Function to create a user node\n",
    "def create_user(tx, name, age):\n",
    "    tx.run(\"CREATE (u:User {name: $name, age: $age})\", name=name, age=age)\n",
    "\n",
    "# Add some users to the database\n",
    "with driver.session() as session:\n",
    "    session.execute_write(create_user, \"Alice\", 30)\n",
    "    session.execute_write(create_user, \"Bob\", 25)\n",
    "    session.execute_write(create_user, \"Charlie\", 35)\n",
    "    session.execute_write(create_user, \"Diana\", 28)\n",
    "    session.execute_write(create_user, \"Eli\", 33)\n",
    "    session.execute_write(create_user, \"Felix\", 23)\n",
    "\n",
    "print(\"Users created successfully.\")"
   ]
  },
  {
   "cell_type": "markdown",
   "id": "53edd4ab-676c-4ee6-834a-f1ac14afab5b",
   "metadata": {},
   "source": [
    "##### Explanation of the CREATE query\n",
    "\n",
    "The `CREATE` query is used to create nodes and relationships in the graph. Here's the structure:\n",
    "\n",
    "```cypher\n",
    "CREATE (alias:Label {property1: value1, property2: value2, ...})\n",
    "```\n",
    "\n",
    "* `alias`: A variable that refers to the node. Variables in Cypher are used to refer to nodes, relationships, and paths in queries.\n",
    "* `Label`: The label that categorizes the node.\n",
    "* `property1, property2, ...`: Properties of the node.\n",
    "\n",
    "In our example:\n",
    "\n",
    "```cypher\n",
    "CREATE (u:User {name: $name, age: $age})\n",
    "```\n",
    "\n",
    "* `(u:User ...)` creates a node with the label `User`. Here, `u` is a variable representing a node with the label User.\n",
    "* `{name: $name, age: $age}` sets the properties `name` and `age`.\n",
    "\n",
    "### Creating relationships\n",
    "\n",
    "#### Creating directed relationships\n",
    "Relationships connect nodes. Relationships can be directed, indicating a one-way connection between nodes. For example, a \"follower\" relationship where one user follows another."
   ]
  },
  {
   "cell_type": "code",
   "execution_count": 3,
   "id": "99d50cee-23fb-44c7-b99f-debc6f8591ef",
   "metadata": {
    "tags": []
   },
   "outputs": [
    {
     "name": "stdout",
     "output_type": "stream",
     "text": [
      "Follower relationships created successfully.\n"
     ]
    }
   ],
   "source": [
    "# Function to create a FOLLOW relationship (directed)\n",
    "def create_follower(tx, follower, followed):\n",
    "    tx.run(\"\"\"\n",
    "    MATCH (a:User {name: $follower}), (b:User {name: $followed})\n",
    "    CREATE (a)-[:FOLLOW]->(b)\n",
    "    \"\"\", follower=follower, followed=followed)\n",
    "\n",
    "# Add some follower relationships to the database\n",
    "with driver.session() as session:\n",
    "    session.execute_write(create_follower, \"Alice\", \"Charlie\")\n",
    "    session.execute_write(create_follower, \"Alice\", \"Felix\")\n",
    "    session.execute_write(create_follower, \"Bob\", \"Eli\")\n",
    "    session.execute_write(create_follower, \"Eli\", \"Bob\")\n",
    "\n",
    "print(\"Follower relationships created successfully.\")"
   ]
  },
  {
   "cell_type": "markdown",
   "id": "fa0f03c3-c193-44cf-9487-d4d66ae9d7a0",
   "metadata": {},
   "source": [
    "##### Explanation of the MATCH and CREATE query\n",
    "\n",
    "The `MATCH` query is used to find existing nodes, and the `CREATE` query is used to create relationships. Here's the structure:\n",
    "\n",
    "```cypher\n",
    "MATCH (alias1:Label {property1: value1}), (alias2:Label {property2: value2})\n",
    "CREATE (alias1)-[:RELATIONSHIP_TYPE]->(alias2)\n",
    "```\n",
    "\n",
    "* `MATCH (alias1:Label {property1: value1})`: Finds nodes that match the given label and property.\n",
    "* `CREATE (alias1)-[:RELATIONSHIP_TYPE]->(alias2)`: Creates a relationship of type `RELATIONSHIP_TYPE` between the matched nodes found in the `MATCH` query. The colon indicates that what follows is the type of relationship.\n",
    "\n",
    "In our example:\n",
    "\n",
    "```cypher\n",
    "MATCH (a:User {name: $follower}), (b:User {name: $followed})\n",
    "CREATE (a)-[:FOLLOW]->(b)\n",
    "```\n",
    "\n",
    "* `MATCH (a:User {name: $follower}), (b:User {name: $followed})`: Finds users named `$follower` and `$followed`.\n",
    "* `CREATE (a)-[:FOLLOW]->(b)`: Creates a `FOLLOW` relationship from user `a` to user `b`.\n",
    "\n",
    "#### Creating bidirectional relationships\n",
    "To model a bidirectional relationship, such as friendship, we need to create two directed relationships in opposite directions. In our social network, users can be friends with each other."
   ]
  },
  {
   "cell_type": "code",
   "execution_count": 4,
   "id": "5e0b33a5-a53e-4cc8-ac2c-4229c49dd965",
   "metadata": {
    "tags": []
   },
   "outputs": [
    {
     "name": "stdout",
     "output_type": "stream",
     "text": [
      "Friendships created successfully.\n"
     ]
    }
   ],
   "source": [
    "# Function to create a FRIEND relationship between two users\n",
    "def create_friendship(tx, name1, name2):\n",
    "    tx.run(\"\"\"\n",
    "    MATCH (a:User {name: $name1}), (b:User {name: $name2})\n",
    "    CREATE (a)-[:FRIEND]->(b), (b)-[:FRIEND]->(a)\n",
    "    \"\"\", name1=name1, name2=name2)\n",
    "\n",
    "# Add some friendships to the database\n",
    "with driver.session() as session:\n",
    "    session.execute_write(create_friendship, \"Alice\", \"Bob\")\n",
    "    session.execute_write(create_friendship, \"Alice\", \"Charlie\")\n",
    "    session.execute_write(create_friendship, \"Bob\", \"Diana\")\n",
    "    session.execute_write(create_friendship, \"Diana\", \"Eli\")\n",
    "    session.execute_write(create_friendship, \"Bob\", \"Felix\")\n",
    "    session.execute_write(create_friendship, \"Alice\", \"Felix\")\n",
    "\n",
    "print(\"Friendships created successfully.\")"
   ]
  },
  {
   "cell_type": "markdown",
   "id": "90c60f0a-2a20-45a6-a9d7-f0d9257b88c0",
   "metadata": {},
   "source": [
    "##### Explanation CREATE query for bidirectional relationships\n",
    "\n",
    "In our example:\n",
    "\n",
    "```cypher\n",
    "MATCH (a:User {name: $name1}), (b:User {name: $name2})\n",
    "CREATE (a)-[:FRIEND]->(b), (b)-[:FRIEND]->(a)\n",
    "```\n",
    "\n",
    "* `MATCH (a:User {name: $name1}), (b:User {name: $name2})`: Finds users named `$name1` and `$name2`.\n",
    "* `CREATE (a)-[:FRIEND]->(b), (b)-[:FRIEND]->(a)`: Creates a `FRIEND` relationship for users `a` and user `b`.\n",
    "    * `(a)-[:FRIEND]->(b)`: Creates a `FRIEND` relationship from user `a` to user `b`.\n",
    "    * `(b)-[:FRIEND]->(a)`: Creates a `FRIEND` relationship from user `b` to user `a`.\n",
    "\n",
    "### Adding different types of nodes\n",
    "We can have different types of nodes representing various entities in the domain model. For example, in a social network, besides User nodes, we might have Post and Comment nodes."
   ]
  },
  {
   "cell_type": "code",
   "execution_count": 5,
   "id": "5d282e03-4a94-42bc-bbbf-f76611acc863",
   "metadata": {
    "tags": []
   },
   "outputs": [
    {
     "name": "stdout",
     "output_type": "stream",
     "text": [
      "Posts and comments created successfully.\n"
     ]
    }
   ],
   "source": [
    "# Function to create a post node\n",
    "def create_post(tx, id, content, timestamp, latitude, longitude):\n",
    "    tx.run(\"\"\"\n",
    "    CREATE (p:Post {\n",
    "        id: $id,\n",
    "        content: $content,\n",
    "        timestamp: datetime($timestamp),  // Handle timestamp as a datetime value\n",
    "        location: point({latitude: $latitude, longitude: $longitude})  // Handle spatial location\n",
    "    })\n",
    "    \"\"\", id=id, content=content, timestamp=timestamp, latitude=latitude, longitude=longitude)\n",
    "\n",
    "# Function to create a comment node with spatial handling\n",
    "def create_comment(tx, id, content, timestamp, latitude, longitude):\n",
    "    tx.run(\"\"\"\n",
    "    CREATE (c:Comment {\n",
    "        id: $id,\n",
    "        content: $content,\n",
    "        timestamp: datetime($timestamp),  // Handle timestamp as a datetime value\n",
    "        location: point({latitude: $latitude, longitude: $longitude})  // Handle spatial location\n",
    "    })\n",
    "    \"\"\", id=id, content=content, timestamp=timestamp, latitude=latitude, longitude=longitude)\n",
    "\n",
    "# Add some posts and comments to the database\n",
    "with driver.session() as session:\n",
    "    session.execute_write(create_post, 1, \"Hello, world!\", \"2024-07-16T10:00:00Z\", 40.7128, -74.0060)\n",
    "    session.execute_write(create_post, 2, \"Good night!\", \"2024-07-16T11:00:00Z\", 34.0522, -118.2437)\n",
    "    session.execute_write(create_comment, 1, \"Great post!\", \"2024-07-16T12:00:00Z\", 51.5074, -0.1278)\n",
    "    session.execute_write(create_comment, 2, \"Very informative.\", \"2024-07-16T12:30:00Z\", -33.8688, 151.2093)\n",
    "\n",
    "print(\"Posts and comments created successfully.\")"
   ]
  },
  {
   "cell_type": "markdown",
   "id": "9b1bffc4-9ef0-424b-824f-0a7a1a3ddc69",
   "metadata": {},
   "source": [
    "In these queries, we create two types of nodes, `Post` and `Comment`, each with properties such as `id`, `content`, `timestamp` and `location`.\n",
    "\n",
    "##### Handling time and spatial values\n",
    "\n",
    "* `datetime($timestamp)`: This function converts the timestamp string into a datetime type. Neo4j can then store and process this as a temporal value.\n",
    "* `point({latitude: $latitude, longitude: $longitude})`: This function creates a spatial point using latitude and longitude. Neo4j stores this as a spatial point data type, enabling geographical queries.\n",
    "\n",
    "### Creating relationships between Users, Posts, and Comments\n",
    "Let's add the relationships between users and posts (e.g., POSTED), and between users and comments (e.g., COMMENTED)."
   ]
  },
  {
   "cell_type": "code",
   "execution_count": 6,
   "id": "1c787b12-f082-48f9-9856-e1643d72ce58",
   "metadata": {
    "tags": []
   },
   "outputs": [
    {
     "name": "stdout",
     "output_type": "stream",
     "text": [
      "Relationships created successfully.\n"
     ]
    }
   ],
   "source": [
    "# Function to create a POSTED relationship between a user and a post\n",
    "def create_posted_relationship(tx, user_name, post_id):\n",
    "    tx.run(\"\"\"\n",
    "    MATCH (u:User {name: $user_name}), (p:Post {id: $post_id})\n",
    "    CREATE (u)-[:POSTED]->(p)\n",
    "    \"\"\", user_name=user_name, post_id=post_id)\n",
    "\n",
    "# Function to create a COMMENTED relationship between a user and a comment\n",
    "def create_commented_relationship(tx, user_name, comment_id):\n",
    "    tx.run(\"\"\"\n",
    "    MATCH (u:User {name: $user_name}), (c:Comment {id: $comment_id})\n",
    "    CREATE (u)-[:COMMENTED]->(c)\n",
    "    \"\"\", user_name=user_name, comment_id=comment_id)\n",
    "    \n",
    "    # Function to create a HAS_COMMENT relationship between a post and a comment\n",
    "def create_has_comment_relationship(tx, post_id, comment_id):\n",
    "    tx.run(\"\"\"\n",
    "    MATCH (p:Post {id: $post_id}), (c:Comment {id: $comment_id})\n",
    "    CREATE (p)-[:HAS_COMMENT]->(c)\n",
    "    \"\"\", post_id=post_id, comment_id=comment_id)\n",
    "    \n",
    "# Add relationships to the database\n",
    "with driver.session() as session:\n",
    "    # Alice and Bob post something\n",
    "    session.execute_write(create_posted_relationship, \"Alice\", 1)\n",
    "    session.execute_write(create_posted_relationship, \"Bob\", 2)\n",
    "    \n",
    "    # Alice and Charlie comment on posts\n",
    "    session.execute_write(create_commented_relationship, \"Alice\", 1)\n",
    "    session.execute_write(create_commented_relationship, \"Charlie\", 2)\n",
    "    \n",
    "    # Connect comments to posts\n",
    "    session.execute_write(create_has_comment_relationship, 1, 2)\n",
    "    session.execute_write(create_has_comment_relationship, 2, 1)\n",
    "\n",
    "print(\"Relationships created successfully.\")"
   ]
  },
  {
   "cell_type": "markdown",
   "id": "cf0c807f-eea5-4d6f-b99b-0c6a978a9a16",
   "metadata": {},
   "source": [
    "### Adding properties to relationships\n",
    "Relationships can have properties just like nodes. These properties can store various types of data such as strings, numbers, booleans, and arrays. This is useful for adding metadata to the relationships."
   ]
  },
  {
   "cell_type": "code",
   "execution_count": 7,
   "id": "3f311806-e1ed-45c5-be28-e138f0a0385d",
   "metadata": {
    "tags": []
   },
   "outputs": [
    {
     "name": "stdout",
     "output_type": "stream",
     "text": [
      "Likes with properties created successfully.\n"
     ]
    }
   ],
   "source": [
    "# Function to create a LIKES relationship with properties\n",
    "def create_like(tx, user, post_id, timestamp):\n",
    "    tx.run(\"\"\"\n",
    "    MATCH (u:User {name: $user}), (p:Post {id: $post_id})\n",
    "    CREATE (u)-[:LIKES {timestamp: $timestamp}]->(p)\n",
    "    \"\"\", user=user, post_id=post_id, timestamp=timestamp)\n",
    "\n",
    "# Add some likes with properties to the database\n",
    "with driver.session() as session:\n",
    "    session.execute_write(create_like, \"Alice\", 1, \"2024-07-16T12:00:00Z\")\n",
    "    session.execute_write(create_like, \"Bob\", 2, \"2024-07-16T12:30:00Z\")\n",
    "\n",
    "print(\"Likes with properties created successfully.\")"
   ]
  },
  {
   "cell_type": "markdown",
   "id": "12320c77-dfce-4279-ba51-bc278296f0aa",
   "metadata": {},
   "source": [
    "In these queries, we create LIKES relationships between users and posts with an additional timestamp property. A property of the LIKES relationship indicating when the like was made. This property is stored as a string representing the date and time.\n",
    "\n",
    "* `MATCH (u:User {name: $user}), (p:Post {id: $post_id})`: Finds the user and post nodes based on the specified properties.\n",
    "* `CREATE (u)-[:LIKES {timestamp: $timestamp}]->(p)`: Creates a LIKES relationship between the user and post with a timestamp property.\n",
    "\n",
    "### Deleting nodes and relationships\n",
    "\n",
    "We can also delete nodes and relationships using the `DELETE` query."
   ]
  },
  {
   "cell_type": "code",
   "execution_count": 8,
   "id": "c45d84eb-1f3c-4206-bca0-0d3f3fbded6b",
   "metadata": {
    "tags": []
   },
   "outputs": [
    {
     "name": "stdout",
     "output_type": "stream",
     "text": [
      "User Diana deleted successfully.\n",
      "Follow relationship between Alice and Felix deleted successfully.\n",
      "Friendship between Felix and Alice deleted successfully.\n"
     ]
    }
   ],
   "source": [
    "# Function to delete a user node\n",
    "def delete_user(tx, name):\n",
    "    tx.run(\"MATCH (u:User {name: $name}) DETACH DELETE u\", name=name)\n",
    "\n",
    "# Function to delete a FOLLOW relationship\n",
    "def delete_follow(tx, follower_name, followee_name):\n",
    "    tx.run(\"\"\"\n",
    "    MATCH (a:User {name: $follower_name})-[r:FOLLOW]->(b:User {name: $followee_name})\n",
    "    DELETE r\n",
    "    \"\"\", follower_name=follower_name, followee_name=followee_name)\n",
    "\n",
    "# Function to delete a FRIEND relationship\n",
    "def delete_friendship(tx, name1, name2):\n",
    "    tx.run(\"\"\"\n",
    "    MATCH (a:User {name: $name1})-[r:FRIEND]->(b:User {name: $name2})\n",
    "    DELETE r\n",
    "    \"\"\", name1=name1, name2=name2)\n",
    "    tx.run(\"\"\"\n",
    "    MATCH (b:User {name: $name2})-[r:FRIEND]->(a:User {name: $name1})\n",
    "    DELETE r\n",
    "    \"\"\", name1=name1, name2=name2)\n",
    "\n",
    "# Delete user 'Diana'\n",
    "with driver.session() as session:\n",
    "    session.execute_write(delete_user, \"Diana\")\n",
    "\n",
    "print(\"User Diana deleted successfully.\")\n",
    "\n",
    "# Delete follow relationship between 'Alice' and 'Felix'\n",
    "with driver.session() as session:\n",
    "    session.execute_write(delete_follow, \"Alice\", \"Felix\")\n",
    "\n",
    "print(\"Follow relationship between Alice and Felix deleted successfully.\")\n",
    "\n",
    "# Delete friendship between 'Alice' and 'Felix'\n",
    "with driver.session() as session:\n",
    "    session.execute_write(delete_friendship, \"Felix\", \"Alice\")\n",
    "\n",
    "print(\"Friendship between Felix and Alice deleted successfully.\")"
   ]
  },
  {
   "cell_type": "markdown",
   "id": "61866fed-507b-4a9b-81b5-26ca184f9805",
   "metadata": {},
   "source": [
    "##### Explanation of the DELETE query\n",
    "\n",
    "The `DELETE` query is used to remove nodes and relationships from the graph.\n",
    "\n",
    "* Deleting a node without relationships - When we delete a node, we are removing that node and all the data associated with it from the graph. If the node does not have any relationships, it can be deleted directly using:\n",
    "    ```cypher\n",
    "    MATCH (u:User {name: $name})\n",
    "    DELETE u\n",
    "    ```\n",
    "\n",
    "* Deleting a node with relationships: \n",
    "If the node has relationships, we must also handle those relationships. By default, Neo4j will not allow us to delete a node that still has relationships because it would leave dangling references in the graph. To delete a node and its relationships, you can use the `DETACH DELETE` command. This command removes the node and all relationships connected to it:\n",
    "\n",
    "    ```cypher\n",
    "    MATCH (u:User {name: $name})\n",
    "    DETACH DELETE u\n",
    "    ```\n",
    "\n",
    "    - `DETACH DELETE u`: Ensures that the user and all relationships connected to the user are deleted. This prevents leaving orphaned relationships in the database.\n",
    "\n",
    "* Deleting relationships only: \n",
    "We can delete a relationship between nodes without deleting the nodes by matching the relationship and then using the DELETE command:\n",
    "\n",
    "    ```cypher\n",
    "    MATCH (a:User {name: $name1})-[r:FRIEND]->(b:User {name: $name2})\n",
    "    DELETE r\n",
    "    ```\n",
    "    \n",
    "    - `MATCH (a:User {name: $name1})-[r:FRIEND]->(b:User {name: $name2})`: Finds the `FRIEND` relationship between `$name1` and `$name2`. The `r` is an alias used for the relationship in the query. It allows us to refer to and manipulate that specific relationship.\n",
    "    - `DELETE r`: Deletes the matched relationship.\n",
    "    \n",
    "* Deleting bi-directional relationships: \n",
    "To delete a `FRIEND` relationship from both sides, we need to run two DELETE commands:\n",
    "\n",
    "    ```\n",
    "    MATCH (a:User {name: $name1})-[r:FRIEND]->(b:User {name: $name2})\n",
    "    DELETE r\n",
    "    MATCH (b:User {name: $name2})-[r:FRIEND]->(a:User {name: $name1})\n",
    "    DELETE r\n",
    "    ```\n",
    "    \n",
    "    - This ensures that the `FRIEND` relationship is deleted in both directions.   \n",
    "    \n",
    "\n",
    "### Using `Merge` clause to add nodes and relationships\n",
    "\n",
    "The `MERGE` clause is used to either match existing nodes and relationships or create new ones if they do not exist. It is useful for ensuring that a certain pattern is present in the database, whether by finding existing elements or creating new ones as necessary."
   ]
  },
  {
   "cell_type": "code",
   "execution_count": 9,
   "id": "15c7937c-c24d-4095-8f56-3ef6da95d69a",
   "metadata": {
    "tags": []
   },
   "outputs": [
    {
     "name": "stdout",
     "output_type": "stream",
     "text": [
      "Users created or matched successfully.\n",
      "Follower relationships created or matched successfully.\n",
      "Friendships created or matched successfully.\n",
      "Follower relationships created or matched successfully.\n",
      "Friendships created or matched successfully.\n"
     ]
    }
   ],
   "source": [
    "# Function to create or match a user node\n",
    "def create_or_match_user(tx, name, age):\n",
    "    tx.run(\"\"\"\n",
    "    MERGE (u:User {name: $name})\n",
    "    SET u.age = $age\n",
    "    \"\"\", name=name, age=age)\n",
    "\n",
    "# Add or match some users in the database\n",
    "with driver.session() as session:\n",
    "    session.execute_write(create_or_match_user, \"Bob\", 25)  # Already exist\n",
    "    session.execute_write(create_or_match_user, \"Gabriella\", 31) # New node\n",
    "\n",
    "print(\"Users created or matched successfully.\")\n",
    "\n",
    "\n",
    "################# Using MERGE for both nodes and relationship  #################\n",
    "\n",
    "# Function to create or match a FOLLOW relationship (directed)\n",
    "def create_or_match_follower(tx, follower, followed):\n",
    "    tx.run(\"\"\"\n",
    "    MERGE (a:User {name: $follower})\n",
    "    MERGE (b:User {name: $followed})\n",
    "    MERGE (a)-[:FOLLOW]->(b)\n",
    "    \"\"\", follower=follower, followed=followed)\n",
    "    \n",
    "# Add some follower relationships to the database\n",
    "with driver.session() as session:\n",
    "    session.execute_write(create_or_match_follower, \"Alice\", \"Charlie\")  # Nodes and relationship already exist\n",
    "    session.execute_write(create_or_match_follower, \"Hannah\", \"Felix\")  # New relationship and new node\n",
    "\n",
    "print(\"Follower relationships created or matched successfully.\")\n",
    "\n",
    "\n",
    "# Function to create or match a FRIEND relationship between two users\n",
    "def create_or_match_friendship(tx, name1, name2):\n",
    "    tx.run(\"\"\"\n",
    "    MERGE (a:User {name: $name1})\n",
    "    MERGE (b:User {name: $name2})\n",
    "    MERGE (a)-[:FRIEND]->(b)\n",
    "    MERGE (b)-[:FRIEND]->(a)\n",
    "    \"\"\", name1=name1, name2=name2)\n",
    "    \n",
    "# Add some friendships to the database\n",
    "with driver.session() as session:\n",
    "    session.execute_write(create_or_match_friendship, \"Alice\", \"Charlie\")  # Nodes and relationship already exist\n",
    "    session.execute_write(create_or_match_friendship, \"Charlie\", \"Immanuel\")  # New relationship and new node\n",
    "\n",
    "print(\"Friendships created or matched successfully.\")\n",
    "\n",
    "\n",
    "################# Using MATCH with MERGE for relationships  #################\n",
    "\n",
    "# Function to create or match a FOLLOW relationship (directed)\n",
    "def create_or_match_follower(tx, follower, followed):\n",
    "    tx.run(\"\"\"\n",
    "    MATCH (a:User {name: $follower})\n",
    "    MATCH (b:User {name: $followed})\n",
    "    MERGE (a)-[:FOLLOW]->(b)\n",
    "    \"\"\", follower=follower, followed=followed)\n",
    "\n",
    "# Add some follower relationships to the database\n",
    "with driver.session() as session:\n",
    "    session.execute_write(create_or_match_follower, \"Alice\", \"Charlie\")  # Nodes and relationship already exist\n",
    "    session.execute_write(create_or_match_follower, \"Charlie\", \"Gabriella\")  # Nodes already exist and new relationship\n",
    "    session.execute_write(create_or_match_follower, \"Jacob\", \"Bob\")  # New relationship and new node\n",
    "\n",
    "print(\"Follower relationships created or matched successfully.\")\n",
    "\n",
    "\n",
    "# Function to create or match a FRIEND relationship between two users\n",
    "def create_or_match_friendship(tx, name1, name2):\n",
    "    tx.run(\"\"\"\n",
    "    MATCH (a:User {name: $name1})\n",
    "    MATCH (b:User {name: $name2})\n",
    "    MERGE (a)-[:FRIEND]->(b)\n",
    "    MERGE (b)-[:FRIEND]->(a)\n",
    "    \"\"\", name1=name1, name2=name2)\n",
    "\n",
    "# Add some friendships to the database\n",
    "with driver.session() as session:\n",
    "    session.execute_write(create_or_match_friendship, \"Alice\", \"Charlie\")  # Nodes and relationship already exist\n",
    "    session.execute_write(create_or_match_friendship, \"Gabriella\", \"Eli\")  # Nodes already exist and new relationship\n",
    "    session.execute_write(create_or_match_friendship, \"Kevin\", \"Immanuel\")  # New relationship and new nodes\n",
    "\n",
    "print(\"Friendships created or matched successfully.\")\n"
   ]
  },
  {
   "cell_type": "markdown",
   "id": "2d527ef5-ba6a-4802-b33a-8a82f828ec9e",
   "metadata": {},
   "source": [
    "##### Explanation\n",
    "\n",
    "\n",
    "###### Using `MERGE` to create or match nodes\n",
    "\n",
    "- `MERGE (u:User {name: $name})`: Ensures that a node with the specified `name` exists. If a node with this `name` already exists, it will be matched. If not, a new `User` node will be created.  Unlike `CREATE`, which always creates a new node, `MERGE` will only create the node if it does not already exist. This prevents duplicate nodes.\n",
    "- `SET u.age = $age`: Updates the `age` property of the node. If the node was newly created, it sets the `age` property. If the node already existed, it updates the property.\n",
    "\n",
    "---\n",
    "\n",
    "###### Using `MERGE` for both nodes and relationship\n",
    "\n",
    "- `MERGE (a:User {name: $follower/$name1})` and `MERGE (b:User {name: $followed/$name2})`: Ensure that both users/nodes exist in the database. creating them if they don't already exist.\n",
    "- `MERGE (a)-[:FOLLOW/FRIEND]->(b)`: Ensures that a specific relationship (FOLLOW/FRIEND) exists from `a` to `b`. If the relationship already exists, it is left unchanged; otherwise, it is created.\n",
    "\n",
    "###### Using `MATCH` with `MERGE` for Relationships\n",
    "\n",
    "- `MATCH (a:User {name: $follower/$name1})` and `MATCH (b:User {name: $followed/$name2})`: Find existing nodes in the database. If either node does not exist, this query will not create them.\n",
    "- `MERGE (a)-[:FOLLOW/FRIEND]->(b)`: Ensures that a specific relationship (FOLLOW/FRIEND) exists from `a` and `b`. If the relationship does not exist, it is created; otherwise, it is left unchanged. It will be executed depending on the `MATCH` results.\n",
    "\n",
    "\n",
    "**Comparison**:\n",
    "  - **`MATCH` + `MERGE`** allows for more control and it is useful if we are sure the nodes already exist and we want to ensure the relationship is created or matched. `MATCH` is used to find existing nodes or relationships but does not create them if they do not exist.\n",
    "  - **`MERGE` for both nodes and relationships** automatically handles the creation of nodes and relationships, which is simpler but may create nodes if they don't exist. `MERGE` is a combination of `MATCH` and `CREATE`. It will find the nodes and relationships if they exist or create them if they don't, making it more versatile for ensuring data integrity.\n",
    "  \n",
    "  \n",
    "### Updating node properties\n",
    "\n",
    "We may need to update specific properties of nodes. In this example, we'll focus on updating the age property."
   ]
  },
  {
   "cell_type": "code",
   "execution_count": 10,
   "id": "f1b816d1-b50b-4c55-99f1-c52c61e44f9b",
   "metadata": {
    "tags": []
   },
   "outputs": [
    {
     "name": "stdout",
     "output_type": "stream",
     "text": [
      "User ages updated successfully.\n"
     ]
    }
   ],
   "source": [
    "# Function to update the age of a user node\n",
    "def update_user_age(tx, name, new_age):\n",
    "    tx.run(\"\"\"\n",
    "    MATCH (u:User {name: $name})\n",
    "    SET u.age = $new_age\n",
    "    \"\"\", name=name, new_age=new_age)\n",
    "\n",
    "# Update the age for Hannah and Immanuel\n",
    "with driver.session() as session:\n",
    "    session.execute_write(update_user_age, \"Hannah\", 33)  # Setting new age for Hannah\n",
    "    session.execute_write(update_user_age, \"Immanuel\", 27)  # Setting new age for Immanuel\n",
    "\n",
    "print(\"User ages updated successfully.\")"
   ]
  },
  {
   "cell_type": "markdown",
   "id": "d6a207e1-941f-48a2-acb5-2b55621917af",
   "metadata": {},
   "source": [
    "##### Explanation:\n",
    "\n",
    "`SET` modifies the properties of nodes or relationships that were matched by the `MATCH` clause. If the property does not already exist, it will be created with the specified value. If the property already exists, it will be updated."
   ]
  },
  {
   "cell_type": "markdown",
   "id": "c795ac10-0237-402e-9936-1fd25ff66f5c",
   "metadata": {},
   "source": [
    "### Running queries\n",
    "Now, let's run some Cypher queries to retrieve and analyze data."
   ]
  },
  {
   "cell_type": "code",
   "execution_count": 11,
   "id": "8ba6de05-dd1a-4b0a-9ed3-e2eea3a78db2",
   "metadata": {
    "tags": []
   },
   "outputs": [
    {
     "name": "stdout",
     "output_type": "stream",
     "text": [
      "All users:\n",
      "User: Gabriella, Age: 31\n",
      "User: Hannah, Age: 33\n",
      "User: Immanuel, Age: 27\n",
      "User: Alice, Age: 30\n",
      "User: Bob, Age: 25\n",
      "User: Charlie, Age: 35\n",
      "User: Eli, Age: 33\n",
      "User: Felix, Age: 23\n",
      "\n",
      "All posts:\n",
      "Post ID: 1, Content: Hello, world!, Timestamp: 2024-07-16T10:00:00.000000000+00:00\n",
      "Post ID: 2, Content: Good night!, Timestamp: 2024-07-16T11:00:00.000000000+00:00\n",
      "\n",
      "All comments:\n",
      "Comment ID: 2, Content: Very informative., Timestamp: 2024-07-16T12:30:00.000000000+00:00\n",
      "Comment ID: 1, Content: Great post!, Timestamp: 2024-07-16T12:00:00.000000000+00:00\n"
     ]
    }
   ],
   "source": [
    "# Function to get all users\n",
    "def get_all_users(tx):\n",
    "    result = tx.run(\"MATCH (u:User) RETURN u.name AS name, u.age AS age\")\n",
    "    return [(record[\"name\"], record[\"age\"]) for record in result]\n",
    "\n",
    "# Retrieve and print all users\n",
    "print(\"All users:\")\n",
    "with driver.session() as session:\n",
    "    users = session.execute_write(get_all_users)\n",
    "    for name, age in users:\n",
    "        print(f\"User: {name}, Age: {age}\")\n",
    "        \n",
    "# Function to get all posts\n",
    "def get_all_posts(tx):\n",
    "    result = tx.run(\"MATCH (p:Post) RETURN p.id AS id, p.content AS content, p.timestamp AS timestamp\")\n",
    "    return [(record[\"id\"], record[\"content\"], record[\"timestamp\"]) for record in result]\n",
    "\n",
    "# Retrieve and print all posts\n",
    "print(\"\\nAll posts:\")\n",
    "with driver.session() as session:\n",
    "    posts = session.execute_write(get_all_posts)\n",
    "    for id, content, timestamp in posts:\n",
    "        print(f\"Post ID: {id}, Content: {content}, Timestamp: {timestamp}\")\n",
    "        \n",
    "# Function to get all comments\n",
    "def get_all_comments(tx):\n",
    "    result = tx.run(\"MATCH (c:Comment) RETURN c.id AS id, c.content AS content, c.timestamp AS timestamp\")\n",
    "    return [(record[\"id\"], record[\"content\"], record[\"timestamp\"]) for record in result]\n",
    "\n",
    "# Retrieve and print all comments\n",
    "print(\"\\nAll comments:\")\n",
    "with driver.session() as session:\n",
    "    comments = session.execute_write(get_all_comments)\n",
    "    for id, content, timestamp in comments:\n",
    "        print(f\"Comment ID: {id}, Content: {content}, Timestamp: {timestamp}\")"
   ]
  },
  {
   "cell_type": "markdown",
   "id": "bc76f3dd-1945-4a29-a770-d8abd2a3129a",
   "metadata": {},
   "source": [
    "##### Explanation of the MATCH and RETURN query\n",
    "\n",
    "The `MATCH` query is used to find nodes, and the `RETURN` query is used to get specific data from those nodes. Here's the structure:\n",
    "\n",
    "```cypher\n",
    "MATCH (alias:Label)\n",
    "RETURN alias.property1, alias.property2, ...\n",
    "```\n",
    "\n",
    "- `MATCH (alias:Label)`: Finds nodes with the given label.\n",
    "- `RETURN alias.property1, alias.property2, ...`: Returns the specified properties of the matched nodes.\n",
    "\n",
    "In our example:\n",
    "```cypher\n",
    "MATCH (u:User)\n",
    "RETURN u.name AS name, u.age AS age\n",
    "```\n",
    "- `MATCH (u:User)`: Finds all nodes with the label `User`. `u` is an alias for these nodes.\n",
    "- `RETURN u.name AS name, u.age AS age`: Returns the `name` and `age` properties of the matched nodes."
   ]
  },
  {
   "cell_type": "code",
   "execution_count": 12,
   "id": "38365f98-8437-458c-badf-9d00405fe40b",
   "metadata": {
    "tags": []
   },
   "outputs": [
    {
     "name": "stdout",
     "output_type": "stream",
     "text": [
      "Alice's friends:\n",
      "Friend: Charlie, Age: 35\n",
      "Friend: Bob, Age: 25\n"
     ]
    }
   ],
   "source": [
    "# Function to get friends of a user\n",
    "def get_friends(tx, name):\n",
    "    result = tx.run(\"\"\"\n",
    "    MATCH (u:User {name: $name})-[:FRIEND]->(friend)\n",
    "    RETURN friend.name AS name, friend.age AS age\n",
    "    \"\"\", name=name)\n",
    "    return [(record[\"name\"], record[\"age\"]) for record in result]\n",
    "\n",
    "# Retrieve and print friends of Alice\n",
    "with driver.session() as session:\n",
    "    friends = session.execute_write(get_friends, \"Alice\")\n",
    "    print(\"Alice's friends:\")\n",
    "    for name, age in friends:\n",
    "        print(f\"Friend: {name}, Age: {age}\")"
   ]
  },
  {
   "cell_type": "markdown",
   "id": "d2503a59-3e23-43d3-94dc-97c650343e00",
   "metadata": {},
   "source": [
    "##### Explanation of the MATCH and RETURN query with relationships\n",
    "In this query, we are also matching relationships. Here's the structure:\n",
    "\n",
    "```cypher\n",
    "MATCH (alias1:Label {property1: value1})-[:RELATIONSHIP_TYPE]->(alias2)\n",
    "RETURN alias2.property1, alias2.property2, ...\n",
    "```\n",
    "\n",
    "- `MATCH (alias1:Label {property1: value1})-[:RELATIONSHIP_TYPE]->(alias2)`: Finds nodes and their relationships.\n",
    "- `RETURN alias2.property1, alias2.property2, ...`: Returns the specified properties of the related nodes.\n",
    "\n",
    "In our example, we're finding users by their name and then finding their friends through the `FRIEND` relationship.:\n",
    "```cypher\n",
    "MATCH (u:User {name: $name})-[:FRIEND]->(friend)\n",
    "RETURN friend.name AS name, friend.age AS age\n",
    "```\n",
    "- `MATCH (u:User {name: $name})-[:FRIEND]->(friend)`: Finds users named `$name` and their friends.\n",
    "    - `MATCH (u:User {name: $name})`: Finds the user node with the specified name. `$name` is a parameter.\n",
    "    - `[:FRIEND]->(friend)`: Finds nodes that have a `FRIEND` relationship from the matched user. `friend` is an alias for these related nodes.\n",
    "- `RETURN friend.name AS name, friend.age AS age`: Returns the `name` and `age` properties of the friends."
   ]
  },
  {
   "cell_type": "code",
   "execution_count": 13,
   "id": "9de9580d-0a90-4ead-ae75-06e2233f7c12",
   "metadata": {
    "tags": []
   },
   "outputs": [
    {
     "name": "stdout",
     "output_type": "stream",
     "text": [
      "Alice's friends of friends:\n",
      "Friend of Friend: Immanuel, Age: 27\n",
      "Friend of Friend: Alice, Age: 30\n",
      "Friend of Friend: Felix, Age: 23\n",
      "Friend of Friend: Alice, Age: 30\n"
     ]
    }
   ],
   "source": [
    "# Function to get friends of friends\n",
    "def get_friends_of_friends(tx, name):\n",
    "    result = tx.run(\"\"\"\n",
    "    MATCH (u:User {name: $name})-[:FRIEND]->(:User)-[:FRIEND]->(fof)\n",
    "    RETURN fof.name AS name, fof.age AS age\n",
    "    \"\"\", name=name)\n",
    "    return [(record[\"name\"], record[\"age\"]) for record in result]\n",
    "\n",
    "# Retrieve and print friends of friends of Alice\n",
    "with driver.session() as session:\n",
    "    friends_of_friends = session.execute_write(get_friends_of_friends, \"Alice\")\n",
    "    print(\"Alice's friends of friends:\")\n",
    "    for name, age in friends_of_friends:\n",
    "        print(f\"Friend of Friend: {name}, Age: {age}\")"
   ]
  },
  {
   "cell_type": "markdown",
   "id": "6025382a-94ab-4ebd-8fc8-33958664c24c",
   "metadata": {},
   "source": [
    "##### Explanation of the MATCH and RETURN query for friends of friends\n",
    "\n",
    "This query finds nodes that are connected through two relationships. Here's the structure:\n",
    "\n",
    "```cypher\n",
    "MATCH (alias1:Label {property1: value1})-[:RELATIONSHIP_TYPE1]->(:Label)-[:RELATIONSHIP_TYPE2]->(alias2)\n",
    "RETURN alias2.property1, alias2.property2, ...\n",
    "```\n",
    "\n",
    "- `MATCH (alias1:Label {property1: value1})-[:RELATIONSHIP_TYPE1]->(:Label)-[:RELATIONSHIP_TYPE2]->(alias2)`: Finds nodes connected through two relationships.\n",
    "- `RETURN alias2.property1, alias2.property2, ...`: Returns the specified properties of the nodes at the end of the relationships.\n",
    "\n",
    "In our example:\n",
    "```cypher\n",
    "MATCH (u:User {name: $name})-[:FRIEND]->(:User)-[:FRIEND]->(fof)\n",
    "RETURN fof.name AS name, fof.age AS age\n",
    "```\n",
    "- `MATCH (u:User {name: $name})-[:FRIEND]->(:User)-[:FRIEND]->(fof)`: Finds users named `$name` and their friends' friends.\n",
    "    - `MATCH (u:User {name: $name})`: Finds the user node with the specified name.\n",
    "    - `[:FRIEND]->(:User)`: Finds user nodes that are friends of the matched user. The friend nodes are not given an alias here.\n",
    "    - `[:FRIEND]->(fof)`: Finds nodes that are friends of the friend nodes. `fof` is an alias for these friends of friends.\n",
    "- `RETURN fof.name AS name, fof.age AS age`: Returns the `name` and `age` properties of the friends' friends."
   ]
  },
  {
   "cell_type": "code",
   "execution_count": 14,
   "id": "46c2dd2b-0d57-4b82-84ae-8e025c7e3e0a",
   "metadata": {
    "tags": []
   },
   "outputs": [
    {
     "name": "stdout",
     "output_type": "stream",
     "text": [
      "Node counts:\n",
      "Node Type: User, Count: 8\n",
      "Node Type: Comment, Count: 2\n",
      "Node Type: Post, Count: 2\n",
      "\n",
      "Relationship counts:\n",
      "Relationship Type: HAS_COMMENT, Count: 2\n",
      "Relationship Type: COMMENTED, Count: 2\n",
      "Relationship Type: LIKES, Count: 2\n",
      "Relationship Type: FOLLOW, Count: 5\n",
      "Relationship Type: FRIEND, Count: 10\n",
      "Relationship Type: POSTED, Count: 2\n"
     ]
    }
   ],
   "source": [
    "# Function to get the count of different types of nodes\n",
    "def count_nodes(tx):\n",
    "    result = tx.run(\"\"\"\n",
    "    MATCH (n)\n",
    "    RETURN labels(n)[0] AS nodeType, count(*) AS count\n",
    "    \"\"\")\n",
    "    return [(record[\"nodeType\"], record[\"count\"]) for record in result]\n",
    "\n",
    "# Retrieve and print the count of different types of nodes\n",
    "with driver.session() as session:\n",
    "    counts = session.execute_write(count_nodes)\n",
    "    print(\"Node counts:\")\n",
    "    for nodeType, count in counts:\n",
    "        print(f\"Node Type: {nodeType}, Count: {count}\")\n",
    "\n",
    "# Function to get the count of different types of relationships\n",
    "def count_relationships(tx):\n",
    "    result = tx.run(\"\"\"\n",
    "    MATCH ()-[r]->()\n",
    "    RETURN type(r) AS relationshipType, count(*) AS count\n",
    "    \"\"\")\n",
    "    return [(record[\"relationshipType\"], record[\"count\"]) for record in result]\n",
    "\n",
    "# Retrieve and print the count of different types of relationships\n",
    "with driver.session() as session:\n",
    "    counts = session.execute_write(count_relationships)\n",
    "    print(\"\\nRelationship counts:\")\n",
    "    for relationshipType, count in counts:\n",
    "        print(f\"Relationship Type: {relationshipType}, Count: {count}\")"
   ]
  },
  {
   "cell_type": "markdown",
   "id": "6e985ba7-6c8d-4038-bedc-a4ca69bb9923",
   "metadata": {},
   "source": [
    "##### Explanation\n",
    "\n",
    "* **`MATCH` Clause**:\n",
    "    - In the context of counting nodes or relationships, `MATCH (n)` or `MATCH ()-[r]->()` specifies that we are looking at all nodes or relationships respectively.\n",
    "\n",
    "* **`labels(n)` Function**:\n",
    "    - `labels(n)` returns a list of labels for a node `n`. In the example:\n",
    "    ```cypher\n",
    "    RETURN labels(n)[0] AS nodeType\n",
    "    ```\n",
    "\n",
    "    - This line retrieves the first label of the node `n` and assigns it the alias `nodeType`.\n",
    "\n",
    "* **`type(r)` Function**:\n",
    "    - `type(r)` returns the type of a relationship `r`. In the example:\n",
    "    ```cypher\n",
    "    RETURN type(r) AS relationshipType\n",
    "    ```\n",
    "\n",
    "    - This line retrieves the type of the relationship and assigns it the alias `relationshipType`.\n",
    "\n",
    "* **`count(*)` Function**: Counts the number of elements in the result set. It is used to aggregate the number of nodes or relationships."
   ]
  },
  {
   "cell_type": "code",
   "execution_count": 15,
   "id": "b436eb8c-b7f1-4a6e-ac67-589da75cfc3d",
   "metadata": {
    "tags": []
   },
   "outputs": [
    {
     "name": "stdout",
     "output_type": "stream",
     "text": [
      "Users who liked post ID 1:\n",
      "User: Alice, Liked at: 2024-07-16T12:00:00Z\n"
     ]
    }
   ],
   "source": [
    "# Function to get users who liked a specific post\n",
    "def get_users_who_liked_post(tx, post_id):\n",
    "    result = tx.run(\"\"\"\n",
    "    MATCH (u:User)-[r:LIKES]->(p:Post {id: $post_id})\n",
    "    RETURN u.name AS name, r.timestamp AS liked_at\n",
    "    \"\"\", post_id=post_id)\n",
    "    return [(record[\"name\"], record[\"liked_at\"]) for record in result]\n",
    "\n",
    "# Retrieve and print users who liked post with ID 1\n",
    "with driver.session() as session:\n",
    "    likers = session.execute_write(get_users_who_liked_post, 1)\n",
    "    print(\"Users who liked post ID 1:\")\n",
    "    for name, liked_at in likers:\n",
    "        print(f\"User: {name}, Liked at: {liked_at}\")\n"
   ]
  },
  {
   "cell_type": "markdown",
   "id": "aad523e6-ca57-41a2-9986-db22b406de2c",
   "metadata": {},
   "source": [
    "##### Explanation\n",
    "\n",
    "* `MATCH (u:User)-[r:LIKES]->(p:Post {id: $post_id})`: Finds users who have a LIKES relationship to the post with the specified id.\n",
    "* `RETURN u.name AS name, r.timestamp AS liked_at`: Returns the name property of the users and the timestamp property of the LIKES relationship."
   ]
  },
  {
   "cell_type": "code",
   "execution_count": 16,
   "id": "60deaa49-a570-4fbf-9f91-94d3f0584797",
   "metadata": {
    "tags": []
   },
   "outputs": [
    {
     "name": "stdout",
     "output_type": "stream",
     "text": [
      "Posts made by Alice:\n",
      "Post ID: 1, Content: Hello, world!, Timestamp: 2024-07-16T10:00:00.000000000+00:00\n",
      "\n",
      "Comments made by Alice:\n",
      "Comment ID: 1, Content: Great post!, Timestamp: 2024-07-16T12:00:00.000000000+00:00\n",
      "\n",
      "Comments on Post ID 1:\n",
      "Comment ID: 2, Content: Very informative., Timestamp: 2024-07-16T12:30:00.000000000+00:00\n"
     ]
    }
   ],
   "source": [
    "# Function to get posts made by a specific user\n",
    "def get_posts_by_user(tx, user_name):\n",
    "    result = tx.run(\"\"\"\n",
    "    MATCH (u:User {name: $user_name})-[:POSTED]->(p:Post)\n",
    "    RETURN p.id AS id, p.content AS content, p.timestamp AS timestamp\n",
    "    \"\"\", user_name=user_name)\n",
    "    return [(record[\"id\"], record[\"content\"], record[\"timestamp\"]) for record in result]\n",
    "\n",
    "# Retrieve and print posts made by Alice\n",
    "with driver.session() as session:\n",
    "    posts = session.execute_write(get_posts_by_user, \"Alice\")\n",
    "    print(\"Posts made by Alice:\")\n",
    "    for id, content, timestamp in posts:\n",
    "        print(f\"Post ID: {id}, Content: {content}, Timestamp: {timestamp}\")\n",
    "\n",
    "\n",
    "# Function to get comments made by a specific user\n",
    "def get_comments_by_user(tx, user_name):\n",
    "    result = tx.run(\"\"\"\n",
    "    MATCH (u:User {name: $user_name})-[:COMMENTED]->(c:Comment)\n",
    "    RETURN c.id AS id, c.content AS content, c.timestamp AS timestamp\n",
    "    \"\"\", user_name=user_name)\n",
    "    return [(record[\"id\"], record[\"content\"], record[\"timestamp\"]) for record in result]\n",
    "\n",
    "# Retrieve and print comments made by Alice\n",
    "with driver.session() as session:\n",
    "    comments = session.execute_write(get_comments_by_user, \"Alice\")\n",
    "    print(\"\\nComments made by Alice:\")\n",
    "    for id, content, timestamp in comments:\n",
    "        print(f\"Comment ID: {id}, Content: {content}, Timestamp: {timestamp}\")\n",
    "        \n",
    "\n",
    "# Function to get comments on a specific post\n",
    "def get_comments_on_post(tx, post_id):\n",
    "    result = tx.run(\"\"\"\n",
    "    MATCH (p:Post {id: $post_id})-[:HAS_COMMENT]->(c:Comment)\n",
    "    RETURN c.id AS id, c.content AS content, c.timestamp AS timestamp\n",
    "    \"\"\", post_id=post_id)\n",
    "    return [(record[\"id\"], record[\"content\"], record[\"timestamp\"]) for record in result]\n",
    "\n",
    "# Retrieve and print comments on post with ID 1\n",
    "with driver.session() as session:\n",
    "    comments = session.execute_write(get_comments_on_post, 1)\n",
    "    print(\"\\nComments on Post ID 1:\")\n",
    "    for id, content, timestamp in comments:\n",
    "        print(f\"Comment ID: {id}, Content: {content}, Timestamp: {timestamp}\")"
   ]
  },
  {
   "cell_type": "markdown",
   "id": "de1cf0d5-3b09-45de-b214-d7341bc59d9f",
   "metadata": {},
   "source": [
    "##### Explanation\n",
    "\n",
    "* `MATCH (u:User {name: $user_name})-[:POSTED]->(p:Post)`: Finds posts that a user with the specified name has posted.\n",
    "* `RETURN p.id AS id, p.content AS content, p.timestamp AS timestamp`: Returns the id, content, and timestamp properties of the posts."
   ]
  },
  {
   "cell_type": "code",
   "execution_count": 17,
   "id": "4c16a53f-1c9a-483d-9d1f-100db0a543e9",
   "metadata": {
    "tags": []
   },
   "outputs": [
    {
     "name": "stdout",
     "output_type": "stream",
     "text": [
      "\n",
      "Friend recommendations for Alice:\n",
      "Recommended Friend: Immanuel, Mutual Friends: 1\n",
      "Recommended Friend: Felix, Mutual Friends: 1\n",
      "\n",
      "Friend recommendations for Bob:\n",
      "Recommended Friend: Charlie, Mutual Friends: 1\n",
      "\n",
      "Friend recommendations for Charlie:\n",
      "Recommended Friend: Bob, Mutual Friends: 1\n"
     ]
    }
   ],
   "source": [
    "# Function to recommend friends to a user with pagination\n",
    "def recommend_friends_with_pagination(tx, user_name, skip, limit):\n",
    "    result = tx.run(\"\"\"\n",
    "    MATCH (u:User {name: $user_name})-[:FRIEND]->(friend)-[:FRIEND]->(fof)\n",
    "    WHERE NOT (u)-[:FRIEND]->(fof) AND u <> fof\n",
    "    RETURN fof.name AS name, count(friend) AS mutualFriends\n",
    "    ORDER BY mutualFriends DESC\n",
    "    SKIP $skip\n",
    "    LIMIT $limit\n",
    "    \"\"\", user_name=user_name, skip=skip, limit=limit)\n",
    "    return [(record[\"name\"], record[\"mutualFriends\"]) for record in result]\n",
    "\n",
    "# Function to recommend friends for a list of users with pagination\n",
    "def recommend_friends_for_users_with_pagination(driver, user_names, skip, limit):\n",
    "    for user_name in user_names:\n",
    "        with driver.session() as session:\n",
    "            recommendations = session.execute_write(recommend_friends_with_pagination, user_name, skip, limit)\n",
    "            print(f\"\\nFriend recommendations for {user_name}:\")\n",
    "            for name, mutualFriends in recommendations:\n",
    "                print(f\"Recommended Friend: {name}, Mutual Friends: {mutualFriends}\")\n",
    "\n",
    "# Retrieve and print friend recommendations with pagination for a list of users\n",
    "user_names = [\"Alice\", \"Bob\", \"Charlie\"]\n",
    "recommend_friends_for_users_with_pagination(driver, user_names, skip=0, limit=5)\n"
   ]
  },
  {
   "cell_type": "markdown",
   "id": "a27b4ec8-5ca5-47de-95b7-d67d13c71aed",
   "metadata": {},
   "source": [
    "##### Explanation\n",
    "\n",
    "* **`WHERE` Clause**:\n",
    "    - The `WHERE` clause is used to filter the results of the `MATCH` clause based on specific conditions. \n",
    "    ```cypher\n",
    "    WHERE NOT (u)-[:FRIEND]->(fof) AND u <> fof\n",
    "    ```\n",
    "\n",
    "    - This line ensures that `fof` (friend of friend) is not already a friend of the user `u` and that `fof` is not the user `u` itself.\n",
    "\n",
    "* **`ORDER BY` Clause**:\n",
    "    - The `ORDER BY` clause is used to sort the results based on one or more expressions. \n",
    "    ```cypher\n",
    "    ORDER BY mutualFriends DESC\n",
    "    ```\n",
    "\n",
    "    - This line sorts the results by the number of mutual friends in descending order.\n",
    "    \n",
    "* **`SKIP` Clause**:\n",
    "    - The `SKIP` clause is used to skip a specified number of results before starting to return results. \n",
    "    ```cypher\n",
    "    SKIP $skip\n",
    "    ```\n",
    "\n",
    "    - This line skips a specified number of results (e.g., 0 in this case).\n",
    "\n",
    "* **`LIMIT` Clause**:\n",
    "    - The `LIMIT` clause is used to specify the maximum number of results to return. \n",
    "    ```cypher\n",
    "    LIMIT $limit\n",
    "    ```\n",
    "\n",
    "    - This line limits the results to the top 5 recommendations.\n",
    "\n",
    "* **`NOT` Keyword**:\n",
    "    - The `NOT` keyword is used to exclude results that match a certain condition. \n",
    "    ```cypher\n",
    "    WHERE NOT (u)-[:FRIEND]->(fof)\n",
    "    ```\n",
    "\n",
    "    - This line excludes `fof` from the results if there is already a `FRIEND` relationship between `u` and `fof`.\n",
    "\n",
    "* **`<>` Operator**:\n",
    "    - The `<>` operator is used to denote inequality.\n",
    "    ```cypher\n",
    "    AND u <> fof\n",
    "    ```\n",
    "\n",
    "    - This line ensures that `fof` is not the same as `u` (the user for whom we are recommending friends).\n"
   ]
  },
  {
   "cell_type": "code",
   "execution_count": 18,
   "id": "aa5eadef-486d-4bef-94a2-7961062d5e6c",
   "metadata": {
    "tags": []
   },
   "outputs": [
    {
     "name": "stdout",
     "output_type": "stream",
     "text": [
      "Shortest path between Alice and Charlie:\n",
      "Alice -> Charlie\n",
      "\n",
      "Shortest path between Felix and Charlie:\n",
      "Felix -> Bob -> Alice -> Charlie -> Immanuel\n"
     ]
    }
   ],
   "source": [
    "# Function to find the shortest path between two users\n",
    "def get_shortest_path(tx, user1, user2):\n",
    "    result = tx.run(\"\"\"\n",
    "    MATCH p = shortestPath((u1:User {name: $user1})-[:FRIEND*]-(u2:User {name: $user2}))\n",
    "    RETURN p\n",
    "    \"\"\", user1=user1, user2=user2)\n",
    "    return result.single()\n",
    "\n",
    "# Retrieve and print the shortest path between Alice and Charlie\n",
    "with driver.session() as session:\n",
    "    path = session.execute_write(get_shortest_path, \"Alice\", \"Charlie\")\n",
    "    print(\"Shortest path between Alice and Charlie:\")\n",
    "    nodes = [node[\"name\"] for node in path[\"p\"].nodes]\n",
    "    print(\" -> \".join(nodes))\n",
    "    \n",
    "    print(\"\\nShortest path between Felix and Charlie:\")\n",
    "    path = session.execute_write(get_shortest_path, \"Felix\", \"Immanuel\")\n",
    "    nodes = [node[\"name\"] for node in path[\"p\"].nodes]\n",
    "    print(\" -> \".join(nodes))"
   ]
  },
  {
   "cell_type": "markdown",
   "id": "2a480a19-93b1-41dc-89e8-25b968db18f6",
   "metadata": {},
   "source": [
    "##### Explanation\n",
    "\n",
    "* **`shortestPath` function** is used to find the shortest path between two nodes. \n",
    "    \n",
    "    ```\n",
    "    shortestPath((u1:User {name: $user1})-[:FRIEND*]-(u2:User {name: $user2}))\n",
    "    ```\n",
    "\n",
    "    - This function finds the shortest path between `u1` and `u2` traversing `FRIEND` relationships.\n",
    "    \n",
    "* **`*` in `[:FRIEND*]`** indicates that the relationship can traverse multiple hops or steps. `[:FRIEND*]` means that the query should consider paths that include zero or more `FRIEND` relationships. The `*` specifies that the path can be of any length, including direct connections or longer paths through other nodes.\n",
    "\n",
    "  - For example:\n",
    "    - `[:FRIEND]` would only match direct connections between nodes.\n",
    "    - `[:FRIEND*]` allows the path to include nodes that are connected through one or more `FRIEND` relationships."
   ]
  },
  {
   "cell_type": "code",
   "execution_count": 19,
   "id": "4dfee6d8-d156-49ea-9dbb-9204800cc174",
   "metadata": {
    "tags": []
   },
   "outputs": [
    {
     "name": "stdout",
     "output_type": "stream",
     "text": [
      "Patterns found:\n",
      "Felix -> Bob -> Alice -> Charlie\n",
      "Charlie -> Alice -> Bob -> Eli\n",
      "Bob -> Alice -> Charlie -> Gabriella\n",
      "\n",
      "Patterns found:\n",
      "Immanuel -> Charlie <- Alice -> Bob\n",
      "Gabriella -> Eli <- Bob -> Felix\n",
      "Gabriella -> Eli <- Bob -> Alice\n",
      "Felix -> Bob <- Eli -> Gabriella\n",
      "Alice -> Bob <- Eli -> Gabriella\n",
      "Eli -> Gabriella <- Charlie -> Immanuel\n",
      "Eli -> Gabriella <- Charlie -> Alice\n",
      "\n",
      "Connections through an intermediate node found:\n",
      "Bob -- Eli -- Gabriella\n",
      "Bob -- Felix -- Hannah\n",
      "Alice -- Charlie -- Immanuel\n",
      "Immanuel -- Charlie -- Alice\n",
      "Felix -- Bob -- Alice\n",
      "Eli -- Bob -- Alice\n",
      "Hannah -- Felix -- Bob\n",
      "Charlie -- Alice -- Bob\n",
      "Gabriella -- Eli -- Bob\n",
      "Eli -- Gabriella -- Charlie\n",
      "Bob -- Alice -- Charlie\n",
      "Charlie -- Gabriella -- Eli\n",
      "Felix -- Bob -- Eli\n",
      "Alice -- Bob -- Eli\n",
      "Alice -- Bob -- Felix\n",
      "Eli -- Bob -- Felix\n"
     ]
    }
   ],
   "source": [
    "# Function to find all patterns of user -> friend -> user -> friend -> user -> follow -> user\n",
    "def find_user_patterns(tx):\n",
    "    result = tx.run(\"\"\"\n",
    "    MATCH (a:User)-[:FRIEND]->(b:User)-[:FRIEND]->(c:User)-[:FOLLOW]->(d:User)\n",
    "    WHERE a <> b AND a <> c AND a <> d AND b <> c AND b <> d AND c <> d\n",
    "    RETURN a.name AS startUser, b.name AS firstFriend, c.name AS secondFriend, d.name AS followedUser\n",
    "    \"\"\")\n",
    "    return [(record[\"startUser\"], record[\"firstFriend\"], record[\"secondFriend\"], record[\"followedUser\"]) for record in result]\n",
    "\n",
    "# Execute the function and print results\n",
    "with driver.session() as session:\n",
    "    patterns = session.execute_read(find_user_patterns)\n",
    "    print(\"Patterns found:\")\n",
    "    for startUser, firstFriend, secondFriend, followedUser in patterns:\n",
    "        print(f\"{startUser} -> {firstFriend} -> {secondFriend} -> {followedUser}\")\n",
    "        \n",
    "        \n",
    "# Function to find all patterns of user -> friend -> user <- follow <- user -> friend -> user\n",
    "def find_user_patterns(tx):\n",
    "    result = tx.run(\"\"\"\n",
    "    MATCH (a:User)-[:FRIEND]->(b:User)<-[:FOLLOW]-(c:User)-[:FRIEND]->(d:User)\n",
    "    WHERE a <> b AND a <> c AND a <> d AND b <> c AND b <> d AND c <> d\n",
    "    RETURN a.name AS startUser, b.name AS firstFriend, c.name AS FriendFollowerUser, d.name AS followerFriendUser\n",
    "    \"\"\")\n",
    "    return [(record[\"startUser\"], record[\"firstFriend\"], record[\"FriendFollowerUser\"], record[\"followerFriendUser\"]) for record in result]\n",
    "\n",
    "# Execute the function and print results\n",
    "with driver.session() as session:\n",
    "    patterns = session.execute_read(find_user_patterns)\n",
    "    print(\"\\nPatterns found:\")\n",
    "    for startUser, firstFriend, FriendFollowerUser, followerFriendUser in patterns:\n",
    "        print(f\"{startUser} -> {firstFriend} <- {FriendFollowerUser} -> {followerFriendUser}\")\n",
    "        \n",
    "        \n",
    "# Function to find users connected through an intermediate node\n",
    "def find_connections_through_intermediate(tx):\n",
    "    result = tx.run(\"\"\"\n",
    "    MATCH (a:User)-->(x)<--(b:User)\n",
    "    WHERE a <> b\n",
    "    RETURN DISTINCT a.name AS startUser, x.name AS intermediateNode, b.name AS endUser\n",
    "    \"\"\")\n",
    "    return [(record[\"startUser\"], record[\"intermediateNode\"], record[\"endUser\"]) for record in result]\n",
    "\n",
    "# Execute the function and print results\n",
    "with driver.session() as session:\n",
    "    connections = session.execute_read(find_connections_through_intermediate)\n",
    "    print(\"\\nConnections through an intermediate node found:\")\n",
    "    for startUser, intermediateNode, endUser in connections:\n",
    "        print(f\"{startUser} -- {intermediateNode} -- {endUser}\")"
   ]
  },
  {
   "cell_type": "markdown",
   "id": "24ff3993-899d-44c6-9239-28f23af14c0e",
   "metadata": {},
   "source": [
    "#### Finding directed relationships in Cypher queries\n",
    "\n",
    "The direction of the relationship is indicated by `->` (outgoing) or `<-` (incoming).\n",
    "  - Example: **`(a:User)-[:FRIEND]->(b:User)`** means user `a` is friends with user `b`.\n",
    "  - Example: **`(b:User)<-[:FOLLOW]-(c:User)`** means user `c` follows user `b`.\n",
    "\n",
    "#### Finding both directions of a relationship\n",
    "\n",
    "To find relationships in both directions, we can use the `-[]-` syntax, which matches relationships regardless of direction.\n",
    "- Example: **`(a:User)-[:FRIEND]-(b:User)`** means there is a `FRIEND` relationship between user `a` and user `b`, regardless of who initiated the friendship.\n",
    "- Example: **`(b:User)-[:FOLLOW]-(c:User)`** means there is a `FOLLOW` relationship between user `b` and user `c`, regardless of who follows whom.\n",
    "\n",
    "\n",
    "#### Finding connections through an intermediate node\n",
    "\n",
    "To find patterns where two nodes are connected through a third, intermediate node, we can use the `(a)-->()<--(b)` pattern, which identifies relationships between nodes that share a common intermediary.\n",
    "- Example: **`(a:User)-->(x)<--(b:User)`** finds all users `a` and `b` who are connected through an intermediate user `x`. `(a:User)-->(x)` means that user `a` has a direct relationship (in any direction) with an intermediate node `x`. `(x)<--(b:User)` means that user `b` has a direct relationship (in any direction) with the same intermediate node `x`."
   ]
  },
  {
   "cell_type": "code",
   "execution_count": 20,
   "id": "7658e8f3-3cf8-4fdd-91a7-85e64f4399ab",
   "metadata": {
    "tags": []
   },
   "outputs": [
    {
     "name": "stdout",
     "output_type": "stream",
     "text": [
      "Users with more than one friend:\n",
      "Alice has 2 friends\n",
      "Bob has 2 friends\n",
      "Charlie has 2 friends\n",
      "\n",
      "Mentor relationships created successfully.\n"
     ]
    }
   ],
   "source": [
    "# Function to find users with more than one friend\n",
    "def find_users_with_more_than_one_friend(tx):\n",
    "    result = tx.run(\"\"\"\n",
    "    MATCH (u:User)-[:FRIEND]->(friend)\n",
    "    WITH u, COUNT(friend) AS friendCount\n",
    "    WHERE friendCount > 1\n",
    "    RETURN u.name AS userName, friendCount\n",
    "    \"\"\")\n",
    "    return [(record[\"userName\"], record[\"friendCount\"]) for record in result]\n",
    "\n",
    "# Execute the function and print results\n",
    "with driver.session() as session:\n",
    "    users = session.execute_read(find_users_with_more_than_one_friend)\n",
    "    print(\"Users with more than one friend:\")\n",
    "    for userName, friendCount in users:\n",
    "        print(f\"{userName} has {friendCount} friends\")\n",
    "\n",
    "        \n",
    "# Function to create a mentor relationship for friends older than 30\n",
    "def create_mentor_relationship(tx):\n",
    "    tx.run(\"\"\"\n",
    "    MATCH (a:User {name: 'Alice'})-[:FRIEND]->(b:User)\n",
    "    WITH a, b\n",
    "    WHERE b.age > 30\n",
    "    CREATE (a)-[:MENTOR]->(b)\n",
    "    RETURN a.name AS mentor, b.name AS mentee\n",
    "    \"\"\")\n",
    "\n",
    "# Execute the function\n",
    "with driver.session() as session:\n",
    "    session.execute_write(create_mentor_relationship)\n",
    "\n",
    "print(\"\\nMentor relationships created successfully.\")"
   ]
  },
  {
   "cell_type": "markdown",
   "id": "89c3db78-5f5e-4313-8ba3-1151b2841221",
   "metadata": {},
   "source": [
    "##### Using the `WITH` clause\n",
    "The `WITH` clause is used to chain multiple query parts together, allowing us to pass the results of one part of the query to the next. This is useful for performing intermediate calculations, filtering results, or aggregating data before further processing.\n",
    "\n",
    "1. Example: Finding users with more than one friend:\n",
    "    ```cypher\n",
    "    MATCH (u:User)-[:FRIEND]->(friend)\n",
    "    WITH u, COUNT(friend) AS friendCount\n",
    "    WHERE friendCount > 1\n",
    "    RETURN u.name, friendCount\n",
    "    ```\n",
    "    - **MATCH**: Finds all users and their friends.\n",
    "    - **WITH**: Passes each user and the count of their friends to the next part of the query.\n",
    "    - **WHERE**: Filters users who have more than one friend.\n",
    "    - **RETURN**: Returns the user's name and the count of their friends.\n",
    "\n",
    "2. Example: Creating a relationship with intermediate filtering:\n",
    "    ```cypher\n",
    "    MATCH (a:User {name: 'Alice'})-[:FRIEND]->(b:User)\n",
    "    WITH a, b\n",
    "    WHERE b.age > 30\n",
    "    CREATE (a)-[:MENTOR]->(b)\n",
    "    RETURN a.name, b.name\n",
    "    ```\n",
    "    - **MATCH**: Finds Alice and her friends.\n",
    "    - **WITH**: Passes Alice and her friends to the next part of the query.\n",
    "    - **WHERE**: Filters friends who are older than 30.\n",
    "    - **CREATE**: Creates a `MENTOR` relationship between Alice and those friends.\n",
    "    - **RETURN**: Returns the names of Alice and her mentees.\n",
    "\n",
    "The `WITH` clause allows breaking complex queries into manageable parts. We can aggregate data and pass the results to the next part of the query. It also helps in scoping variables to avoid naming conflicts and allows reusing variables in subsequent query parts."
   ]
  },
  {
   "cell_type": "code",
   "execution_count": 21,
   "id": "9208876e-6d20-443f-97f1-3a05a662bb6b",
   "metadata": {
    "tags": []
   },
   "outputs": [
    {
     "name": "stdout",
     "output_type": "stream",
     "text": [
      "Users and their friends:\n",
      "Gabriella is friends with Eli\n",
      "Immanuel is friends with Charlie\n",
      "Alice is friends with Charlie, Bob\n",
      "Bob is friends with Felix, Alice\n",
      "Charlie is friends with Immanuel, Alice\n",
      "Eli is friends with Gabriella\n",
      "Felix is friends with Bob\n",
      "\n",
      "Users and their follows:\n",
      "Alice follows 1 users: Charlie\n",
      "Bob follows 1 users: Eli\n",
      "Eli follows 1 users: Bob\n",
      "Hannah follows 1 users: Felix\n",
      "Charlie follows 1 users: Gabriella\n"
     ]
    }
   ],
   "source": [
    "# Function to collect friends of each user\n",
    "def collect_friends(tx):\n",
    "    result = tx.run(\"\"\"\n",
    "    MATCH (u:User)-[:FRIEND]->(friend)\n",
    "    WITH u, COLLECT(friend.name) AS friends\n",
    "    RETURN u.name AS userName, friends\n",
    "    \"\"\")\n",
    "    return [(record[\"userName\"], record[\"friends\"]) for record in result]\n",
    "\n",
    "# Execute the function and print results\n",
    "with driver.session() as session:\n",
    "    users = session.execute_read(collect_friends)\n",
    "    print(\"Users and their friends:\")\n",
    "    for userName, friends in users:\n",
    "        print(f\"{userName} is friends with {', '.join(friends)}\")\n",
    "\n",
    "        \n",
    "# Function to collect and count follow relationships\n",
    "def collect_and_count_follows(tx):\n",
    "    result = tx.run(\"\"\"\n",
    "    MATCH (u:User)-[:FOLLOW]->(followed)\n",
    "    WITH u, COLLECT(followed.name) AS follows, COUNT(followed) AS followCount\n",
    "    RETURN u.name AS userName, follows, followCount\n",
    "    \"\"\")\n",
    "    return [(record[\"userName\"], record[\"follows\"], record[\"followCount\"]) for record in result]\n",
    "\n",
    "# Execute the function and print results\n",
    "with driver.session() as session:\n",
    "    users = session.execute_read(collect_and_count_follows)\n",
    "    print(\"\\nUsers and their follows:\")\n",
    "    for userName, follows, followCount in users:\n",
    "        print(f\"{userName} follows {followCount} users: {', '.join(follows)}\")\n"
   ]
  },
  {
   "cell_type": "markdown",
   "id": "f9076686-0e7c-439d-bf3e-c945ec8d8e56",
   "metadata": {},
   "source": [
    "##### Using the `COLLECT` function\n",
    "The `COLLECT` function is used to aggregate values into a list. This is particularly useful when we need to group related values together.\n",
    "\n",
    "1. Example: collecting friends of each user:\n",
    "    ```cypher\n",
    "    MATCH (u:User)-[:FRIEND]->(friend)\n",
    "    WITH u, COLLECT(friend.name) AS friends\n",
    "    RETURN u.name, friends\n",
    "    ```\n",
    "    - **MATCH**: Finds all users and their friends.\n",
    "    - **WITH**: Groups friends of each user into a list.\n",
    "    - **RETURN**: Returns the user's name and a list of their friends' names.\n",
    "\n",
    "2. Example: Collecting and counting follow relationships:\n",
    "    ```cypher\n",
    "    MATCH (u:User)-[:FOLLOW]->(followed)\n",
    "    WITH u, COLLECT(followed.name) AS follows, COUNT(followed) AS followCount\n",
    "    RETURN u.name, follows, followCount\n",
    "    ```\n",
    "    - **MATCH**: Finds all users and the users they follow.\n",
    "    - **WITH**: Groups the followed users' names into a list and counts them.\n",
    "    - **RETURN**: Returns the user's name, the list of followed users, and the count of followed users."
   ]
  },
  {
   "cell_type": "code",
   "execution_count": 22,
   "id": "184febcb-268b-4bdb-8051-5bae8d965bc7",
   "metadata": {
    "tags": []
   },
   "outputs": [
    {
     "name": "stdout",
     "output_type": "stream",
     "text": [
      "Users followed by Alice or friends with Bob:\n",
      "Charlie (followed_by_Alice)\n",
      "Felix (friend_of_Bob)\n",
      "Alice (friend_of_Bob)\n"
     ]
    }
   ],
   "source": [
    "# Function to find users who are either followed by 'Alice' or are friends with 'Bob'\n",
    "def find_users_followed_by_alice_or_friends_with_bob(tx):\n",
    "    result = tx.run(\"\"\"\n",
    "    MATCH (alice:User {name: 'Alice'})-[:FOLLOW]->(u:User)\n",
    "    RETURN u.name AS name, 'followed_by_Alice' AS relationship_type\n",
    "    UNION\n",
    "    MATCH (bob:User {name: 'Bob'})-[:FRIEND]->(u:User)\n",
    "    RETURN u.name AS name, 'friend_of_Bob' AS relationship_type\n",
    "    \"\"\")\n",
    "    return [(record[\"name\"], record[\"relationship_type\"]) for record in result]\n",
    "\n",
    "# Execute the function and print results\n",
    "with driver.session() as session:\n",
    "    users = session.execute_read(find_users_followed_by_alice_or_friends_with_bob)\n",
    "    print(\"Users followed by Alice or friends with Bob:\")\n",
    "    for name, relationship_type in users:\n",
    "        print(f\"{name} ({relationship_type})\")"
   ]
  },
  {
   "cell_type": "markdown",
   "id": "87e3dd54-cc28-4a33-bce5-6fcebc42a269",
   "metadata": {},
   "source": [
    "##### Using the `UNION` clause\n",
    "The `UNION` clause is used to combine the results of two or more queries into a single result set. It removes duplicate rows from the result set by default. If we want to include duplicates, we can use `UNION ALL`. In the example, `UNION` combines the results of two `MATCH` queries:\n",
    "1. The first `MATCH` query finds users who are followed by 'Alice' and returns their names along with the relationship type 'followed_by_Alice'.\n",
    "2. The second `MATCH` query finds users who are friends with 'Bob' and returns their names along with the relationship type 'friend_of_Bob'."
   ]
  },
  {
   "cell_type": "code",
   "execution_count": 23,
   "id": "58bb8c9b-923e-4a37-9ecf-39f7cacc6386",
   "metadata": {
    "tags": []
   },
   "outputs": [
    {
     "name": "stdout",
     "output_type": "stream",
     "text": [
      "Friends added successfully.\n",
      "Friendships created successfully.\n"
     ]
    }
   ],
   "source": [
    "# Function to add multiple friends for a user\n",
    "def add_friends(tx, user_name, friends):\n",
    "    tx.run(\"\"\"\n",
    "    MATCH (u:User {name: $user_name})\n",
    "    FOREACH (friend IN $friends |\n",
    "      MERGE (f:User {name: friend})\n",
    "      MERGE (u)-[:FRIEND]->(f)\n",
    "    )\n",
    "    \"\"\", user_name=user_name, friends=friends)\n",
    "\n",
    "# Execute the function\n",
    "with driver.session() as session:\n",
    "    session.execute_write(add_friends, \"Alice\", [\"David\", \"Eva\", \"Frank\"])\n",
    "\n",
    "print(\"Friends added successfully.\")\n",
    "\n",
    "\n",
    "\n",
    "# Function to create multiple relationships from a list of friends\n",
    "def create_friendships(tx, user_name, friends_list):\n",
    "    tx.run(\"\"\"\n",
    "    MATCH (u:User {name: $user_name})\n",
    "    UNWIND $friends_list AS friendName\n",
    "    MERGE (f:User {name: friendName})\n",
    "    MERGE (u)-[:FRIEND]->(f)\n",
    "    \"\"\", user_name=user_name, friends_list=friends_list)\n",
    "\n",
    "# Execute the function\n",
    "with driver.session() as session:\n",
    "    session.execute_write(create_friendships, \"Alice\", [\"Tom\", \"Bob\", \"Esther\", \"Daniella\"])\n",
    "\n",
    "print(\"Friendships created successfully.\")"
   ]
  },
  {
   "cell_type": "markdown",
   "id": "16e10e27-cfcf-4f38-808a-247f1d048289",
   "metadata": {},
   "source": [
    "##### Using the `FOREACH` clause\n",
    "The `FOREACH` clause is used to perform updating operations on each element of a collection. It is useful for iterating over a list of elements and performing a set of actions on each element. In the example, `FOREACH` iterates over each element in the `friends` list. For each friend, it either finds or creates a `User` node and creates a `FRIEND` relationship from the user `Alice` to the friend.\n",
    "\n",
    "##### Using the `UNWIND` Clause\n",
    "`UNWIND` is used to expand a list into a set of rows. It transforms a single list of values into individual rows, which allows us to process each item in the list separately. This is particularly useful when we have a list of items and we need to perform operations on each item.\n",
    "\n",
    "**Comparison**:\n",
    "\n",
    "`UNWIND` and `FOREACH` are both used to handle lists in Cypher queries.\n",
    "* `UNWIND`: Transforms a list into separate rows for more general processing, often followed by other Cypher operations. It provides more flexibility and can be combined with other Cypher clauses (e.g., `WITH`) for more complex queries and aggregations.\n",
    "* `FOREACH`: Executes commands for each item in a list without transforming it into separate rows. It is more straightforward way for executing actions on each list item without needing to manage intermediate results."
   ]
  },
  {
   "cell_type": "code",
   "execution_count": 24,
   "id": "dafb4329-1278-4304-9dc9-fe6e46d66975",
   "metadata": {
    "tags": []
   },
   "outputs": [
    {
     "name": "stdout",
     "output_type": "stream",
     "text": [
      "Users categorized by age group:\n",
      "Gabriella: adult\n",
      "Hannah: adult\n",
      "Immanuel: young adult\n",
      "David: adult\n",
      "Eva: adult\n",
      "Frank: adult\n",
      "Tom: adult\n",
      "Esther: adult\n",
      "Daniella: adult\n",
      "Alice: adult\n",
      "Bob: young adult\n",
      "Charlie: adult\n",
      "Eli: adult\n",
      "Felix: young adult\n"
     ]
    }
   ],
   "source": [
    "# Function to categorize users by age group\n",
    "def categorize_users_by_age(tx):\n",
    "    result = tx.run(\"\"\"\n",
    "    MATCH (u:User)\n",
    "    RETURN u.name AS name,\n",
    "           CASE \n",
    "             WHEN u.age < 20 THEN 'teenager'\n",
    "             WHEN u.age < 30 THEN 'young adult'\n",
    "             ELSE 'adult'\n",
    "           END AS ageGroup\n",
    "    \"\"\")\n",
    "    return [(record[\"name\"], record[\"ageGroup\"]) for record in result]\n",
    "\n",
    "# Execute the function and print results\n",
    "with driver.session() as session:\n",
    "    users = session.execute_read(categorize_users_by_age)\n",
    "    print(\"Users categorized by age group:\")\n",
    "    for name, ageGroup in users:\n",
    "        print(f\"{name}: {ageGroup}\")"
   ]
  },
  {
   "cell_type": "markdown",
   "id": "c04ee609-32a9-4c0c-960b-93f6452f0417",
   "metadata": {},
   "source": [
    "##### Using the `CASE` clause\n",
    "The `CASE` clause is used to implement conditional logic within Cypher queries. It allows you to return different values based on specified conditions, similar to an `IF-THEN-ELSE` statement in other programming languages. In our example, `CASE` evaluates the `u.age` property for each user and returns a corresponding age group. The `WHEN` clauses define the conditions for different age groups: 'teenager', 'young adult', and 'adult'. The result set contains the user names and their respective age groups."
   ]
  },
  {
   "cell_type": "code",
   "execution_count": 25,
   "id": "a63fe0a3-e0b8-4716-abcb-e6ce298960b9",
   "metadata": {
    "tags": []
   },
   "outputs": [
    {
     "name": "stdout",
     "output_type": "stream",
     "text": [
      "Users and their optional followers:\n",
      "Gabriella: No followers\n",
      "Hannah: Felix\n",
      "Immanuel: No followers\n",
      "David: No followers\n",
      "Eva: No followers\n",
      "Frank: No followers\n",
      "Tom: No followers\n",
      "Esther: No followers\n",
      "Daniella: No followers\n",
      "Alice: Charlie\n",
      "Bob: Eli\n",
      "Charlie: Gabriella\n",
      "Eli: Bob\n",
      "Felix: No followers\n"
     ]
    }
   ],
   "source": [
    "# Function to find users and their optional followers\n",
    "def find_users_with_optional_followers(tx):\n",
    "    result = tx.run(\"\"\"\n",
    "    MATCH (u:User)\n",
    "    OPTIONAL MATCH (u)-[:FOLLOW]->(f:User)\n",
    "    RETURN u.name AS userName, COLLECT(f.name) AS followers\n",
    "    \"\"\")\n",
    "    return [(record[\"userName\"], record[\"followers\"]) for record in result]\n",
    "\n",
    "# Execute the function and print results\n",
    "with driver.session() as session:\n",
    "    user_followers = session.execute_read(find_users_with_optional_followers)\n",
    "    print(\"Users and their optional followers:\")\n",
    "    for userName, followers in user_followers:\n",
    "        followers_list = \", \".join(followers) if followers else \"No followers\"\n",
    "        print(f\"{userName}: {followers_list}\")"
   ]
  },
  {
   "cell_type": "markdown",
   "id": "56893ed8-c0db-4ce5-9237-d4c728b08012",
   "metadata": {},
   "source": [
    "##### Using the `OPTIONAL MATCH` clause\n",
    "`OPTIONAL MATCH` is used to include patterns that might not exist in the graph. Unlike `MATCH`, which requires a pattern to be present for the query to return results, `OPTIONAL MATCH` returns results even if the pattern is missing. This is useful for including optional data in the results without filtering out nodes or relationships that might not have that data."
   ]
  },
  {
   "cell_type": "code",
   "execution_count": 26,
   "id": "46f301f1-4847-4ab1-af4c-e121dcb76f74",
   "metadata": {
    "tags": []
   },
   "outputs": [
    {
     "name": "stdout",
     "output_type": "stream",
     "text": [
      "Posts within the specified time range:\n",
      "Post ID: 1, Content: Hello, world!, Timestamp: 2024-07-16T10:00:00.000000000+00:00\n",
      "Post ID: 2, Content: Good night!, Timestamp: 2024-07-16T11:00:00.000000000+00:00\n",
      "\n",
      "Posts within the specified distance from the location:\n",
      "Post ID: 1, Content: Hello, world!, Location: POINT(-74.006 40.7128)\n"
     ]
    }
   ],
   "source": [
    "# Find posts within a certain time range\n",
    "def find_posts_in_time_range(tx, start_time, end_time):\n",
    "    result = tx.run(\"\"\"\n",
    "    MATCH (p:Post)\n",
    "    WHERE p.timestamp >= datetime($start_time) AND p.timestamp <= datetime($end_time)\n",
    "    RETURN p.id AS postId, p.content AS content, p.timestamp AS timestamp\n",
    "    \"\"\", start_time=start_time, end_time=end_time)\n",
    "    return [(record[\"postId\"], record[\"content\"], record[\"timestamp\"]) for record in result]\n",
    "\n",
    "# Execute the function and print results\n",
    "with driver.session() as session:\n",
    "    posts = session.execute_read(find_posts_in_time_range, \"2024-07-16T00:00:00Z\", \"2024-07-16T23:59:59Z\")\n",
    "    print(\"Posts within the specified time range:\")\n",
    "    for postId, content, timestamp in posts:\n",
    "        print(f\"Post ID: {postId}, Content: {content}, Timestamp: {timestamp}\")\n",
    "\n",
    "\n",
    "#Find posts within a certain distance from a given point\n",
    "def find_posts_near_location(tx, latitude, longitude, max_distance):\n",
    "    result = tx.run(\"\"\"\n",
    "    MATCH (p:Post)\n",
    "    WHERE point.distance(p.location, point({latitude: $latitude, longitude: $longitude})) < $max_distance\n",
    "    RETURN p.id AS postId, p.content AS content, p.location AS location\n",
    "    \"\"\", latitude=latitude, longitude=longitude, max_distance=max_distance)\n",
    "    return [(record[\"postId\"], record[\"content\"], record[\"location\"]) for record in result]\n",
    "\n",
    "# Execute the function and print results\n",
    "with driver.session() as session:\n",
    "    posts = session.execute_read(find_posts_near_location, 40.7128, -74.0060, 10000)  # 10 km radius\n",
    "    print(\"\\nPosts within the specified distance from the location:\")\n",
    "    for postId, content, location in posts:\n",
    "        print(f\"Post ID: {postId}, Content: {content}, Location: {location}\")\n"
   ]
  },
  {
   "cell_type": "markdown",
   "id": "04ce2c91-734d-4a5a-99bf-e7b69a12a36f",
   "metadata": {},
   "source": [
    "### Deleting all nodes and relationships\n",
    "To completely empty the database, we can delete all nodes and relationships. This is useful when we want to reset the database."
   ]
  },
  {
   "cell_type": "code",
   "execution_count": 27,
   "id": "c2696b55-be9d-4176-83ce-12774b0e9553",
   "metadata": {
    "tags": []
   },
   "outputs": [
    {
     "name": "stdout",
     "output_type": "stream",
     "text": [
      "All nodes and relationships deleted successfully.\n"
     ]
    }
   ],
   "source": [
    "# Function to delete all nodes and relationships\n",
    "def delete_all(tx):\n",
    "    tx.run(\"MATCH (n) DETACH DELETE n\")\n",
    "\n",
    "# Delete all nodes and relationships in the database\n",
    "with driver.session() as session:\n",
    "    session.execute_write(delete_all)\n",
    "\n",
    "print(\"All nodes and relationships deleted successfully.\")"
   ]
  },
  {
   "cell_type": "markdown",
   "id": "fa6bd2de-61ce-459d-9617-5c1a7f74ac51",
   "metadata": {},
   "source": [
    "#### Closing the connection\n",
    "Finally, close the connection to the database."
   ]
  },
  {
   "cell_type": "code",
   "execution_count": 28,
   "id": "06635ba0-d95f-43f8-b1cb-a4de6b782899",
   "metadata": {
    "tags": []
   },
   "outputs": [
    {
     "name": "stdout",
     "output_type": "stream",
     "text": [
      "Connection closed.\n"
     ]
    }
   ],
   "source": [
    "# Close the driver connection\n",
    "driver.close()\n",
    "print(\"Connection closed.\")"
   ]
  }
 ],
 "metadata": {
  "kernelspec": {
   "display_name": "Python 3 (ipykernel)",
   "language": "python",
   "name": "python3"
  },
  "language_info": {
   "codemirror_mode": {
    "name": "ipython",
    "version": 3
   },
   "file_extension": ".py",
   "mimetype": "text/x-python",
   "name": "python",
   "nbconvert_exporter": "python",
   "pygments_lexer": "ipython3",
   "version": "3.9.13"
  }
 },
 "nbformat": 4,
 "nbformat_minor": 5
}
