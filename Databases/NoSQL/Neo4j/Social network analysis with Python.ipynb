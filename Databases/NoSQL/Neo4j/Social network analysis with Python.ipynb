{
 "cells": [
  {
   "cell_type": "markdown",
   "id": "8297939c-526b-4c00-9cd3-45a2dc5b8b7a",
   "metadata": {},
   "source": [
    "# Neo4j and Cypher Basics with Python: Social Network Analysis\n",
    "\n",
    "In this notebook, we will practice Neo4j, a graph database, to model a simple social network. We will cover the concepts of:\n",
    "- Connecting to a Neo4j database from Python\n",
    "- Creating nodes and relationships\n",
    "- Running Cypher queries\n",
    "\n",
    "**Create a new project**:\n",
    "A project in Neo4j is a container for one or more databases. It helps to organize multiple databases that are related to a specific task, theme, or application. For example, we might have a project called \"Social Network\" that contains databases for development, testing, and production environments.\n",
    "   - Open Neo4j Desktop.\n",
    "   - Click on \"New\" under the \"Projects\" section.\n",
    "   - Name the project (e.g., \"Social Network\").\n",
    "   \n",
    "**Create a new database**:\n",
    "A database within a project is an actual instance where the graph data is stored. Each database has its own data and schema. For example, within the \"Social Network\" project, we might have a database named \"SocialNetworkDB\" where we store all user nodes and their relationships.\n",
    "   - Click on \"Add\" and choose \"Local DBMS\".\n",
    "   - Name your database (e.g., \"Social Network DBMS\"), set a password (e.g., \"SocialNetworkDBMS\"), and click \"Create\".\n",
    "   - Click \"Start\" to start your new database.\n",
    "\n",
    "\n",
    "#### Setting up the connection to Neo4j from Python\n",
    "First, we need to set up the connection to the Neo4j database. Make sure the Neo4j database is running."
   ]
  },
  {
   "cell_type": "code",
   "execution_count": 1,
   "id": "00bbd021-1bc0-4790-bd15-c54f305a3e34",
   "metadata": {},
   "outputs": [
    {
     "name": "stdout",
     "output_type": "stream",
     "text": [
      "Connection successful\n"
     ]
    }
   ],
   "source": [
    "from neo4j import GraphDatabase\n",
    "\n",
    "# Define the connection details\n",
    "uri = \"bolt://localhost:7687\"  # default URI for Neo4j\n",
    "user = \"neo4j\"  # default user\n",
    "password = \"SocialNetworkDBMS\"\n",
    "\n",
    "# Create a driver instance\n",
    "driver = GraphDatabase.driver(uri, auth=(user, password))\n",
    "\n",
    "# Verify the connection\n",
    "def test_connection(driver):\n",
    "    try:\n",
    "        with driver.session() as session:\n",
    "            result = session.run(\"RETURN 'Connection successful' AS message\")\n",
    "            for record in result:\n",
    "                print(record[\"message\"])\n",
    "    except Exception as e:\n",
    "        print(f\"Connection failed: {e}\")\n",
    "\n",
    "test_connection(driver)"
   ]
  },
  {
   "cell_type": "markdown",
   "id": "89f72eef-3373-4e88-8cfe-4291f969c9d3",
   "metadata": {},
   "source": [
    "### Creating nodes\n",
    "Nodes are the entities in a graph. In our social network, users will be nodes."
   ]
  },
  {
   "cell_type": "code",
   "execution_count": 2,
   "id": "f6c5b7f9-55c0-4eb2-9260-719b5ae00082",
   "metadata": {},
   "outputs": [
    {
     "name": "stdout",
     "output_type": "stream",
     "text": [
      "Users created successfully.\n"
     ]
    }
   ],
   "source": [
    "# Function to create a user node\n",
    "def create_user(tx, name, age):\n",
    "    tx.run(\"CREATE (u:User {name: $name, age: $age})\", name=name, age=age)\n",
    "\n",
    "# Add some users to the database\n",
    "with driver.session() as session:\n",
    "    session.execute_write(create_user, \"Alice\", 30)\n",
    "    session.execute_write(create_user, \"Bob\", 25)\n",
    "    session.execute_write(create_user, \"Charlie\", 35)\n",
    "    session.execute_write(create_user, \"Diana\", 28)\n",
    "    session.execute_write(create_user, \"Eli\", 33)\n",
    "\n",
    "print(\"Users created successfully.\")"
   ]
  },
  {
   "cell_type": "markdown",
   "id": "53edd4ab-676c-4ee6-834a-f1ac14afab5b",
   "metadata": {},
   "source": [
    "##### Explanation of the CREATE query\n",
    "\n",
    "The `CREATE` query is used to create nodes and relationships in the graph. Here's the structure:\n",
    "\n",
    "```cypher\n",
    "CREATE (alias:Label {property1: value1, property2: value2, ...})\n",
    "```\n",
    "\n",
    "* `alias`: A variable that refers to the node. Variables in Cypher are used to refer to nodes, relationships, and paths in queries.\n",
    "* `Label`: The label that categorizes the node.\n",
    "* `property1, property2, ...`: Properties of the node.\n",
    "\n",
    "In our example:\n",
    "\n",
    "```cypher\n",
    "CREATE (u:User {name: $name, age: $age})\n",
    "```\n",
    "\n",
    "* `(u:User ...)` creates a node with the label `User`. Here, `u` is a variable representing a node with the label User.\n",
    "* `{name: $name, age: $age}` sets the properties `name` and `age`.\n",
    "\n",
    "### Creating relationships\n",
    "\n",
    "#### Creating directed relationships\n",
    "Relationships connect nodes. Relationships can be directed, indicating a one-way connection between nodes. For example, a \"follower\" relationship where one user follows another."
   ]
  },
  {
   "cell_type": "code",
   "execution_count": 3,
   "id": "99d50cee-23fb-44c7-b99f-debc6f8591ef",
   "metadata": {
    "tags": []
   },
   "outputs": [
    {
     "name": "stdout",
     "output_type": "stream",
     "text": [
      "Follower relationships created successfully.\n"
     ]
    }
   ],
   "source": [
    "# Function to create a FOLLOW relationship (directed)\n",
    "def create_follower(tx, follower, followed):\n",
    "    tx.run(\"\"\"\n",
    "    MATCH (a:User {name: $follower}), (b:User {name: $followed})\n",
    "    CREATE (a)-[:FOLLOW]->(b)\n",
    "    \"\"\", follower=follower, followed=followed)\n",
    "\n",
    "# Add some follower relationships to the database\n",
    "with driver.session() as session:\n",
    "    session.execute_write(create_follower, \"Alice\", \"Charlie\")\n",
    "    session.execute_write(create_follower, \"Bob\", \"Eli\")\n",
    "\n",
    "print(\"Follower relationships created successfully.\")"
   ]
  },
  {
   "cell_type": "markdown",
   "id": "fa0f03c3-c193-44cf-9487-d4d66ae9d7a0",
   "metadata": {},
   "source": [
    "##### Explanation of the MATCH and CREATE query\n",
    "\n",
    "The `MATCH` query is used to find existing nodes, and the `CREATE` query is used to create relationships. Here's the structure:\n",
    "\n",
    "```cypher\n",
    "MATCH (alias1:Label {property1: value1}), (alias2:Label {property2: value2})\n",
    "CREATE (alias1)-[:RELATIONSHIP_TYPE]->(alias2)\n",
    "```\n",
    "\n",
    "* `MATCH (alias1:Label {property1: value1})`: Finds nodes that match the given label and property.\n",
    "* `CREATE (alias1)-[:RELATIONSHIP_TYPE]->(alias2)`: Creates a relationship of type `RELATIONSHIP_TYPE` between the matched nodes found in the `MATCH` query.\n",
    "\n",
    "In our example:\n",
    "\n",
    "```cypher\n",
    "MATCH (a:User {name: $follower}), (b:User {name: $followed})\n",
    "CREATE (a)-[:FOLLOW]->(b)\n",
    "```\n",
    "\n",
    "* `MATCH (a:User {name: $follower}), (b:User {name: $followed})`: Finds users named `$follower` and `$followed`.\n",
    "* `CREATE (a)-[:FOLLOW]->(b)`: Creates a `FOLLOW` relationship from user `a` to user `b`.\n",
    "\n",
    "#### Creating bidirectional relationships\n",
    "To model a bidirectional relationship, such as friendship, we need to create two directed relationships in opposite directions. In our social network, users can be friends with each other."
   ]
  },
  {
   "cell_type": "code",
   "execution_count": 4,
   "id": "5e0b33a5-a53e-4cc8-ac2c-4229c49dd965",
   "metadata": {
    "tags": []
   },
   "outputs": [
    {
     "name": "stdout",
     "output_type": "stream",
     "text": [
      "Friendships created successfully.\n"
     ]
    }
   ],
   "source": [
    "# Function to create a FRIEND relationship between two users\n",
    "def create_friendship(tx, name1, name2):\n",
    "    tx.run(\"\"\"\n",
    "    MATCH (a:User {name: $name1}), (b:User {name: $name2})\n",
    "    CREATE (a)-[:FRIEND]->(b), (b)-[:FRIEND]->(a)\n",
    "    \"\"\", name1=name1, name2=name2)\n",
    "\n",
    "# Add some friendships to the database\n",
    "with driver.session() as session:\n",
    "    session.execute_write(create_friendship, \"Alice\", \"Bob\")\n",
    "    session.execute_write(create_friendship, \"Alice\", \"Charlie\")\n",
    "    session.execute_write(create_friendship, \"Bob\", \"Diana\")\n",
    "    session.execute_write(create_friendship, \"Diana\", \"Eli\")\n",
    "\n",
    "print(\"Friendships created successfully.\")"
   ]
  },
  {
   "cell_type": "markdown",
   "id": "90c60f0a-2a20-45a6-a9d7-f0d9257b88c0",
   "metadata": {},
   "source": [
    "##### Explanation CREATE query for bidirectional relationships\n",
    "\n",
    "In our example:\n",
    "\n",
    "```cypher\n",
    "MATCH (a:User {name: $name1}), (b:User {name: $name2})\n",
    "CREATE (a)-[:FRIEND]->(b), (b)-[:FRIEND]->(a)\n",
    "```\n",
    "\n",
    "* `MATCH (a:User {name: $name1}), (b:User {name: $name2})`: Finds users named `$name1` and `$name2`.\n",
    "* `CREATE (a)-[:FRIEND]->(b), (b)-[:FRIEND]->(a)`: Creates a `FRIEND` relationship for users `a` and user `b`.\n",
    "    * `(a)-[:FRIEND]->(b)`: Creates a `FRIEND` relationship from user `a` to user `b`.\n",
    "    * `(b)-[:FRIEND]->(a)`: Creates a `FRIEND` relationship from user `b` to user `a`.\n",
    "\n",
    "### Adding different types of nodes\n",
    "We can have different types of nodes representing various entities in the domain model. For example, in a social network, besides User nodes, we might have Post and Comment nodes."
   ]
  },
  {
   "cell_type": "code",
   "execution_count": 5,
   "id": "5d282e03-4a94-42bc-bbbf-f76611acc863",
   "metadata": {
    "tags": []
   },
   "outputs": [
    {
     "name": "stdout",
     "output_type": "stream",
     "text": [
      "Posts and comments created successfully.\n"
     ]
    }
   ],
   "source": [
    "# Function to create a post node\n",
    "def create_post(tx, id, content, timestamp):\n",
    "    tx.run(\"CREATE (p:Post {id: $id, content: $content, timestamp: $timestamp})\", id=id, content=content, timestamp=timestamp)\n",
    "\n",
    "# Function to create a comment node\n",
    "def create_comment(tx, id, content, timestamp):\n",
    "    tx.run(\"CREATE (c:Comment {id: $id, content: $content, timestamp: $timestamp})\", id=id, content=content, timestamp=timestamp)\n",
    "\n",
    "# Add some posts and comments to the database\n",
    "with driver.session() as session:\n",
    "    session.execute_write(create_post, 1, \"Hello, world!\", \"2024-07-16T10:00:00Z\")\n",
    "    session.execute_write(create_post, 2, \"Good night!\", \"2024-07-16T11:00:00Z\")\n",
    "    session.execute_write(create_comment, 1, \"Great post!\", \"2024-07-16T12:00:00Z\")\n",
    "    session.execute_write(create_comment, 2, \"Very informative.\", \"2024-07-16T12:30:00Z\")\n",
    "\n",
    "print(\"Posts and comments created successfully.\")"
   ]
  },
  {
   "cell_type": "markdown",
   "id": "9b1bffc4-9ef0-424b-824f-0a7a1a3ddc69",
   "metadata": {},
   "source": [
    "In these queries, we create two types of nodes, `Post` and `Comment`, each with properties such as `id`, `content`, and `timestamp`.\n",
    "\n",
    "### Creating Relationships between Users, Posts, and Comments\n",
    "Let's add the relationships between users and posts (e.g., POSTED), and between users and comments (e.g., COMMENTED)."
   ]
  },
  {
   "cell_type": "code",
   "execution_count": 6,
   "id": "1c787b12-f082-48f9-9856-e1643d72ce58",
   "metadata": {
    "tags": []
   },
   "outputs": [
    {
     "name": "stdout",
     "output_type": "stream",
     "text": [
      "Relationships created successfully.\n"
     ]
    }
   ],
   "source": [
    "# Function to create a POSTED relationship between a user and a post\n",
    "def create_posted_relationship(tx, user_name, post_id):\n",
    "    tx.run(\"\"\"\n",
    "    MATCH (u:User {name: $user_name}), (p:Post {id: $post_id})\n",
    "    CREATE (u)-[:POSTED]->(p)\n",
    "    \"\"\", user_name=user_name, post_id=post_id)\n",
    "\n",
    "# Function to create a COMMENTED relationship between a user and a comment\n",
    "def create_commented_relationship(tx, user_name, comment_id):\n",
    "    tx.run(\"\"\"\n",
    "    MATCH (u:User {name: $user_name}), (c:Comment {id: $comment_id})\n",
    "    CREATE (u)-[:COMMENTED]->(c)\n",
    "    \"\"\", user_name=user_name, comment_id=comment_id)\n",
    "    \n",
    "    # Function to create a HAS_COMMENT relationship between a post and a comment\n",
    "def create_has_comment_relationship(tx, post_id, comment_id):\n",
    "    tx.run(\"\"\"\n",
    "    MATCH (p:Post {id: $post_id}), (c:Comment {id: $comment_id})\n",
    "    CREATE (p)-[:HAS_COMMENT]->(c)\n",
    "    \"\"\", post_id=post_id, comment_id=comment_id)\n",
    "    \n",
    "# Add relationships to the database\n",
    "with driver.session() as session:\n",
    "    # Alice and Bob post something\n",
    "    session.execute_write(create_posted_relationship, \"Alice\", 1)\n",
    "    session.execute_write(create_posted_relationship, \"Bob\", 2)\n",
    "    \n",
    "    # Alice and Charlie comment on posts\n",
    "    session.execute_write(create_commented_relationship, \"Alice\", 1)\n",
    "    session.execute_write(create_commented_relationship, \"Charlie\", 2)\n",
    "    \n",
    "    # Connect comments to posts\n",
    "    session.execute_write(create_has_comment_relationship, 1, 2)\n",
    "    session.execute_write(create_has_comment_relationship, 2, 1)\n",
    "\n",
    "print(\"Relationships created successfully.\")"
   ]
  },
  {
   "cell_type": "markdown",
   "id": "cf0c807f-eea5-4d6f-b99b-0c6a978a9a16",
   "metadata": {},
   "source": [
    "### Adding properties to relationships\n",
    "Relationships can have properties just like nodes. These properties can store various types of data such as strings, numbers, booleans, and arrays. This is useful for adding metadata to the relationships."
   ]
  },
  {
   "cell_type": "code",
   "execution_count": 7,
   "id": "3f311806-e1ed-45c5-be28-e138f0a0385d",
   "metadata": {
    "tags": []
   },
   "outputs": [
    {
     "name": "stdout",
     "output_type": "stream",
     "text": [
      "Likes with properties created successfully.\n"
     ]
    }
   ],
   "source": [
    "# Function to create a LIKES relationship with properties\n",
    "def create_like(tx, user, post_id, timestamp):\n",
    "    tx.run(\"\"\"\n",
    "    MATCH (u:User {name: $user}), (p:Post {id: $post_id})\n",
    "    CREATE (u)-[:LIKES {timestamp: $timestamp}]->(p)\n",
    "    \"\"\", user=user, post_id=post_id, timestamp=timestamp)\n",
    "\n",
    "# Add some likes with properties to the database\n",
    "with driver.session() as session:\n",
    "    session.execute_write(create_like, \"Alice\", 1, \"2024-07-16T12:00:00Z\")\n",
    "    session.execute_write(create_like, \"Bob\", 2, \"2024-07-16T12:30:00Z\")\n",
    "\n",
    "print(\"Likes with properties created successfully.\")"
   ]
  },
  {
   "cell_type": "markdown",
   "id": "12320c77-dfce-4279-ba51-bc278296f0aa",
   "metadata": {},
   "source": [
    "In these queries, we create LIKES relationships between users and posts with an additional timestamp property. A property of the LIKES relationship indicating when the like was made. This property is stored as a string representing the date and time.\n",
    "\n",
    "* `MATCH (u:User {name: $user}), (p:Post {id: $post_id})`: Finds the user and post nodes based on the specified properties.\n",
    "* `CREATE (u)-[:LIKES {timestamp: $timestamp}]->(p)`: Creates a LIKES relationship between the user and post with a timestamp property.\n",
    "\n",
    "### Deleting nodes and relationships\n",
    "\n",
    "We can also delete nodes and relationships using the `DELETE` query."
   ]
  },
  {
   "cell_type": "code",
   "execution_count": 8,
   "id": "c45d84eb-1f3c-4206-bca0-0d3f3fbded6b",
   "metadata": {
    "tags": []
   },
   "outputs": [
    {
     "name": "stdout",
     "output_type": "stream",
     "text": [
      "User Diana deleted successfully.\n",
      "Friendship between Alice and Charlie deleted successfully.\n"
     ]
    }
   ],
   "source": [
    "# Function to delete a user node\n",
    "def delete_user(tx, name):\n",
    "    tx.run(\"MATCH (u:User {name: $name}) DETACH DELETE u\", name=name)\n",
    "\n",
    "# Function to delete a FRIEND relationship\n",
    "def delete_friendship(tx, name1, name2):\n",
    "    tx.run(\"\"\"\n",
    "    MATCH (a:User {name: $name1})-[r:FRIEND]->(b:User {name: $name2})\n",
    "    DELETE r\n",
    "    \"\"\", name1=name1, name2=name2)\n",
    "\n",
    "# Delete user 'Diana'\n",
    "with driver.session() as session:\n",
    "    session.execute_write(delete_user, \"Diana\")\n",
    "\n",
    "print(\"User Diana deleted successfully.\")\n",
    "\n",
    "# Delete friendship between 'Alice' and 'Charlie'\n",
    "with driver.session() as session:\n",
    "    session.execute_write(delete_friendship, \"Alice\", \"Charlie\")\n",
    "\n",
    "print(\"Friendship between Alice and Charlie deleted successfully.\")"
   ]
  },
  {
   "cell_type": "markdown",
   "id": "61866fed-507b-4a9b-81b5-26ca184f9805",
   "metadata": {},
   "source": [
    "##### Explanation of the DELETE query\n",
    "\n",
    "The `DELETE` query is used to remove nodes and relationships from the graph.\n",
    "\n",
    "* Deleting a node without relationships - When we delete a node, we are removing that node and all the data associated with it from the graph. If the node does not have any relationships, it can be deleted directly using:\n",
    "    ```cypher\n",
    "    MATCH (u:User {name: $name})\n",
    "    DELETE u\n",
    "    ```\n",
    "\n",
    "* Deleting a node with relationships\n",
    "If the node has relationships, we must also handle those relationships. By default, Neo4j will not allow us to delete a node that still has relationships because it would leave dangling references in the graph. To delete a node and its relationships, you can use the `DETACH DELETE` command. This command removes the node and all relationships connected to it:\n",
    "\n",
    "    ```cypher\n",
    "    MATCH (u:User {name: $name})\n",
    "    DETACH DELETE u\n",
    "    ```\n",
    "\n",
    "    - `DETACH DELETE u`: Ensures that the user and all relationships connected to the user are deleted. This prevents leaving orphaned relationships in the database.\n",
    "\n",
    "* Deleting relationships only\n",
    "We can delete a relationship between nodes without deleting the nodes by matching the relationship and then using the DELETE command:\n",
    "\n",
    "    ```cypher\n",
    "    MATCH (a:User {name: $name1})-[r:FRIEND]->(b:User {name: $name2})\n",
    "    DELETE r\n",
    "    ```\n",
    "    \n",
    "    - `MATCH (a:User {name: $name1})-[r:FRIEND]->(b:User {name: $name2})`: Finds the `FRIEND` relationship between `$name1` and `$name2`.\n",
    "    - `DELETE r`: Deletes the matched relationship."
   ]
  },
  {
   "cell_type": "markdown",
   "id": "c795ac10-0237-402e-9936-1fd25ff66f5c",
   "metadata": {},
   "source": [
    "### Running queries\n",
    "Now, let's run some Cypher queries to retrieve and analyze data."
   ]
  },
  {
   "cell_type": "code",
   "execution_count": 9,
   "id": "8ba6de05-dd1a-4b0a-9ed3-e2eea3a78db2",
   "metadata": {
    "tags": []
   },
   "outputs": [
    {
     "name": "stdout",
     "output_type": "stream",
     "text": [
      "All users:\n",
      "User: Bob, Age: 25\n",
      "User: Charlie, Age: 35\n",
      "User: Alice, Age: 30\n",
      "User: Eli, Age: 33\n",
      "\n",
      "All posts:\n",
      "Post ID: 1, Content: Hello, world!, Timestamp: 2024-07-16T10:00:00Z\n",
      "Post ID: 2, Content: Good night!, Timestamp: 2024-07-16T11:00:00Z\n",
      "\n",
      "All comments:\n",
      "Comment ID: 1, Content: Great post!, Timestamp: 2024-07-16T12:00:00Z\n",
      "Comment ID: 2, Content: Very informative., Timestamp: 2024-07-16T12:30:00Z\n"
     ]
    }
   ],
   "source": [
    "# Function to get all users\n",
    "def get_all_users(tx):\n",
    "    result = tx.run(\"MATCH (u:User) RETURN u.name AS name, u.age AS age\")\n",
    "    return [(record[\"name\"], record[\"age\"]) for record in result]\n",
    "\n",
    "# Retrieve and print all users\n",
    "print(\"All users:\")\n",
    "with driver.session() as session:\n",
    "    users = session.execute_write(get_all_users)\n",
    "    for name, age in users:\n",
    "        print(f\"User: {name}, Age: {age}\")\n",
    "        \n",
    "# Function to get all posts\n",
    "def get_all_posts(tx):\n",
    "    result = tx.run(\"MATCH (p:Post) RETURN p.id AS id, p.content AS content, p.timestamp AS timestamp\")\n",
    "    return [(record[\"id\"], record[\"content\"], record[\"timestamp\"]) for record in result]\n",
    "\n",
    "# Retrieve and print all posts\n",
    "print(\"\\nAll posts:\")\n",
    "with driver.session() as session:\n",
    "    posts = session.execute_write(get_all_posts)\n",
    "    for id, content, timestamp in posts:\n",
    "        print(f\"Post ID: {id}, Content: {content}, Timestamp: {timestamp}\")\n",
    "        \n",
    "# Function to get all comments\n",
    "def get_all_comments(tx):\n",
    "    result = tx.run(\"MATCH (c:Comment) RETURN c.id AS id, c.content AS content, c.timestamp AS timestamp\")\n",
    "    return [(record[\"id\"], record[\"content\"], record[\"timestamp\"]) for record in result]\n",
    "\n",
    "# Retrieve and print all comments\n",
    "print(\"\\nAll comments:\")\n",
    "with driver.session() as session:\n",
    "    comments = session.execute_write(get_all_comments)\n",
    "    for id, content, timestamp in comments:\n",
    "        print(f\"Comment ID: {id}, Content: {content}, Timestamp: {timestamp}\")"
   ]
  },
  {
   "cell_type": "markdown",
   "id": "bc76f3dd-1945-4a29-a770-d8abd2a3129a",
   "metadata": {},
   "source": [
    "##### Explanation of the MATCH and RETURN query\n",
    "\n",
    "The `MATCH` query is used to find nodes, and the `RETURN` query is used to get specific data from those nodes. Here's the structure:\n",
    "\n",
    "```cypher\n",
    "MATCH (alias:Label)\n",
    "RETURN alias.property1, alias.property2, ...\n",
    "```\n",
    "\n",
    "- `MATCH (alias:Label)`: Finds nodes with the given label.\n",
    "- `RETURN alias.property1, alias.property2, ...`: Returns the specified properties of the matched nodes.\n",
    "\n",
    "In our example:\n",
    "```cypher\n",
    "MATCH (u:User)\n",
    "RETURN u.name AS name, u.age AS age\n",
    "```\n",
    "- `MATCH (u:User)`: Finds all nodes with the label `User`. `u` is an alias for these nodes.\n",
    "- `RETURN u.name AS name, u.age AS age`: Returns the `name` and `age` properties of the matched nodes."
   ]
  },
  {
   "cell_type": "code",
   "execution_count": 10,
   "id": "38365f98-8437-458c-badf-9d00405fe40b",
   "metadata": {
    "tags": []
   },
   "outputs": [
    {
     "name": "stdout",
     "output_type": "stream",
     "text": [
      "Alice's friends:\n",
      "Friend: Bob, Age: 25\n"
     ]
    }
   ],
   "source": [
    "# Function to get friends of a user\n",
    "def get_friends(tx, name):\n",
    "    result = tx.run(\"\"\"\n",
    "    MATCH (u:User {name: $name})-[:FRIEND]->(friend)\n",
    "    RETURN friend.name AS name, friend.age AS age\n",
    "    \"\"\", name=name)\n",
    "    return [(record[\"name\"], record[\"age\"]) for record in result]\n",
    "\n",
    "# Retrieve and print friends of Alice\n",
    "with driver.session() as session:\n",
    "    friends = session.execute_write(get_friends, \"Alice\")\n",
    "    print(\"Alice's friends:\")\n",
    "    for name, age in friends:\n",
    "        print(f\"Friend: {name}, Age: {age}\")"
   ]
  },
  {
   "cell_type": "markdown",
   "id": "d2503a59-3e23-43d3-94dc-97c650343e00",
   "metadata": {},
   "source": [
    "##### Explanation of the MATCH and RETURN query with relationships\n",
    "In this query, we are also matching relationships. Here's the structure:\n",
    "\n",
    "```cypher\n",
    "MATCH (alias1:Label {property1: value1})-[:RELATIONSHIP_TYPE]->(alias2)\n",
    "RETURN alias2.property1, alias2.property2, ...\n",
    "```\n",
    "\n",
    "- `MATCH (alias1:Label {property1: value1})-[:RELATIONSHIP_TYPE]->(alias2)`: Finds nodes and their relationships.\n",
    "- `RETURN alias2.property1, alias2.property2, ...`: Returns the specified properties of the related nodes.\n",
    "\n",
    "In our example, we're finding users by their name and then finding their friends through the `FRIEND` relationship.:\n",
    "```cypher\n",
    "MATCH (u:User {name: $name})-[:FRIEND]->(friend)\n",
    "RETURN friend.name AS name, friend.age AS age\n",
    "```\n",
    "- `MATCH (u:User {name: $name})-[:FRIEND]->(friend)`: Finds users named `$name` and their friends.\n",
    "    - `MATCH (u:User {name: $name})`: Finds the user node with the specified name. `$name` is a parameter.\n",
    "    - `[:FRIEND]->(friend)`: Finds nodes that have a `FRIEND` relationship from the matched user. `friend` is an alias for these related nodes.\n",
    "- `RETURN friend.name AS name, friend.age AS age`: Returns the `name` and `age` properties of the friends."
   ]
  },
  {
   "cell_type": "code",
   "execution_count": 11,
   "id": "9de9580d-0a90-4ead-ae75-06e2233f7c12",
   "metadata": {
    "tags": []
   },
   "outputs": [
    {
     "name": "stdout",
     "output_type": "stream",
     "text": [
      "Alice's friends of friends:\n",
      "Friend of Friend: Alice, Age: 30\n"
     ]
    }
   ],
   "source": [
    "# Function to get friends of friends\n",
    "def get_friends_of_friends(tx, name):\n",
    "    result = tx.run(\"\"\"\n",
    "    MATCH (u:User {name: $name})-[:FRIEND]->(:User)-[:FRIEND]->(fof)\n",
    "    RETURN fof.name AS name, fof.age AS age\n",
    "    \"\"\", name=name)\n",
    "    return [(record[\"name\"], record[\"age\"]) for record in result]\n",
    "\n",
    "# Retrieve and print friends of friends of Alice\n",
    "with driver.session() as session:\n",
    "    friends_of_friends = session.execute_write(get_friends_of_friends, \"Alice\")\n",
    "    print(\"Alice's friends of friends:\")\n",
    "    for name, age in friends_of_friends:\n",
    "        print(f\"Friend of Friend: {name}, Age: {age}\")"
   ]
  },
  {
   "cell_type": "markdown",
   "id": "6025382a-94ab-4ebd-8fc8-33958664c24c",
   "metadata": {},
   "source": [
    "##### Explanation of the MATCH and RETURN query for friends of friends\n",
    "\n",
    "This query finds nodes that are connected through two relationships. Here's the structure:\n",
    "\n",
    "```cypher\n",
    "MATCH (alias1:Label {property1: value1})-[:RELATIONSHIP_TYPE1]->(:Label)-[:RELATIONSHIP_TYPE2]->(alias2)\n",
    "RETURN alias2.property1, alias2.property2, ...\n",
    "```\n",
    "\n",
    "- `MATCH (alias1:Label {property1: value1})-[:RELATIONSHIP_TYPE1]->(:Label)-[:RELATIONSHIP_TYPE2]->(alias2)`: Finds nodes connected through two relationships.\n",
    "- `RETURN alias2.property1, alias2.property2, ...`: Returns the specified properties of the nodes at the end of the relationships.\n",
    "\n",
    "In our example:\n",
    "```cypher\n",
    "MATCH (u:User {name: $name})-[:FRIEND]->(:User)-[:FRIEND]->(fof)\n",
    "RETURN fof.name AS name, fof.age AS age\n",
    "```\n",
    "- `MATCH (u:User {name: $name})-[:FRIEND]->(:User)-[:FRIEND]->(fof)`: Finds users named `$name` and their friends' friends.\n",
    "    - `MATCH (u:User {name: $name})`: Finds the user node with the specified name.\n",
    "    - `[:FRIEND]->(:User)`: Finds user nodes that are friends of the matched user. The friend nodes are not given an alias here.\n",
    "    - `[:FRIEND]->(fof)`: Finds nodes that are friends of the friend nodes. `fof` is an alias for these friends of friends.\n",
    "- `RETURN fof.name AS name, fof.age AS age`: Returns the `name` and `age` properties of the friends' friends."
   ]
  },
  {
   "cell_type": "code",
   "execution_count": 12,
   "id": "b436eb8c-b7f1-4a6e-ac67-589da75cfc3d",
   "metadata": {
    "tags": []
   },
   "outputs": [
    {
     "name": "stdout",
     "output_type": "stream",
     "text": [
      "Users who liked post ID 1:\n",
      "User: Alice, Liked at: 2024-07-16T12:00:00Z\n"
     ]
    }
   ],
   "source": [
    "# Function to get users who liked a specific post\n",
    "def get_users_who_liked_post(tx, post_id):\n",
    "    result = tx.run(\"\"\"\n",
    "    MATCH (u:User)-[r:LIKES]->(p:Post {id: $post_id})\n",
    "    RETURN u.name AS name, r.timestamp AS liked_at\n",
    "    \"\"\", post_id=post_id)\n",
    "    return [(record[\"name\"], record[\"liked_at\"]) for record in result]\n",
    "\n",
    "# Retrieve and print users who liked post with ID 1\n",
    "with driver.session() as session:\n",
    "    likers = session.execute_write(get_users_who_liked_post, 1)\n",
    "    print(\"Users who liked post ID 1:\")\n",
    "    for name, liked_at in likers:\n",
    "        print(f\"User: {name}, Liked at: {liked_at}\")\n"
   ]
  },
  {
   "cell_type": "markdown",
   "id": "aad523e6-ca57-41a2-9986-db22b406de2c",
   "metadata": {},
   "source": [
    "##### Explanation\n",
    "\n",
    "* `MATCH (u:User)-[r:LIKES]->(p:Post {id: $post_id})`: Finds users who have a LIKES relationship to the post with the specified id.\n",
    "* `RETURN u.name AS name, r.timestamp AS liked_at`: Returns the name property of the users and the timestamp property of the LIKES relationship."
   ]
  },
  {
   "cell_type": "code",
   "execution_count": 13,
   "id": "60deaa49-a570-4fbf-9f91-94d3f0584797",
   "metadata": {
    "tags": []
   },
   "outputs": [
    {
     "name": "stdout",
     "output_type": "stream",
     "text": [
      "Posts made by Alice:\n",
      "Post ID: 1, Content: Hello, world!, Timestamp: 2024-07-16T10:00:00Z\n",
      "\n",
      "Comments made by Alice:\n",
      "Comment ID: 1, Content: Great post!, Timestamp: 2024-07-16T12:00:00Z\n",
      "\n",
      "Comments on Post ID 1:\n",
      "Comment ID: 2, Content: Very informative., Timestamp: 2024-07-16T12:30:00Z\n"
     ]
    }
   ],
   "source": [
    "# Function to get posts made by a specific user\n",
    "def get_posts_by_user(tx, user_name):\n",
    "    result = tx.run(\"\"\"\n",
    "    MATCH (u:User {name: $user_name})-[:POSTED]->(p:Post)\n",
    "    RETURN p.id AS id, p.content AS content, p.timestamp AS timestamp\n",
    "    \"\"\", user_name=user_name)\n",
    "    return [(record[\"id\"], record[\"content\"], record[\"timestamp\"]) for record in result]\n",
    "\n",
    "# Retrieve and print posts made by Alice\n",
    "with driver.session() as session:\n",
    "    posts = session.execute_write(get_posts_by_user, \"Alice\")\n",
    "    print(\"Posts made by Alice:\")\n",
    "    for id, content, timestamp in posts:\n",
    "        print(f\"Post ID: {id}, Content: {content}, Timestamp: {timestamp}\")\n",
    "\n",
    "\n",
    "# Function to get comments made by a specific user\n",
    "def get_comments_by_user(tx, user_name):\n",
    "    result = tx.run(\"\"\"\n",
    "    MATCH (u:User {name: $user_name})-[:COMMENTED]->(c:Comment)\n",
    "    RETURN c.id AS id, c.content AS content, c.timestamp AS timestamp\n",
    "    \"\"\", user_name=user_name)\n",
    "    return [(record[\"id\"], record[\"content\"], record[\"timestamp\"]) for record in result]\n",
    "\n",
    "# Retrieve and print comments made by Alice\n",
    "with driver.session() as session:\n",
    "    comments = session.execute_write(get_comments_by_user, \"Alice\")\n",
    "    print(\"\\nComments made by Alice:\")\n",
    "    for id, content, timestamp in comments:\n",
    "        print(f\"Comment ID: {id}, Content: {content}, Timestamp: {timestamp}\")\n",
    "        \n",
    "\n",
    "# Function to get comments on a specific post\n",
    "def get_comments_on_post(tx, post_id):\n",
    "    result = tx.run(\"\"\"\n",
    "    MATCH (p:Post {id: $post_id})-[:HAS_COMMENT]->(c:Comment)\n",
    "    RETURN c.id AS id, c.content AS content, c.timestamp AS timestamp\n",
    "    \"\"\", post_id=post_id)\n",
    "    return [(record[\"id\"], record[\"content\"], record[\"timestamp\"]) for record in result]\n",
    "\n",
    "# Retrieve and print comments on post with ID 1\n",
    "with driver.session() as session:\n",
    "    comments = session.execute_write(get_comments_on_post, 1)\n",
    "    print(\"\\nComments on Post ID 1:\")\n",
    "    for id, content, timestamp in comments:\n",
    "        print(f\"Comment ID: {id}, Content: {content}, Timestamp: {timestamp}\")"
   ]
  },
  {
   "cell_type": "markdown",
   "id": "de1cf0d5-3b09-45de-b214-d7341bc59d9f",
   "metadata": {},
   "source": [
    "##### Explanation\n",
    "\n",
    "* `MATCH (u:User {name: $user_name})-[:POSTED]->(p:Post)`: Finds posts that a user with the specified name has posted.\n",
    "* `RETURN p.id AS id, p.content AS content, p.timestamp AS timestamp`: Returns the id, content, and timestamp properties of the posts."
   ]
  },
  {
   "cell_type": "markdown",
   "id": "04ce2c91-734d-4a5a-99bf-e7b69a12a36f",
   "metadata": {},
   "source": [
    "### Deleting all nodes and relationships\n",
    "To completely empty the database, we can delete all nodes and relationships. This is useful when we want to reset the database."
   ]
  },
  {
   "cell_type": "code",
   "execution_count": 14,
   "id": "c2696b55-be9d-4176-83ce-12774b0e9553",
   "metadata": {
    "tags": []
   },
   "outputs": [
    {
     "name": "stdout",
     "output_type": "stream",
     "text": [
      "All nodes and relationships deleted successfully.\n"
     ]
    }
   ],
   "source": [
    "# Function to delete all nodes and relationships\n",
    "def delete_all(tx):\n",
    "    tx.run(\"MATCH (n) DETACH DELETE n\")\n",
    "\n",
    "# Delete all nodes and relationships in the database\n",
    "with driver.session() as session:\n",
    "    session.execute_write(delete_all)\n",
    "\n",
    "print(\"All nodes and relationships deleted successfully.\")"
   ]
  },
  {
   "cell_type": "markdown",
   "id": "fa6bd2de-61ce-459d-9617-5c1a7f74ac51",
   "metadata": {},
   "source": [
    "#### Closing the connection\n",
    "Finally, close the connection to the database."
   ]
  },
  {
   "cell_type": "code",
   "execution_count": 15,
   "id": "06635ba0-d95f-43f8-b1cb-a4de6b782899",
   "metadata": {
    "tags": []
   },
   "outputs": [
    {
     "name": "stdout",
     "output_type": "stream",
     "text": [
      "Connection closed.\n"
     ]
    }
   ],
   "source": [
    "# Close the driver connection\n",
    "driver.close()\n",
    "print(\"Connection closed.\")"
   ]
  }
 ],
 "metadata": {
  "kernelspec": {
   "display_name": "Python 3 (ipykernel)",
   "language": "python",
   "name": "python3"
  },
  "language_info": {
   "codemirror_mode": {
    "name": "ipython",
    "version": 3
   },
   "file_extension": ".py",
   "mimetype": "text/x-python",
   "name": "python",
   "nbconvert_exporter": "python",
   "pygments_lexer": "ipython3",
   "version": "3.9.13"
  }
 },
 "nbformat": 4,
 "nbformat_minor": 5
}
